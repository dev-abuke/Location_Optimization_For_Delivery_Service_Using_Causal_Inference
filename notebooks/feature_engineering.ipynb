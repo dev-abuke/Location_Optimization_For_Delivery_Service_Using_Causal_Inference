{
 "cells": [
  {
   "cell_type": "code",
   "execution_count": 2,
   "metadata": {},
   "outputs": [],
   "source": [
    "import pandas as pd\n",
    "import os"
   ]
  },
  {
   "cell_type": "code",
   "execution_count": 3,
   "metadata": {},
   "outputs": [],
   "source": [
    "os.chdir(\"..\")"
   ]
  },
  {
   "cell_type": "code",
   "execution_count": 4,
   "metadata": {},
   "outputs": [
    {
     "data": {
      "text/plain": [
       "'c:\\\\Users\\\\user\\\\Downloads\\\\ten_academy\\\\week8\\\\Causal_Inference'"
      ]
     },
     "execution_count": 4,
     "metadata": {},
     "output_type": "execute_result"
    }
   ],
   "source": [
    "os.getcwd()"
   ]
  },
  {
   "cell_type": "code",
   "execution_count": 5,
   "metadata": {},
   "outputs": [],
   "source": [
    "# Load the datasets\n",
    "completed_orders_no_outliers = pd.read_csv('data/completed_orders_no_outliers.csv')"
   ]
  },
  {
   "cell_type": "code",
   "execution_count": 6,
   "metadata": {},
   "outputs": [
    {
     "data": {
      "text/html": [
       "<div>\n",
       "<style scoped>\n",
       "    .dataframe tbody tr th:only-of-type {\n",
       "        vertical-align: middle;\n",
       "    }\n",
       "\n",
       "    .dataframe tbody tr th {\n",
       "        vertical-align: top;\n",
       "    }\n",
       "\n",
       "    .dataframe thead th {\n",
       "        text-align: right;\n",
       "    }\n",
       "</style>\n",
       "<table border=\"1\" class=\"dataframe\">\n",
       "  <thead>\n",
       "    <tr style=\"text-align: right;\">\n",
       "      <th></th>\n",
       "      <th>Trip ID</th>\n",
       "      <th>Trip Origin</th>\n",
       "      <th>Trip Destination</th>\n",
       "      <th>Trip Start Time</th>\n",
       "      <th>Trip End Time</th>\n",
       "      <th>Trip Duration(minutes)</th>\n",
       "      <th>Day of Week</th>\n",
       "      <th>Hour of Day</th>\n",
       "      <th>Origin Lat</th>\n",
       "      <th>Origin Lon</th>\n",
       "      <th>Destination Lat</th>\n",
       "      <th>Destination Lon</th>\n",
       "      <th>Trip Distance (km)</th>\n",
       "      <th>Trip Date</th>\n",
       "    </tr>\n",
       "  </thead>\n",
       "  <tbody>\n",
       "    <tr>\n",
       "      <th>0</th>\n",
       "      <td>391996</td>\n",
       "      <td>6.508813001668548,3.37740316890347</td>\n",
       "      <td>6.650969799999999,3.3450307</td>\n",
       "      <td>2021-07-01 07:28:04</td>\n",
       "      <td>2021-07-01 07:29:37</td>\n",
       "      <td>1.550000</td>\n",
       "      <td>3</td>\n",
       "      <td>7</td>\n",
       "      <td>6.508813</td>\n",
       "      <td>3.377403</td>\n",
       "      <td>6.650970</td>\n",
       "      <td>3.345031</td>\n",
       "      <td>16.206549</td>\n",
       "      <td>2021-07-01</td>\n",
       "    </tr>\n",
       "    <tr>\n",
       "      <th>1</th>\n",
       "      <td>391997</td>\n",
       "      <td>6.4316714,3.4555375</td>\n",
       "      <td>6.4280814653326,3.4721885847586</td>\n",
       "      <td>2021-07-01 06:38:04</td>\n",
       "      <td>2021-07-01 07:07:28</td>\n",
       "      <td>29.400000</td>\n",
       "      <td>3</td>\n",
       "      <td>6</td>\n",
       "      <td>6.431671</td>\n",
       "      <td>3.455538</td>\n",
       "      <td>6.428081</td>\n",
       "      <td>3.472189</td>\n",
       "      <td>1.882675</td>\n",
       "      <td>2021-07-01</td>\n",
       "    </tr>\n",
       "    <tr>\n",
       "      <th>2</th>\n",
       "      <td>391998</td>\n",
       "      <td>6.631679399999999,3.3388976</td>\n",
       "      <td>6.508324099999999,3.3590397</td>\n",
       "      <td>2021-07-01 06:21:02</td>\n",
       "      <td>2021-07-01 07:02:23</td>\n",
       "      <td>41.350000</td>\n",
       "      <td>3</td>\n",
       "      <td>6</td>\n",
       "      <td>6.631679</td>\n",
       "      <td>3.338898</td>\n",
       "      <td>6.508324</td>\n",
       "      <td>3.359040</td>\n",
       "      <td>13.895773</td>\n",
       "      <td>2021-07-01</td>\n",
       "    </tr>\n",
       "    <tr>\n",
       "      <th>3</th>\n",
       "      <td>391999</td>\n",
       "      <td>6.572757200000001,3.3677082</td>\n",
       "      <td>6.584881099999999,3.3614073</td>\n",
       "      <td>2021-07-01 07:16:07</td>\n",
       "      <td>2021-07-01 07:29:42</td>\n",
       "      <td>13.583333</td>\n",
       "      <td>3</td>\n",
       "      <td>7</td>\n",
       "      <td>6.572757</td>\n",
       "      <td>3.367708</td>\n",
       "      <td>6.584881</td>\n",
       "      <td>3.361407</td>\n",
       "      <td>1.517186</td>\n",
       "      <td>2021-07-01</td>\n",
       "    </tr>\n",
       "    <tr>\n",
       "      <th>4</th>\n",
       "      <td>392001</td>\n",
       "      <td>6.6010417,3.2766339</td>\n",
       "      <td>6.4501069,3.3916154</td>\n",
       "      <td>2021-07-01 09:30:59</td>\n",
       "      <td>2021-07-01 09:34:36</td>\n",
       "      <td>3.616667</td>\n",
       "      <td>3</td>\n",
       "      <td>9</td>\n",
       "      <td>6.601042</td>\n",
       "      <td>3.276634</td>\n",
       "      <td>6.450107</td>\n",
       "      <td>3.391615</td>\n",
       "      <td>21.048262</td>\n",
       "      <td>2021-07-01</td>\n",
       "    </tr>\n",
       "    <tr>\n",
       "      <th>...</th>\n",
       "      <td>...</td>\n",
       "      <td>...</td>\n",
       "      <td>...</td>\n",
       "      <td>...</td>\n",
       "      <td>...</td>\n",
       "      <td>...</td>\n",
       "      <td>...</td>\n",
       "      <td>...</td>\n",
       "      <td>...</td>\n",
       "      <td>...</td>\n",
       "      <td>...</td>\n",
       "      <td>...</td>\n",
       "      <td>...</td>\n",
       "      <td>...</td>\n",
       "    </tr>\n",
       "    <tr>\n",
       "      <th>505318</th>\n",
       "      <td>1637696</td>\n",
       "      <td>6.448218499999999,3.4772075</td>\n",
       "      <td>6.437787399999999,3.481670199999999</td>\n",
       "      <td>2021-12-30 20:35:06</td>\n",
       "      <td>2021-12-30 21:02:59</td>\n",
       "      <td>27.883333</td>\n",
       "      <td>3</td>\n",
       "      <td>20</td>\n",
       "      <td>6.448218</td>\n",
       "      <td>3.477208</td>\n",
       "      <td>6.437787</td>\n",
       "      <td>3.481670</td>\n",
       "      <td>1.260348</td>\n",
       "      <td>2021-12-30</td>\n",
       "    </tr>\n",
       "    <tr>\n",
       "      <th>505319</th>\n",
       "      <td>1637702</td>\n",
       "      <td>6.442320899999999,3.4736868</td>\n",
       "      <td>6.436589333407897,3.5559738188407835</td>\n",
       "      <td>2021-12-30 20:48:13</td>\n",
       "      <td>2021-12-30 21:43:49</td>\n",
       "      <td>55.600000</td>\n",
       "      <td>3</td>\n",
       "      <td>20</td>\n",
       "      <td>6.442321</td>\n",
       "      <td>3.473687</td>\n",
       "      <td>6.436589</td>\n",
       "      <td>3.555974</td>\n",
       "      <td>9.114481</td>\n",
       "      <td>2021-12-30</td>\n",
       "    </tr>\n",
       "    <tr>\n",
       "      <th>505320</th>\n",
       "      <td>1637704</td>\n",
       "      <td>6.4281982,3.492248</td>\n",
       "      <td>6.448088500000001,3.4775747</td>\n",
       "      <td>2021-12-30 20:51:45</td>\n",
       "      <td>2021-12-30 21:41:32</td>\n",
       "      <td>49.783333</td>\n",
       "      <td>3</td>\n",
       "      <td>20</td>\n",
       "      <td>6.428198</td>\n",
       "      <td>3.492248</td>\n",
       "      <td>6.448089</td>\n",
       "      <td>3.477575</td>\n",
       "      <td>2.742308</td>\n",
       "      <td>2021-12-30</td>\n",
       "    </tr>\n",
       "    <tr>\n",
       "      <th>505321</th>\n",
       "      <td>1637705</td>\n",
       "      <td>6.5869296,3.3632966</td>\n",
       "      <td>6.637906899999999,3.3339515</td>\n",
       "      <td>2021-12-30 20:48:50</td>\n",
       "      <td>2021-12-30 21:08:28</td>\n",
       "      <td>19.633333</td>\n",
       "      <td>3</td>\n",
       "      <td>20</td>\n",
       "      <td>6.586930</td>\n",
       "      <td>3.363297</td>\n",
       "      <td>6.637907</td>\n",
       "      <td>3.333951</td>\n",
       "      <td>6.529710</td>\n",
       "      <td>2021-12-30</td>\n",
       "    </tr>\n",
       "    <tr>\n",
       "      <th>505322</th>\n",
       "      <td>1637709</td>\n",
       "      <td>6.647209999999999,3.4851489</td>\n",
       "      <td>6.454915198823159,3.555839938365194</td>\n",
       "      <td>2021-12-30 20:55:38</td>\n",
       "      <td>2021-12-30 22:25:00</td>\n",
       "      <td>89.366667</td>\n",
       "      <td>3</td>\n",
       "      <td>20</td>\n",
       "      <td>6.647210</td>\n",
       "      <td>3.485149</td>\n",
       "      <td>6.454915</td>\n",
       "      <td>3.555840</td>\n",
       "      <td>22.763604</td>\n",
       "      <td>2021-12-30</td>\n",
       "    </tr>\n",
       "  </tbody>\n",
       "</table>\n",
       "<p>505323 rows × 14 columns</p>\n",
       "</div>"
      ],
      "text/plain": [
       "        Trip ID                         Trip Origin  \\\n",
       "0        391996  6.508813001668548,3.37740316890347   \n",
       "1        391997                 6.4316714,3.4555375   \n",
       "2        391998         6.631679399999999,3.3388976   \n",
       "3        391999         6.572757200000001,3.3677082   \n",
       "4        392001                 6.6010417,3.2766339   \n",
       "...         ...                                 ...   \n",
       "505318  1637696         6.448218499999999,3.4772075   \n",
       "505319  1637702         6.442320899999999,3.4736868   \n",
       "505320  1637704                  6.4281982,3.492248   \n",
       "505321  1637705                 6.5869296,3.3632966   \n",
       "505322  1637709         6.647209999999999,3.4851489   \n",
       "\n",
       "                            Trip Destination      Trip Start Time  \\\n",
       "0                6.650969799999999,3.3450307  2021-07-01 07:28:04   \n",
       "1            6.4280814653326,3.4721885847586  2021-07-01 06:38:04   \n",
       "2                6.508324099999999,3.3590397  2021-07-01 06:21:02   \n",
       "3                6.584881099999999,3.3614073  2021-07-01 07:16:07   \n",
       "4                        6.4501069,3.3916154  2021-07-01 09:30:59   \n",
       "...                                      ...                  ...   \n",
       "505318   6.437787399999999,3.481670199999999  2021-12-30 20:35:06   \n",
       "505319  6.436589333407897,3.5559738188407835  2021-12-30 20:48:13   \n",
       "505320           6.448088500000001,3.4775747  2021-12-30 20:51:45   \n",
       "505321           6.637906899999999,3.3339515  2021-12-30 20:48:50   \n",
       "505322   6.454915198823159,3.555839938365194  2021-12-30 20:55:38   \n",
       "\n",
       "              Trip End Time  Trip Duration(minutes)  Day of Week  Hour of Day  \\\n",
       "0       2021-07-01 07:29:37                1.550000            3            7   \n",
       "1       2021-07-01 07:07:28               29.400000            3            6   \n",
       "2       2021-07-01 07:02:23               41.350000            3            6   \n",
       "3       2021-07-01 07:29:42               13.583333            3            7   \n",
       "4       2021-07-01 09:34:36                3.616667            3            9   \n",
       "...                     ...                     ...          ...          ...   \n",
       "505318  2021-12-30 21:02:59               27.883333            3           20   \n",
       "505319  2021-12-30 21:43:49               55.600000            3           20   \n",
       "505320  2021-12-30 21:41:32               49.783333            3           20   \n",
       "505321  2021-12-30 21:08:28               19.633333            3           20   \n",
       "505322  2021-12-30 22:25:00               89.366667            3           20   \n",
       "\n",
       "        Origin Lat  Origin Lon  Destination Lat  Destination Lon  \\\n",
       "0         6.508813    3.377403         6.650970         3.345031   \n",
       "1         6.431671    3.455538         6.428081         3.472189   \n",
       "2         6.631679    3.338898         6.508324         3.359040   \n",
       "3         6.572757    3.367708         6.584881         3.361407   \n",
       "4         6.601042    3.276634         6.450107         3.391615   \n",
       "...            ...         ...              ...              ...   \n",
       "505318    6.448218    3.477208         6.437787         3.481670   \n",
       "505319    6.442321    3.473687         6.436589         3.555974   \n",
       "505320    6.428198    3.492248         6.448089         3.477575   \n",
       "505321    6.586930    3.363297         6.637907         3.333951   \n",
       "505322    6.647210    3.485149         6.454915         3.555840   \n",
       "\n",
       "        Trip Distance (km)   Trip Date  \n",
       "0                16.206549  2021-07-01  \n",
       "1                 1.882675  2021-07-01  \n",
       "2                13.895773  2021-07-01  \n",
       "3                 1.517186  2021-07-01  \n",
       "4                21.048262  2021-07-01  \n",
       "...                    ...         ...  \n",
       "505318            1.260348  2021-12-30  \n",
       "505319            9.114481  2021-12-30  \n",
       "505320            2.742308  2021-12-30  \n",
       "505321            6.529710  2021-12-30  \n",
       "505322           22.763604  2021-12-30  \n",
       "\n",
       "[505323 rows x 14 columns]"
      ]
     },
     "execution_count": 6,
     "metadata": {},
     "output_type": "execute_result"
    }
   ],
   "source": [
    "completed_orders_no_outliers"
   ]
  },
  {
   "cell_type": "markdown",
   "metadata": {},
   "source": [
    "### Feature Engineering\n",
    "\n",
    "Create new features based on time and location, such as trip duration, day of the week, hour of the day, and whether the trip occurred during a holiday or special event.\n",
    "Compute distances, driving speed, and other relevant metrics."
   ]
  },
  {
   "cell_type": "markdown",
   "metadata": {},
   "source": [
    "- **Day of the Week** Numeric representation of the day (0 = Monday, 6 = Sunday).\n",
    "- **Hour of the Day** Hour of the day when the trip started."
   ]
  },
  {
   "cell_type": "markdown",
   "metadata": {},
   "source": [
    "### Distance Calculation\n",
    "\n",
    "Compute distances between trip origin and destination using latitude and longitude coordinates. (Note: We may need additional data for latitude and longitude of trip origins and destinations if not already included.)"
   ]
  },
  {
   "cell_type": "code",
   "execution_count": 7,
   "metadata": {},
   "outputs": [
    {
     "data": {
      "text/plain": [
       "(0    6.508813001668548,3.37740316890347\n",
       " 1                   6.4316714,3.4555375\n",
       " 2           6.631679399999999,3.3388976\n",
       " 3           6.572757200000001,3.3677082\n",
       " 4                   6.6010417,3.2766339\n",
       " 5           6.565087699999999,3.3844415\n",
       " 6                   6.6636484,3.3082058\n",
       " 7                   6.4308171,3.4341552\n",
       " 8           6.499156300000001,3.3585173\n",
       " 9           6.535043099999999,3.3316238\n",
       " Name: Trip Origin, dtype: object,\n",
       " 0        6.650969799999999,3.3450307\n",
       " 1    6.4280814653326,3.4721885847586\n",
       " 2        6.508324099999999,3.3590397\n",
       " 3        6.584881099999999,3.3614073\n",
       " 4                6.4501069,3.3916154\n",
       " 5        6.499696300000001,3.3509075\n",
       " 6                 6.6185421,3.301634\n",
       " 7        6.435460000000001,3.4846547\n",
       " 8                6.4280911,3.5157172\n",
       " 9        6.500039999999999,3.3248596\n",
       " Name: Trip Destination, dtype: object)"
      ]
     },
     "execution_count": 7,
     "metadata": {},
     "output_type": "execute_result"
    }
   ],
   "source": [
    "# Inspect the contents of the 'Trip Origin' and 'Trip Destination' columns\n",
    "trip_origins_sample = completed_orders_no_outliers['Trip Origin'].head(10)\n",
    "trip_destinations_sample = completed_orders_no_outliers['Trip Destination'].head(10)\n",
    "\n",
    "trip_origins_sample, trip_destinations_sample\n"
   ]
  },
  {
   "cell_type": "code",
   "execution_count": 8,
   "metadata": {},
   "outputs": [
    {
     "data": {
      "text/html": [
       "<div>\n",
       "<style scoped>\n",
       "    .dataframe tbody tr th:only-of-type {\n",
       "        vertical-align: middle;\n",
       "    }\n",
       "\n",
       "    .dataframe tbody tr th {\n",
       "        vertical-align: top;\n",
       "    }\n",
       "\n",
       "    .dataframe thead th {\n",
       "        text-align: right;\n",
       "    }\n",
       "</style>\n",
       "<table border=\"1\" class=\"dataframe\">\n",
       "  <thead>\n",
       "    <tr style=\"text-align: right;\">\n",
       "      <th></th>\n",
       "      <th>Trip ID</th>\n",
       "      <th>Origin Lat</th>\n",
       "      <th>Origin Lon</th>\n",
       "      <th>Destination Lat</th>\n",
       "      <th>Destination Lon</th>\n",
       "      <th>Trip Distance (km)</th>\n",
       "    </tr>\n",
       "  </thead>\n",
       "  <tbody>\n",
       "    <tr>\n",
       "      <th>0</th>\n",
       "      <td>391996</td>\n",
       "      <td>6.508813</td>\n",
       "      <td>3.377403</td>\n",
       "      <td>6.650970</td>\n",
       "      <td>3.345031</td>\n",
       "      <td>16.206549</td>\n",
       "    </tr>\n",
       "    <tr>\n",
       "      <th>1</th>\n",
       "      <td>391997</td>\n",
       "      <td>6.431671</td>\n",
       "      <td>3.455538</td>\n",
       "      <td>6.428081</td>\n",
       "      <td>3.472189</td>\n",
       "      <td>1.882675</td>\n",
       "    </tr>\n",
       "    <tr>\n",
       "      <th>2</th>\n",
       "      <td>391998</td>\n",
       "      <td>6.631679</td>\n",
       "      <td>3.338898</td>\n",
       "      <td>6.508324</td>\n",
       "      <td>3.359040</td>\n",
       "      <td>13.895773</td>\n",
       "    </tr>\n",
       "    <tr>\n",
       "      <th>3</th>\n",
       "      <td>391999</td>\n",
       "      <td>6.572757</td>\n",
       "      <td>3.367708</td>\n",
       "      <td>6.584881</td>\n",
       "      <td>3.361407</td>\n",
       "      <td>1.517186</td>\n",
       "    </tr>\n",
       "    <tr>\n",
       "      <th>4</th>\n",
       "      <td>392001</td>\n",
       "      <td>6.601042</td>\n",
       "      <td>3.276634</td>\n",
       "      <td>6.450107</td>\n",
       "      <td>3.391615</td>\n",
       "      <td>21.048262</td>\n",
       "    </tr>\n",
       "  </tbody>\n",
       "</table>\n",
       "</div>"
      ],
      "text/plain": [
       "   Trip ID  Origin Lat  Origin Lon  Destination Lat  Destination Lon  \\\n",
       "0   391996    6.508813    3.377403         6.650970         3.345031   \n",
       "1   391997    6.431671    3.455538         6.428081         3.472189   \n",
       "2   391998    6.631679    3.338898         6.508324         3.359040   \n",
       "3   391999    6.572757    3.367708         6.584881         3.361407   \n",
       "4   392001    6.601042    3.276634         6.450107         3.391615   \n",
       "\n",
       "   Trip Distance (km)  \n",
       "0           16.206549  \n",
       "1            1.882675  \n",
       "2           13.895773  \n",
       "3            1.517186  \n",
       "4           21.048262  "
      ]
     },
     "execution_count": 8,
     "metadata": {},
     "output_type": "execute_result"
    }
   ],
   "source": [
    "import numpy as np\n",
    "\n",
    "def haversine_distance(lat1, lon1, lat2, lon2):\n",
    "    # Convert latitude and longitude from degrees to radians\n",
    "    lat1, lon1, lat2, lon2 = map(np.radians, [lat1, lon1, lat2, lon2])\n",
    "    \n",
    "    # Haversine formula\n",
    "    dlat = lat2 - lat1\n",
    "    dlon = lon2 - lon1\n",
    "    a = np.sin(dlat/2)**2 + np.cos(lat1) * np.cos(lat2) * np.sin(dlon/2)**2\n",
    "    c = 2 * np.arctan2(np.sqrt(a), np.sqrt(1-a))\n",
    "    r = 6371  # Radius of Earth in kilometers\n",
    "    return c * r\n",
    "\n",
    "# Split latitude and longitude for origins and destinations\n",
    "completed_orders_no_outliers[['Origin Lat', 'Origin Lon']] = completed_orders_no_outliers['Trip Origin'].str.split(',', expand=True).astype(float)\n",
    "completed_orders_no_outliers[['Destination Lat', 'Destination Lon']] = completed_orders_no_outliers['Trip Destination'].str.split(',', expand=True).astype(float)\n",
    "\n",
    "# Calculate the distance between origins and destinations\n",
    "completed_orders_no_outliers['Trip Distance (km)'] = haversine_distance(\n",
    "    completed_orders_no_outliers['Origin Lat'], completed_orders_no_outliers['Origin Lon'],\n",
    "    completed_orders_no_outliers['Destination Lat'], completed_orders_no_outliers['Destination Lon']\n",
    ")\n",
    "\n",
    "# Display the first few rows to confirm the new feature\n",
    "distance_sample = completed_orders_no_outliers[['Trip ID', 'Origin Lat', 'Origin Lon', 'Destination Lat', 'Destination Lon', 'Trip Distance (km)']].head()\n",
    "\n",
    "distance_sample\n"
   ]
  },
  {
   "cell_type": "code",
   "execution_count": 9,
   "metadata": {},
   "outputs": [
    {
     "data": {
      "text/plain": [
       "Trip ID                     int64\n",
       "Trip Origin                object\n",
       "Trip Destination           object\n",
       "Trip Start Time            object\n",
       "Trip End Time              object\n",
       "Trip Duration(minutes)    float64\n",
       "Day of Week                 int64\n",
       "Hour of Day                 int64\n",
       "Origin Lat                float64\n",
       "Origin Lon                float64\n",
       "Destination Lat           float64\n",
       "Destination Lon           float64\n",
       "Trip Distance (km)        float64\n",
       "Trip Date                  object\n",
       "dtype: object"
      ]
     },
     "execution_count": 9,
     "metadata": {},
     "output_type": "execute_result"
    }
   ],
   "source": [
    "completed_orders_no_outliers.dtypes"
   ]
  },
  {
   "cell_type": "code",
   "execution_count": 10,
   "metadata": {},
   "outputs": [],
   "source": [
    "\n",
    "completed_orders_no_outliers['Trip Start Time'] = pd.to_datetime(completed_orders_no_outliers['Trip Start Time'])\n",
    "completed_orders_no_outliers['Trip End Time'] = pd.to_datetime(completed_orders_no_outliers['Trip End Time'])"
   ]
  },
  {
   "cell_type": "code",
   "execution_count": 11,
   "metadata": {},
   "outputs": [
    {
     "data": {
      "text/plain": [
       "(dtype('float64'), dtype('float64'))"
      ]
     },
     "execution_count": 11,
     "metadata": {},
     "output_type": "execute_result"
    }
   ],
   "source": [
    "completed_orders_no_outliers['Origin Lat'][0].dtype, completed_orders_no_outliers['Origin Lon'][0].dtype"
   ]
  },
  {
   "cell_type": "code",
   "execution_count": null,
   "metadata": {},
   "outputs": [],
   "source": [
    "# Import module\n",
    "from geopy.geocoders import Photon\n",
    "geolocator = Photon(user_agent=\"measurements\")\n",
    " \n",
    "# Assign Latitude & Longitude\n",
    "Latitude = completed_orders_no_outliers['Origin Lat'][0]\n",
    "Longitude = completed_orders_no_outliers['Origin Lon'][0]\n",
    " \n",
    "# Displaying Latitude and Longitude\n",
    "print(\"Latitude: \", Latitude)\n",
    "print(\"Longitude: \", Longitude)\n",
    " \n",
    "# Get location with geocode\n",
    "location = geolocator.reverse(f\"{Latitude},{Longitude}\")\n",
    " \n",
    "# Display location\n",
    "print(\"\\nLocation of the given Latitude and Longitude:\")\n",
    "print(location)"
   ]
  },
  {
   "cell_type": "code",
   "execution_count": null,
   "metadata": {},
   "outputs": [],
   "source": [
    "# Import module\n",
    "from geopy.geocoders import Photon\n",
    "geolocator = Photon(user_agent=\"measurements\")\n",
    " \n",
    "# Assign location\n",
    "location_coordinates = completed_orders_no_outliers['Trip Origin'][0]\n",
    " \n",
    "# Displaying Location\n",
    "print(\"Location: \", location_coordinates)\n",
    " \n",
    "# Get location with geocode\n",
    "location_name = geolocator.reverse(location_coordinates)\n",
    " \n",
    "# Display location\n",
    "print(\"\\nLocation of the given Latitude and Longitude:\")\n",
    "print(location_name)"
   ]
  },
  {
   "cell_type": "code",
   "execution_count": 12,
   "metadata": {},
   "outputs": [
    {
     "data": {
      "text/plain": [
       "0"
      ]
     },
     "execution_count": 12,
     "metadata": {},
     "output_type": "execute_result"
    }
   ],
   "source": [
    "completed_orders_no_outliers['Trip Origin'].isna().sum()"
   ]
  },
  {
   "cell_type": "code",
   "execution_count": 13,
   "metadata": {},
   "outputs": [
    {
     "data": {
      "text/plain": [
       "pandas.core.series.Series"
      ]
     },
     "execution_count": 13,
     "metadata": {},
     "output_type": "execute_result"
    }
   ],
   "source": [
    "type(completed_orders_no_outliers['Trip Origin'])"
   ]
  },
  {
   "cell_type": "code",
   "execution_count": null,
   "metadata": {},
   "outputs": [],
   "source": [
    "completed_orders_no_outliers['Location Name'] = completed_orders_no_outliers['Trip Origin'].apply(lambda x: geolocator.reverse(x, timeout=20))"
   ]
  },
  {
   "cell_type": "code",
   "execution_count": null,
   "metadata": {},
   "outputs": [],
   "source": [
    "import pandas as pd\n",
    "from geopy.geocoders import Photon\n",
    "\n",
    "# Get the unique values of the \"Trip Origin\" column\n",
    "unique_values = completed_orders_no_outliers['Trip Origin'].unique()\n",
    "\n",
    "print(\"The unique values in the 'Trip Origin' column are: \",len(unique_values))\n",
    "# Create an empty list to store the reverse geocoded values\n",
    "reverse_geocoded_values = []\n",
    "\n",
    "# Create a geocoder object\n",
    "geolocator = Photon(user_agent=\"measurements\")\n",
    "\n",
    "# Iterate over each unique value and perform reverse geocoding\n",
    "i = 1\n",
    "for value in unique_values:\n",
    "    location = geolocator.reverse(value)\n",
    "    if location:\n",
    "        reverse_geocoded_values.append(location.address)\n",
    "        print(i, \". Address is :: \", location.address)\n",
    "    else:\n",
    "        reverse_geocoded_values.append(None)\n",
    "        print(i, \". Address Not Found :: \", value)\n",
    "    i = i + 1\n",
    "# Create a new column in the DataFrame with the reverse geocoded values\n",
    "completed_orders_no_outliers['Location Name'] = pd.Series(reverse_geocoded_values)"
   ]
  },
  {
   "cell_type": "code",
   "execution_count": null,
   "metadata": {},
   "outputs": [],
   "source": [
    "completed_orders_no_outliers.nunique()"
   ]
  },
  {
   "cell_type": "code",
   "execution_count": null,
   "metadata": {},
   "outputs": [],
   "source": [
    "from geopy.geocoders import Photon\n",
    "geolocator = Photon(user_agent=\"measurements\")\n",
    "\n",
    "location = geolocator.geocode(\"175 5th Avenue NYC\")\n",
    "print(location)"
   ]
  },
  {
   "cell_type": "code",
   "execution_count": null,
   "metadata": {},
   "outputs": [],
   "source": [
    "completed_orders_no_outliers['Trip Origin'][0]"
   ]
  },
  {
   "cell_type": "code",
   "execution_count": null,
   "metadata": {},
   "outputs": [],
   "source": [
    "from pandas import Timestamp\n",
    "\n",
    "\n",
    "m: Timestamp = completed_orders_no_outliers['Trip Start Time'][0]\n",
    "m.to_pydatetime()"
   ]
  },
  {
   "cell_type": "code",
   "execution_count": 45,
   "metadata": {},
   "outputs": [
    {
     "data": {
      "text/html": [
       "<div>\n",
       "<style scoped>\n",
       "    .dataframe tbody tr th:only-of-type {\n",
       "        vertical-align: middle;\n",
       "    }\n",
       "\n",
       "    .dataframe tbody tr th {\n",
       "        vertical-align: top;\n",
       "    }\n",
       "\n",
       "    .dataframe thead th {\n",
       "        text-align: right;\n",
       "    }\n",
       "</style>\n",
       "<table border=\"1\" class=\"dataframe\">\n",
       "  <thead>\n",
       "    <tr style=\"text-align: right;\">\n",
       "      <th></th>\n",
       "      <th>tavg</th>\n",
       "      <th>tmin</th>\n",
       "      <th>tmax</th>\n",
       "      <th>prcp</th>\n",
       "      <th>snow</th>\n",
       "      <th>wdir</th>\n",
       "      <th>wspd</th>\n",
       "      <th>wpgt</th>\n",
       "      <th>pres</th>\n",
       "      <th>tsun</th>\n",
       "    </tr>\n",
       "    <tr>\n",
       "      <th>time</th>\n",
       "      <th></th>\n",
       "      <th></th>\n",
       "      <th></th>\n",
       "      <th></th>\n",
       "      <th></th>\n",
       "      <th></th>\n",
       "      <th></th>\n",
       "      <th></th>\n",
       "      <th></th>\n",
       "      <th></th>\n",
       "    </tr>\n",
       "  </thead>\n",
       "  <tbody>\n",
       "    <tr>\n",
       "      <th>2021-07-01</th>\n",
       "      <td>27.8</td>\n",
       "      <td>24.0</td>\n",
       "      <td>33.0</td>\n",
       "      <td>0.0</td>\n",
       "      <td>NaN</td>\n",
       "      <td>253.0</td>\n",
       "      <td>10.1</td>\n",
       "      <td>NaN</td>\n",
       "      <td>1014.7</td>\n",
       "      <td>NaN</td>\n",
       "    </tr>\n",
       "    <tr>\n",
       "      <th>2021-07-02</th>\n",
       "      <td>27.5</td>\n",
       "      <td>24.9</td>\n",
       "      <td>31.2</td>\n",
       "      <td>NaN</td>\n",
       "      <td>NaN</td>\n",
       "      <td>248.0</td>\n",
       "      <td>9.5</td>\n",
       "      <td>NaN</td>\n",
       "      <td>1014.0</td>\n",
       "      <td>NaN</td>\n",
       "    </tr>\n",
       "    <tr>\n",
       "      <th>2021-07-03</th>\n",
       "      <td>25.9</td>\n",
       "      <td>23.0</td>\n",
       "      <td>29.5</td>\n",
       "      <td>NaN</td>\n",
       "      <td>NaN</td>\n",
       "      <td>258.0</td>\n",
       "      <td>11.0</td>\n",
       "      <td>NaN</td>\n",
       "      <td>1014.6</td>\n",
       "      <td>NaN</td>\n",
       "    </tr>\n",
       "    <tr>\n",
       "      <th>2021-07-04</th>\n",
       "      <td>25.7</td>\n",
       "      <td>22.0</td>\n",
       "      <td>31.0</td>\n",
       "      <td>NaN</td>\n",
       "      <td>NaN</td>\n",
       "      <td>257.0</td>\n",
       "      <td>8.8</td>\n",
       "      <td>NaN</td>\n",
       "      <td>1015.5</td>\n",
       "      <td>NaN</td>\n",
       "    </tr>\n",
       "    <tr>\n",
       "      <th>2021-07-05</th>\n",
       "      <td>27.6</td>\n",
       "      <td>24.0</td>\n",
       "      <td>32.0</td>\n",
       "      <td>NaN</td>\n",
       "      <td>NaN</td>\n",
       "      <td>242.0</td>\n",
       "      <td>8.8</td>\n",
       "      <td>NaN</td>\n",
       "      <td>1015.6</td>\n",
       "      <td>NaN</td>\n",
       "    </tr>\n",
       "  </tbody>\n",
       "</table>\n",
       "</div>"
      ],
      "text/plain": [
       "            tavg  tmin  tmax  prcp  snow   wdir  wspd  wpgt    pres  tsun\n",
       "time                                                                     \n",
       "2021-07-01  27.8  24.0  33.0   0.0   NaN  253.0  10.1   NaN  1014.7   NaN\n",
       "2021-07-02  27.5  24.9  31.2   NaN   NaN  248.0   9.5   NaN  1014.0   NaN\n",
       "2021-07-03  25.9  23.0  29.5   NaN   NaN  258.0  11.0   NaN  1014.6   NaN\n",
       "2021-07-04  25.7  22.0  31.0   NaN   NaN  257.0   8.8   NaN  1015.5   NaN\n",
       "2021-07-05  27.6  24.0  32.0   NaN   NaN  242.0   8.8   NaN  1015.6   NaN"
      ]
     },
     "execution_count": 45,
     "metadata": {},
     "output_type": "execute_result"
    }
   ],
   "source": [
    "from meteostat import Point, Daily, Hourly\n",
    "\n",
    "# Define location for Lagos, Nigeria\n",
    "lagos = Point(6.5244, 3.3792)\n",
    "\n",
    "# Define time range for the data\n",
    "start_date = completed_orders_no_outliers['Trip Start Time'].min().to_pydatetime()\n",
    "# decrease one day from the start date\n",
    "start_date = start_date - pd.Timedelta(days=1)\n",
    "end_date = completed_orders_no_outliers['Trip Start Time'].max().to_pydatetime()\n",
    "start_date, end_date\n",
    "# Get daily weather data for Lagos\n",
    "weather_data = Daily(lagos, start_date, end_date)\n",
    "weather_data = weather_data.fetch()\n",
    "\n",
    "# Display the first few rows of the weather data\n",
    "weather_data.head()"
   ]
  },
  {
   "cell_type": "code",
   "execution_count": 46,
   "metadata": {},
   "outputs": [
    {
     "name": "stderr",
     "output_type": "stream",
     "text": [
      "FutureWarning: 'H' is deprecated and will be removed in a future version, please use 'h' instead.\n"
     ]
    }
   ],
   "source": [
    "weather_data = Hourly(lagos, start_date, end_date)"
   ]
  },
  {
   "cell_type": "code",
   "execution_count": 47,
   "metadata": {},
   "outputs": [],
   "source": [
    "weather_data = weather_data.fetch()"
   ]
  },
  {
   "cell_type": "code",
   "execution_count": 49,
   "metadata": {},
   "outputs": [
    {
     "data": {
      "text/html": [
       "<div>\n",
       "<style scoped>\n",
       "    .dataframe tbody tr th:only-of-type {\n",
       "        vertical-align: middle;\n",
       "    }\n",
       "\n",
       "    .dataframe tbody tr th {\n",
       "        vertical-align: top;\n",
       "    }\n",
       "\n",
       "    .dataframe thead th {\n",
       "        text-align: right;\n",
       "    }\n",
       "</style>\n",
       "<table border=\"1\" class=\"dataframe\">\n",
       "  <thead>\n",
       "    <tr style=\"text-align: right;\">\n",
       "      <th></th>\n",
       "      <th>temp</th>\n",
       "      <th>dwpt</th>\n",
       "      <th>rhum</th>\n",
       "      <th>prcp</th>\n",
       "      <th>snow</th>\n",
       "      <th>wdir</th>\n",
       "      <th>wspd</th>\n",
       "      <th>wpgt</th>\n",
       "      <th>pres</th>\n",
       "      <th>tsun</th>\n",
       "      <th>coco</th>\n",
       "    </tr>\n",
       "    <tr>\n",
       "      <th>time</th>\n",
       "      <th></th>\n",
       "      <th></th>\n",
       "      <th></th>\n",
       "      <th></th>\n",
       "      <th></th>\n",
       "      <th></th>\n",
       "      <th></th>\n",
       "      <th></th>\n",
       "      <th></th>\n",
       "      <th></th>\n",
       "      <th></th>\n",
       "    </tr>\n",
       "  </thead>\n",
       "  <tbody>\n",
       "    <tr>\n",
       "      <th>2021-06-30 07:00:00</th>\n",
       "      <td>25.2</td>\n",
       "      <td>23.6</td>\n",
       "      <td>91.0</td>\n",
       "      <td>NaN</td>\n",
       "      <td>NaN</td>\n",
       "      <td>338.0</td>\n",
       "      <td>3.7</td>\n",
       "      <td>NaN</td>\n",
       "      <td>1015.8</td>\n",
       "      <td>NaN</td>\n",
       "      <td>3.0</td>\n",
       "    </tr>\n",
       "    <tr>\n",
       "      <th>2021-06-30 08:00:00</th>\n",
       "      <td>26.3</td>\n",
       "      <td>24.2</td>\n",
       "      <td>88.0</td>\n",
       "      <td>NaN</td>\n",
       "      <td>NaN</td>\n",
       "      <td>317.0</td>\n",
       "      <td>3.7</td>\n",
       "      <td>NaN</td>\n",
       "      <td>1016.3</td>\n",
       "      <td>NaN</td>\n",
       "      <td>3.0</td>\n",
       "    </tr>\n",
       "    <tr>\n",
       "      <th>2021-06-30 09:00:00</th>\n",
       "      <td>27.4</td>\n",
       "      <td>24.7</td>\n",
       "      <td>85.0</td>\n",
       "      <td>NaN</td>\n",
       "      <td>NaN</td>\n",
       "      <td>309.0</td>\n",
       "      <td>5.5</td>\n",
       "      <td>NaN</td>\n",
       "      <td>1016.7</td>\n",
       "      <td>NaN</td>\n",
       "      <td>3.0</td>\n",
       "    </tr>\n",
       "    <tr>\n",
       "      <th>2021-06-30 10:00:00</th>\n",
       "      <td>28.4</td>\n",
       "      <td>24.6</td>\n",
       "      <td>80.0</td>\n",
       "      <td>NaN</td>\n",
       "      <td>NaN</td>\n",
       "      <td>301.0</td>\n",
       "      <td>5.5</td>\n",
       "      <td>NaN</td>\n",
       "      <td>1016.2</td>\n",
       "      <td>NaN</td>\n",
       "      <td>3.0</td>\n",
       "    </tr>\n",
       "    <tr>\n",
       "      <th>2021-06-30 11:00:00</th>\n",
       "      <td>30.0</td>\n",
       "      <td>23.9</td>\n",
       "      <td>70.0</td>\n",
       "      <td>NaN</td>\n",
       "      <td>NaN</td>\n",
       "      <td>180.0</td>\n",
       "      <td>11.2</td>\n",
       "      <td>NaN</td>\n",
       "      <td>1016.0</td>\n",
       "      <td>NaN</td>\n",
       "      <td>3.0</td>\n",
       "    </tr>\n",
       "  </tbody>\n",
       "</table>\n",
       "</div>"
      ],
      "text/plain": [
       "                     temp  dwpt  rhum  prcp  snow   wdir  wspd  wpgt    pres  \\\n",
       "time                                                                           \n",
       "2021-06-30 07:00:00  25.2  23.6  91.0   NaN   NaN  338.0   3.7   NaN  1015.8   \n",
       "2021-06-30 08:00:00  26.3  24.2  88.0   NaN   NaN  317.0   3.7   NaN  1016.3   \n",
       "2021-06-30 09:00:00  27.4  24.7  85.0   NaN   NaN  309.0   5.5   NaN  1016.7   \n",
       "2021-06-30 10:00:00  28.4  24.6  80.0   NaN   NaN  301.0   5.5   NaN  1016.2   \n",
       "2021-06-30 11:00:00  30.0  23.9  70.0   NaN   NaN  180.0  11.2   NaN  1016.0   \n",
       "\n",
       "                     tsun  coco  \n",
       "time                             \n",
       "2021-06-30 07:00:00   NaN   3.0  \n",
       "2021-06-30 08:00:00   NaN   3.0  \n",
       "2021-06-30 09:00:00   NaN   3.0  \n",
       "2021-06-30 10:00:00   NaN   3.0  \n",
       "2021-06-30 11:00:00   NaN   3.0  "
      ]
     },
     "execution_count": 49,
     "metadata": {},
     "output_type": "execute_result"
    }
   ],
   "source": [
    "weather_data.head()"
   ]
  },
  {
   "cell_type": "markdown",
   "metadata": {},
   "source": [
    "We can see that only those weather condition are available this lets add them as column"
   ]
  },
  {
   "cell_type": "code",
   "execution_count": null,
   "metadata": {},
   "outputs": [],
   "source": [
    "\"2021-07-01 07:00:00\""
   ]
  },
  {
   "cell_type": "code",
   "execution_count": 50,
   "metadata": {},
   "outputs": [],
   "source": [
    "weather_data['weather_condition'] = weather_data['coco'].map({\n",
    "    1: 'Clear',\n",
    "    2: 'Fair',\n",
    "    3: 'Cloudy',\n",
    "    4: 'Overcast',\n",
    "    5: 'Fog',\n",
    "    6: 'Freezing Fog',\n",
    "    7: 'Light Rain',\n",
    "    8: 'Rain',\n",
    "    9: 'Heavy Rain',\n",
    "    10: 'Freezing Rain',\n",
    "    11: 'Heavy Freezing Rain',\n",
    "    12: 'Sleet',\n",
    "    13: 'Heavy Sleet',\n",
    "    14: 'Light Snowfall',\n",
    "    15: 'Snowfall',\n",
    "    16: 'Heavy Snowfall',\n",
    "    17: 'Rain Shower',\n",
    "    18: 'Heavy Rain Shower',\n",
    "    19: 'Sleet Shower',\n",
    "    20: 'Heavy Sleet Shower',\n",
    "    21: 'Snow Shower',\n",
    "    22: 'Heavy Snow Shower',\n",
    "    23: 'Lightning',\n",
    "    24: 'Hail',\n",
    "    25: 'Thunderstorm',\n",
    "    26: 'Heavy Thunderstorm',\n",
    "    27: 'Storm'\n",
    "})\n",
    "\n",
    "weather_data['Is Cloudy'] = weather_data['weather_condition'].apply(lambda x: 1 if x == 'Cloudy' else 0)\n",
    "weather_data['Is Fair'] = weather_data['weather_condition'].apply(lambda x: 1 if x == 'Fair' else 0)\n",
    "weather_data['Is Fog'] = weather_data['weather_condition'].apply(lambda x: 1 if x == 'Fog' else 0)\n",
    "weather_data['Is Thunderstorm'] = weather_data['weather_condition'].apply(lambda x: 1 if x == 'Thunderstorm' else 0)\n",
    "weather_data['Is Heavy Rain Shower'] = weather_data['weather_condition'].apply(lambda x: 1 if x == 'Heavy Rain Shower' else 0)\n",
    "weather_data['Is Light Rain'] = weather_data['weather_condition'].apply(lambda x: 1 if x == 'Light Rain' else 0)\n",
    "weather_data['Is Rain'] = weather_data['weather_condition'].apply(lambda x: 1 if x == 'Rain' else 0)\n",
    "weather_data['Is Overcast'] = weather_data['weather_condition'].apply(lambda x: 1 if x == 'Overcast' else 0)\n",
    "weather_data['Is Heavy Rain'] = weather_data['weather_condition'].apply(lambda x: 1 if x == 'Heavy Rain' else 0)\n",
    "weather_data['Is Clear'] = weather_data['weather_condition'].apply(lambda x: 1 if x == 'Clear' else 0)"
   ]
  },
  {
   "cell_type": "code",
   "execution_count": null,
   "metadata": {},
   "outputs": [],
   "source": [
    "start_date, end_date"
   ]
  },
  {
   "cell_type": "code",
   "execution_count": 21,
   "metadata": {},
   "outputs": [
    {
     "data": {
      "text/plain": [
       "8356"
      ]
     },
     "execution_count": 21,
     "metadata": {},
     "output_type": "execute_result"
    }
   ],
   "source": [
    "len(weather_data)"
   ]
  },
  {
   "cell_type": "code",
   "execution_count": null,
   "metadata": {},
   "outputs": [],
   "source": [
    "# Plot line chart including average, minimum and maximum temperature\n",
    "import matplotlib.pyplot as plt\n",
    "weather_data.plot(y=['tavg', 'tmin', 'tmax'])\n",
    "plt.show()"
   ]
  },
  {
   "cell_type": "code",
   "execution_count": null,
   "metadata": {},
   "outputs": [],
   "source": [
    "# Save the weather data to a CSV file\n",
    "weather_data.to_csv('data/weather_data_hourly_lagos.csv')"
   ]
  },
  {
   "cell_type": "code",
   "execution_count": 63,
   "metadata": {},
   "outputs": [],
   "source": [
    "# Merge the weather data with trip data on the date\n",
    "completed_orders_no_outliers['Trip Date'] = completed_orders_no_outliers['Trip Start Time'].dt.strftime('%Y-%m-%d %H:00:00')\n",
    "weather_data['date'] = weather_data.index"
   ]
  },
  {
   "cell_type": "code",
   "execution_count": 57,
   "metadata": {},
   "outputs": [
    {
     "data": {
      "text/html": [
       "<div>\n",
       "<style scoped>\n",
       "    .dataframe tbody tr th:only-of-type {\n",
       "        vertical-align: middle;\n",
       "    }\n",
       "\n",
       "    .dataframe tbody tr th {\n",
       "        vertical-align: top;\n",
       "    }\n",
       "\n",
       "    .dataframe thead th {\n",
       "        text-align: right;\n",
       "    }\n",
       "</style>\n",
       "<table border=\"1\" class=\"dataframe\">\n",
       "  <thead>\n",
       "    <tr style=\"text-align: right;\">\n",
       "      <th></th>\n",
       "      <th>date</th>\n",
       "      <th>temp</th>\n",
       "    </tr>\n",
       "    <tr>\n",
       "      <th>time</th>\n",
       "      <th></th>\n",
       "      <th></th>\n",
       "    </tr>\n",
       "  </thead>\n",
       "  <tbody>\n",
       "    <tr>\n",
       "      <th>2021-06-30 07:00:00</th>\n",
       "      <td>2021-06-30 07:00:00</td>\n",
       "      <td>25.2</td>\n",
       "    </tr>\n",
       "    <tr>\n",
       "      <th>2021-06-30 08:00:00</th>\n",
       "      <td>2021-06-30 08:00:00</td>\n",
       "      <td>26.3</td>\n",
       "    </tr>\n",
       "    <tr>\n",
       "      <th>2021-06-30 09:00:00</th>\n",
       "      <td>2021-06-30 09:00:00</td>\n",
       "      <td>27.4</td>\n",
       "    </tr>\n",
       "    <tr>\n",
       "      <th>2021-06-30 10:00:00</th>\n",
       "      <td>2021-06-30 10:00:00</td>\n",
       "      <td>28.4</td>\n",
       "    </tr>\n",
       "    <tr>\n",
       "      <th>2021-06-30 11:00:00</th>\n",
       "      <td>2021-06-30 11:00:00</td>\n",
       "      <td>30.0</td>\n",
       "    </tr>\n",
       "    <tr>\n",
       "      <th>...</th>\n",
       "      <td>...</td>\n",
       "      <td>...</td>\n",
       "    </tr>\n",
       "    <tr>\n",
       "      <th>2022-06-13 06:00:00</th>\n",
       "      <td>2022-06-13 06:00:00</td>\n",
       "      <td>24.9</td>\n",
       "    </tr>\n",
       "    <tr>\n",
       "      <th>2022-06-13 07:00:00</th>\n",
       "      <td>2022-06-13 07:00:00</td>\n",
       "      <td>26.0</td>\n",
       "    </tr>\n",
       "    <tr>\n",
       "      <th>2022-06-13 08:00:00</th>\n",
       "      <td>2022-06-13 08:00:00</td>\n",
       "      <td>28.0</td>\n",
       "    </tr>\n",
       "    <tr>\n",
       "      <th>2022-06-13 09:00:00</th>\n",
       "      <td>2022-06-13 09:00:00</td>\n",
       "      <td>29.0</td>\n",
       "    </tr>\n",
       "    <tr>\n",
       "      <th>2022-06-13 10:00:00</th>\n",
       "      <td>2022-06-13 10:00:00</td>\n",
       "      <td>32.0</td>\n",
       "    </tr>\n",
       "  </tbody>\n",
       "</table>\n",
       "<p>8356 rows × 2 columns</p>\n",
       "</div>"
      ],
      "text/plain": [
       "                                   date  temp\n",
       "time                                         \n",
       "2021-06-30 07:00:00 2021-06-30 07:00:00  25.2\n",
       "2021-06-30 08:00:00 2021-06-30 08:00:00  26.3\n",
       "2021-06-30 09:00:00 2021-06-30 09:00:00  27.4\n",
       "2021-06-30 10:00:00 2021-06-30 10:00:00  28.4\n",
       "2021-06-30 11:00:00 2021-06-30 11:00:00  30.0\n",
       "...                                 ...   ...\n",
       "2022-06-13 06:00:00 2022-06-13 06:00:00  24.9\n",
       "2022-06-13 07:00:00 2022-06-13 07:00:00  26.0\n",
       "2022-06-13 08:00:00 2022-06-13 08:00:00  28.0\n",
       "2022-06-13 09:00:00 2022-06-13 09:00:00  29.0\n",
       "2022-06-13 10:00:00 2022-06-13 10:00:00  32.0\n",
       "\n",
       "[8356 rows x 2 columns]"
      ]
     },
     "execution_count": 57,
     "metadata": {},
     "output_type": "execute_result"
    }
   ],
   "source": [
    "weather_data[['date', 'temp']]"
   ]
  },
  {
   "cell_type": "code",
   "execution_count": 52,
   "metadata": {},
   "outputs": [
    {
     "data": {
      "text/html": [
       "<div>\n",
       "<style scoped>\n",
       "    .dataframe tbody tr th:only-of-type {\n",
       "        vertical-align: middle;\n",
       "    }\n",
       "\n",
       "    .dataframe tbody tr th {\n",
       "        vertical-align: top;\n",
       "    }\n",
       "\n",
       "    .dataframe thead th {\n",
       "        text-align: right;\n",
       "    }\n",
       "</style>\n",
       "<table border=\"1\" class=\"dataframe\">\n",
       "  <thead>\n",
       "    <tr style=\"text-align: right;\">\n",
       "      <th></th>\n",
       "      <th>Trip ID</th>\n",
       "      <th>Trip Origin</th>\n",
       "      <th>Trip Destination</th>\n",
       "      <th>Trip Start Time</th>\n",
       "      <th>Trip End Time</th>\n",
       "      <th>Trip Duration(minutes)</th>\n",
       "      <th>Day of Week</th>\n",
       "      <th>Hour of Day</th>\n",
       "      <th>Origin Lat</th>\n",
       "      <th>Origin Lon</th>\n",
       "      <th>Destination Lat</th>\n",
       "      <th>Destination Lon</th>\n",
       "      <th>Trip Distance (km)</th>\n",
       "      <th>Trip Date</th>\n",
       "    </tr>\n",
       "  </thead>\n",
       "  <tbody>\n",
       "    <tr>\n",
       "      <th>0</th>\n",
       "      <td>391996</td>\n",
       "      <td>6.508813001668548,3.37740316890347</td>\n",
       "      <td>6.650969799999999,3.3450307</td>\n",
       "      <td>2021-07-01 07:28:04</td>\n",
       "      <td>2021-07-01 07:29:37</td>\n",
       "      <td>1.550000</td>\n",
       "      <td>3</td>\n",
       "      <td>7</td>\n",
       "      <td>6.508813</td>\n",
       "      <td>3.377403</td>\n",
       "      <td>6.650970</td>\n",
       "      <td>3.345031</td>\n",
       "      <td>16.206549</td>\n",
       "      <td>2021-07-01 07</td>\n",
       "    </tr>\n",
       "    <tr>\n",
       "      <th>1</th>\n",
       "      <td>391997</td>\n",
       "      <td>6.4316714,3.4555375</td>\n",
       "      <td>6.4280814653326,3.4721885847586</td>\n",
       "      <td>2021-07-01 06:38:04</td>\n",
       "      <td>2021-07-01 07:07:28</td>\n",
       "      <td>29.400000</td>\n",
       "      <td>3</td>\n",
       "      <td>6</td>\n",
       "      <td>6.431671</td>\n",
       "      <td>3.455538</td>\n",
       "      <td>6.428081</td>\n",
       "      <td>3.472189</td>\n",
       "      <td>1.882675</td>\n",
       "      <td>2021-07-01 06</td>\n",
       "    </tr>\n",
       "    <tr>\n",
       "      <th>2</th>\n",
       "      <td>391998</td>\n",
       "      <td>6.631679399999999,3.3388976</td>\n",
       "      <td>6.508324099999999,3.3590397</td>\n",
       "      <td>2021-07-01 06:21:02</td>\n",
       "      <td>2021-07-01 07:02:23</td>\n",
       "      <td>41.350000</td>\n",
       "      <td>3</td>\n",
       "      <td>6</td>\n",
       "      <td>6.631679</td>\n",
       "      <td>3.338898</td>\n",
       "      <td>6.508324</td>\n",
       "      <td>3.359040</td>\n",
       "      <td>13.895773</td>\n",
       "      <td>2021-07-01 06</td>\n",
       "    </tr>\n",
       "    <tr>\n",
       "      <th>3</th>\n",
       "      <td>391999</td>\n",
       "      <td>6.572757200000001,3.3677082</td>\n",
       "      <td>6.584881099999999,3.3614073</td>\n",
       "      <td>2021-07-01 07:16:07</td>\n",
       "      <td>2021-07-01 07:29:42</td>\n",
       "      <td>13.583333</td>\n",
       "      <td>3</td>\n",
       "      <td>7</td>\n",
       "      <td>6.572757</td>\n",
       "      <td>3.367708</td>\n",
       "      <td>6.584881</td>\n",
       "      <td>3.361407</td>\n",
       "      <td>1.517186</td>\n",
       "      <td>2021-07-01 07</td>\n",
       "    </tr>\n",
       "    <tr>\n",
       "      <th>4</th>\n",
       "      <td>392001</td>\n",
       "      <td>6.6010417,3.2766339</td>\n",
       "      <td>6.4501069,3.3916154</td>\n",
       "      <td>2021-07-01 09:30:59</td>\n",
       "      <td>2021-07-01 09:34:36</td>\n",
       "      <td>3.616667</td>\n",
       "      <td>3</td>\n",
       "      <td>9</td>\n",
       "      <td>6.601042</td>\n",
       "      <td>3.276634</td>\n",
       "      <td>6.450107</td>\n",
       "      <td>3.391615</td>\n",
       "      <td>21.048262</td>\n",
       "      <td>2021-07-01 09</td>\n",
       "    </tr>\n",
       "  </tbody>\n",
       "</table>\n",
       "</div>"
      ],
      "text/plain": [
       "   Trip ID                         Trip Origin  \\\n",
       "0   391996  6.508813001668548,3.37740316890347   \n",
       "1   391997                 6.4316714,3.4555375   \n",
       "2   391998         6.631679399999999,3.3388976   \n",
       "3   391999         6.572757200000001,3.3677082   \n",
       "4   392001                 6.6010417,3.2766339   \n",
       "\n",
       "                  Trip Destination     Trip Start Time       Trip End Time  \\\n",
       "0      6.650969799999999,3.3450307 2021-07-01 07:28:04 2021-07-01 07:29:37   \n",
       "1  6.4280814653326,3.4721885847586 2021-07-01 06:38:04 2021-07-01 07:07:28   \n",
       "2      6.508324099999999,3.3590397 2021-07-01 06:21:02 2021-07-01 07:02:23   \n",
       "3      6.584881099999999,3.3614073 2021-07-01 07:16:07 2021-07-01 07:29:42   \n",
       "4              6.4501069,3.3916154 2021-07-01 09:30:59 2021-07-01 09:34:36   \n",
       "\n",
       "   Trip Duration(minutes)  Day of Week  Hour of Day  Origin Lat  Origin Lon  \\\n",
       "0                1.550000            3            7    6.508813    3.377403   \n",
       "1               29.400000            3            6    6.431671    3.455538   \n",
       "2               41.350000            3            6    6.631679    3.338898   \n",
       "3               13.583333            3            7    6.572757    3.367708   \n",
       "4                3.616667            3            9    6.601042    3.276634   \n",
       "\n",
       "   Destination Lat  Destination Lon  Trip Distance (km)      Trip Date  \n",
       "0         6.650970         3.345031           16.206549  2021-07-01 07  \n",
       "1         6.428081         3.472189            1.882675  2021-07-01 06  \n",
       "2         6.508324         3.359040           13.895773  2021-07-01 06  \n",
       "3         6.584881         3.361407            1.517186  2021-07-01 07  \n",
       "4         6.450107         3.391615           21.048262  2021-07-01 09  "
      ]
     },
     "execution_count": 52,
     "metadata": {},
     "output_type": "execute_result"
    }
   ],
   "source": [
    "completed_orders_no_outliers.head()"
   ]
  },
  {
   "cell_type": "code",
   "execution_count": 61,
   "metadata": {},
   "outputs": [
    {
     "data": {
      "text/html": [
       "<div>\n",
       "<style scoped>\n",
       "    .dataframe tbody tr th:only-of-type {\n",
       "        vertical-align: middle;\n",
       "    }\n",
       "\n",
       "    .dataframe tbody tr th {\n",
       "        vertical-align: top;\n",
       "    }\n",
       "\n",
       "    .dataframe thead th {\n",
       "        text-align: right;\n",
       "    }\n",
       "</style>\n",
       "<table border=\"1\" class=\"dataframe\">\n",
       "  <thead>\n",
       "    <tr style=\"text-align: right;\">\n",
       "      <th></th>\n",
       "      <th>Destination Lon</th>\n",
       "      <th>Trip Distance (km)</th>\n",
       "      <th>Trip Date</th>\n",
       "    </tr>\n",
       "  </thead>\n",
       "  <tbody>\n",
       "    <tr>\n",
       "      <th>0</th>\n",
       "      <td>3.345031</td>\n",
       "      <td>16.206549</td>\n",
       "      <td>2021-07-01 07:00:00</td>\n",
       "    </tr>\n",
       "    <tr>\n",
       "      <th>1</th>\n",
       "      <td>3.472189</td>\n",
       "      <td>1.882675</td>\n",
       "      <td>2021-07-01 06:00:00</td>\n",
       "    </tr>\n",
       "    <tr>\n",
       "      <th>2</th>\n",
       "      <td>3.359040</td>\n",
       "      <td>13.895773</td>\n",
       "      <td>2021-07-01 06:00:00</td>\n",
       "    </tr>\n",
       "    <tr>\n",
       "      <th>3</th>\n",
       "      <td>3.361407</td>\n",
       "      <td>1.517186</td>\n",
       "      <td>2021-07-01 07:00:00</td>\n",
       "    </tr>\n",
       "    <tr>\n",
       "      <th>4</th>\n",
       "      <td>3.391615</td>\n",
       "      <td>21.048262</td>\n",
       "      <td>2021-07-01 09:00:00</td>\n",
       "    </tr>\n",
       "  </tbody>\n",
       "</table>\n",
       "</div>"
      ],
      "text/plain": [
       "   Destination Lon  Trip Distance (km)            Trip Date\n",
       "0         3.345031           16.206549  2021-07-01 07:00:00\n",
       "1         3.472189            1.882675  2021-07-01 06:00:00\n",
       "2         3.359040           13.895773  2021-07-01 06:00:00\n",
       "3         3.361407            1.517186  2021-07-01 07:00:00\n",
       "4         3.391615           21.048262  2021-07-01 09:00:00"
      ]
     },
     "execution_count": 61,
     "metadata": {},
     "output_type": "execute_result"
    }
   ],
   "source": [
    "completed_orders_no_outliers.head()[['Destination Lon','Trip Distance (km)','Trip Date']]\n",
    "# weather date 2021-06-30 07:00:00"
   ]
  },
  {
   "cell_type": "code",
   "execution_count": 69,
   "metadata": {},
   "outputs": [
    {
     "data": {
      "text/plain": [
       "Trip ID                            int64\n",
       "Trip Origin                       object\n",
       "Trip Destination                  object\n",
       "Trip Start Time           datetime64[ns]\n",
       "Trip End Time             datetime64[ns]\n",
       "Trip Duration(minutes)           float64\n",
       "Day of Week                        int64\n",
       "Hour of Day                        int64\n",
       "Origin Lat                       float64\n",
       "Origin Lon                       float64\n",
       "Destination Lat                  float64\n",
       "Destination Lon                  float64\n",
       "Trip Distance (km)               float64\n",
       "Trip Date                         object\n",
       "dtype: object"
      ]
     },
     "execution_count": 69,
     "metadata": {},
     "output_type": "execute_result"
    }
   ],
   "source": [
    "completed_orders_no_outliers.dtypes"
   ]
  },
  {
   "cell_type": "code",
   "execution_count": 27,
   "metadata": {},
   "outputs": [
    {
     "data": {
      "text/plain": [
       "0         2021-07-01 07:00:00\n",
       "1         2021-07-01 06:00:00\n",
       "2         2021-07-01 06:00:00\n",
       "3         2021-07-01 07:00:00\n",
       "4         2021-07-01 09:00:00\n",
       "                 ...         \n",
       "505318    2021-12-30 20:00:00\n",
       "505319    2021-12-30 20:00:00\n",
       "505320    2021-12-30 20:00:00\n",
       "505321    2021-12-30 20:00:00\n",
       "505322    2021-12-30 20:00:00\n",
       "Name: Trip Start Time, Length: 505323, dtype: object"
      ]
     },
     "execution_count": 27,
     "metadata": {},
     "output_type": "execute_result"
    }
   ],
   "source": [
    "# get the date and the hour part only from a row data that looks like \"2021-07-01 07:28:04\"\n",
    "completed_orders_no_outliers['Trip Start Time'].dt.strftime('%Y-%m-%d %H:00:00')"
   ]
  },
  {
   "cell_type": "code",
   "execution_count": null,
   "metadata": {},
   "outputs": [],
   "source": [
    "\n",
    "# weather_data['date'] = pd.to_datetime(weather_data['date'])\n",
    "# completed_orders_no_outliers['Trip End Time'] = pd.to_datetime(completed_orders_no_outliers['Trip End Time'])"
   ]
  },
  {
   "cell_type": "code",
   "execution_count": 66,
   "metadata": {},
   "outputs": [
    {
     "data": {
      "text/plain": [
       "temp                    float64\n",
       "dwpt                    float64\n",
       "rhum                    float64\n",
       "prcp                    float64\n",
       "snow                    float64\n",
       "wdir                    float64\n",
       "wspd                    float64\n",
       "wpgt                    float64\n",
       "pres                    float64\n",
       "tsun                    float64\n",
       "coco                    float64\n",
       "weather_condition        object\n",
       "Is Cloudy                 int64\n",
       "Is Fair                   int64\n",
       "Is Fog                    int64\n",
       "Is Thunderstorm           int64\n",
       "Is Heavy Rain Shower      int64\n",
       "Is Light Rain             int64\n",
       "Is Rain                   int64\n",
       "Is Overcast               int64\n",
       "Is Heavy Rain             int64\n",
       "Is Clear                  int64\n",
       "date                     object\n",
       "dtype: object"
      ]
     },
     "execution_count": 66,
     "metadata": {},
     "output_type": "execute_result"
    }
   ],
   "source": [
    "weather_data.dtypes"
   ]
  },
  {
   "cell_type": "code",
   "execution_count": 65,
   "metadata": {},
   "outputs": [],
   "source": [
    "\n",
    "# convert date to object\n",
    "weather_data['date'] = weather_data['date'].dt.strftime('%Y-%m-%d %H:00:00')"
   ]
  },
  {
   "cell_type": "code",
   "execution_count": 67,
   "metadata": {},
   "outputs": [
    {
     "data": {
      "text/html": [
       "<div>\n",
       "<style scoped>\n",
       "    .dataframe tbody tr th:only-of-type {\n",
       "        vertical-align: middle;\n",
       "    }\n",
       "\n",
       "    .dataframe tbody tr th {\n",
       "        vertical-align: top;\n",
       "    }\n",
       "\n",
       "    .dataframe thead th {\n",
       "        text-align: right;\n",
       "    }\n",
       "</style>\n",
       "<table border=\"1\" class=\"dataframe\">\n",
       "  <thead>\n",
       "    <tr style=\"text-align: right;\">\n",
       "      <th></th>\n",
       "      <th>temp</th>\n",
       "      <th>dwpt</th>\n",
       "      <th>rhum</th>\n",
       "      <th>prcp</th>\n",
       "      <th>snow</th>\n",
       "      <th>wdir</th>\n",
       "      <th>wspd</th>\n",
       "      <th>wpgt</th>\n",
       "      <th>pres</th>\n",
       "      <th>tsun</th>\n",
       "      <th>...</th>\n",
       "      <th>Is Fair</th>\n",
       "      <th>Is Fog</th>\n",
       "      <th>Is Thunderstorm</th>\n",
       "      <th>Is Heavy Rain Shower</th>\n",
       "      <th>Is Light Rain</th>\n",
       "      <th>Is Rain</th>\n",
       "      <th>Is Overcast</th>\n",
       "      <th>Is Heavy Rain</th>\n",
       "      <th>Is Clear</th>\n",
       "      <th>date</th>\n",
       "    </tr>\n",
       "    <tr>\n",
       "      <th>time</th>\n",
       "      <th></th>\n",
       "      <th></th>\n",
       "      <th></th>\n",
       "      <th></th>\n",
       "      <th></th>\n",
       "      <th></th>\n",
       "      <th></th>\n",
       "      <th></th>\n",
       "      <th></th>\n",
       "      <th></th>\n",
       "      <th></th>\n",
       "      <th></th>\n",
       "      <th></th>\n",
       "      <th></th>\n",
       "      <th></th>\n",
       "      <th></th>\n",
       "      <th></th>\n",
       "      <th></th>\n",
       "      <th></th>\n",
       "      <th></th>\n",
       "      <th></th>\n",
       "    </tr>\n",
       "  </thead>\n",
       "  <tbody>\n",
       "    <tr>\n",
       "      <th>2021-06-30 07:00:00</th>\n",
       "      <td>25.2</td>\n",
       "      <td>23.6</td>\n",
       "      <td>91.0</td>\n",
       "      <td>NaN</td>\n",
       "      <td>NaN</td>\n",
       "      <td>338.0</td>\n",
       "      <td>3.7</td>\n",
       "      <td>NaN</td>\n",
       "      <td>1015.8</td>\n",
       "      <td>NaN</td>\n",
       "      <td>...</td>\n",
       "      <td>0</td>\n",
       "      <td>0</td>\n",
       "      <td>0</td>\n",
       "      <td>0</td>\n",
       "      <td>0</td>\n",
       "      <td>0</td>\n",
       "      <td>0</td>\n",
       "      <td>0</td>\n",
       "      <td>0</td>\n",
       "      <td>2021-06-30 07:00:00</td>\n",
       "    </tr>\n",
       "  </tbody>\n",
       "</table>\n",
       "<p>1 rows × 23 columns</p>\n",
       "</div>"
      ],
      "text/plain": [
       "                     temp  dwpt  rhum  prcp  snow   wdir  wspd  wpgt    pres  \\\n",
       "time                                                                           \n",
       "2021-06-30 07:00:00  25.2  23.6  91.0   NaN   NaN  338.0   3.7   NaN  1015.8   \n",
       "\n",
       "                     tsun  ...  Is Fair Is Fog  Is Thunderstorm  \\\n",
       "time                       ...                                    \n",
       "2021-06-30 07:00:00   NaN  ...        0      0                0   \n",
       "\n",
       "                     Is Heavy Rain Shower  Is Light Rain  Is Rain  \\\n",
       "time                                                                \n",
       "2021-06-30 07:00:00                     0              0        0   \n",
       "\n",
       "                     Is Overcast  Is Heavy Rain  Is Clear                 date  \n",
       "time                                                                            \n",
       "2021-06-30 07:00:00            0              0         0  2021-06-30 07:00:00  \n",
       "\n",
       "[1 rows x 23 columns]"
      ]
     },
     "execution_count": 67,
     "metadata": {},
     "output_type": "execute_result"
    }
   ],
   "source": [
    "weather_data.head(1)\n",
    "# [['date', 'temp']]"
   ]
  },
  {
   "cell_type": "code",
   "execution_count": 77,
   "metadata": {},
   "outputs": [],
   "source": [
    "# Merge on the 'Trip Date' and 'date' columns\n",
    "merged_data = pd.merge(completed_orders_no_outliers, weather_data, left_on='Trip Date', right_on='date', how='left')"
   ]
  },
  {
   "cell_type": "code",
   "execution_count": 78,
   "metadata": {},
   "outputs": [
    {
     "data": {
      "text/html": [
       "<div>\n",
       "<style scoped>\n",
       "    .dataframe tbody tr th:only-of-type {\n",
       "        vertical-align: middle;\n",
       "    }\n",
       "\n",
       "    .dataframe tbody tr th {\n",
       "        vertical-align: top;\n",
       "    }\n",
       "\n",
       "    .dataframe thead th {\n",
       "        text-align: right;\n",
       "    }\n",
       "</style>\n",
       "<table border=\"1\" class=\"dataframe\">\n",
       "  <thead>\n",
       "    <tr style=\"text-align: right;\">\n",
       "      <th></th>\n",
       "      <th>Trip ID</th>\n",
       "      <th>Trip Origin</th>\n",
       "      <th>Trip Destination</th>\n",
       "      <th>Trip Start Time</th>\n",
       "      <th>Trip End Time</th>\n",
       "      <th>Trip Duration(minutes)</th>\n",
       "      <th>Day of Week</th>\n",
       "      <th>Hour of Day</th>\n",
       "      <th>Origin Lat</th>\n",
       "      <th>Origin Lon</th>\n",
       "      <th>...</th>\n",
       "      <th>Is Fair</th>\n",
       "      <th>Is Fog</th>\n",
       "      <th>Is Thunderstorm</th>\n",
       "      <th>Is Heavy Rain Shower</th>\n",
       "      <th>Is Light Rain</th>\n",
       "      <th>Is Rain</th>\n",
       "      <th>Is Overcast</th>\n",
       "      <th>Is Heavy Rain</th>\n",
       "      <th>Is Clear</th>\n",
       "      <th>date</th>\n",
       "    </tr>\n",
       "  </thead>\n",
       "  <tbody>\n",
       "    <tr>\n",
       "      <th>0</th>\n",
       "      <td>391996</td>\n",
       "      <td>6.508813001668548,3.37740316890347</td>\n",
       "      <td>6.650969799999999,3.3450307</td>\n",
       "      <td>2021-07-01 07:28:04</td>\n",
       "      <td>2021-07-01 07:29:37</td>\n",
       "      <td>1.55</td>\n",
       "      <td>3</td>\n",
       "      <td>7</td>\n",
       "      <td>6.508813</td>\n",
       "      <td>3.377403</td>\n",
       "      <td>...</td>\n",
       "      <td>0</td>\n",
       "      <td>0</td>\n",
       "      <td>0</td>\n",
       "      <td>0</td>\n",
       "      <td>0</td>\n",
       "      <td>0</td>\n",
       "      <td>0</td>\n",
       "      <td>0</td>\n",
       "      <td>0</td>\n",
       "      <td>2021-07-01 07:00:00</td>\n",
       "    </tr>\n",
       "  </tbody>\n",
       "</table>\n",
       "<p>1 rows × 37 columns</p>\n",
       "</div>"
      ],
      "text/plain": [
       "   Trip ID                         Trip Origin             Trip Destination  \\\n",
       "0   391996  6.508813001668548,3.37740316890347  6.650969799999999,3.3450307   \n",
       "\n",
       "      Trip Start Time       Trip End Time  Trip Duration(minutes)  \\\n",
       "0 2021-07-01 07:28:04 2021-07-01 07:29:37                    1.55   \n",
       "\n",
       "   Day of Week  Hour of Day  Origin Lat  Origin Lon  ...  Is Fair  Is Fog  \\\n",
       "0            3            7    6.508813    3.377403  ...        0       0   \n",
       "\n",
       "   Is Thunderstorm Is Heavy Rain Shower  Is Light Rain  Is Rain  Is Overcast  \\\n",
       "0                0                    0              0        0            0   \n",
       "\n",
       "   Is Heavy Rain  Is Clear                 date  \n",
       "0              0         0  2021-07-01 07:00:00  \n",
       "\n",
       "[1 rows x 37 columns]"
      ]
     },
     "execution_count": 78,
     "metadata": {},
     "output_type": "execute_result"
    }
   ],
   "source": [
    "# Display the first few rows of the merged data\n",
    "merged_data.head(1)"
   ]
  },
  {
   "cell_type": "code",
   "execution_count": 79,
   "metadata": {},
   "outputs": [
    {
     "data": {
      "text/plain": [
       "(505323, 37)"
      ]
     },
     "execution_count": 79,
     "metadata": {},
     "output_type": "execute_result"
    }
   ],
   "source": [
    "merged_data.shape"
   ]
  },
  {
   "cell_type": "code",
   "execution_count": 80,
   "metadata": {},
   "outputs": [
    {
     "data": {
      "text/plain": [
       "Trip ID                     0.000000\n",
       "Trip Origin                 0.000000\n",
       "Trip Destination            0.000000\n",
       "Trip Start Time             0.000000\n",
       "Trip End Time               0.000000\n",
       "Trip Duration(minutes)      0.000000\n",
       "Day of Week                 0.000000\n",
       "Hour of Day                 0.000000\n",
       "Origin Lat                  0.000000\n",
       "Origin Lon                  0.000000\n",
       "Destination Lat             0.000000\n",
       "Destination Lon             0.000000\n",
       "Trip Distance (km)          0.000000\n",
       "Trip Date                   0.000000\n",
       "temp                        0.000000\n",
       "dwpt                        0.000000\n",
       "rhum                        0.000000\n",
       "prcp                       99.999406\n",
       "snow                      100.000000\n",
       "wdir                        0.000000\n",
       "wspd                        0.000000\n",
       "wpgt                      100.000000\n",
       "pres                        0.000000\n",
       "tsun                      100.000000\n",
       "coco                        0.000198\n",
       "weather_condition           0.000198\n",
       "Is Cloudy                   0.000000\n",
       "Is Fair                     0.000000\n",
       "Is Fog                      0.000000\n",
       "Is Thunderstorm             0.000000\n",
       "Is Heavy Rain Shower        0.000000\n",
       "Is Light Rain               0.000000\n",
       "Is Rain                     0.000000\n",
       "Is Overcast                 0.000000\n",
       "Is Heavy Rain               0.000000\n",
       "Is Clear                    0.000000\n",
       "date                        0.000000\n",
       "dtype: float64"
      ]
     },
     "execution_count": 80,
     "metadata": {},
     "output_type": "execute_result"
    }
   ],
   "source": [
    "merged_data.isna().sum()/len(merged_data) * 100"
   ]
  },
  {
   "cell_type": "code",
   "execution_count": 81,
   "metadata": {},
   "outputs": [],
   "source": [
    "# drop columns \n",
    "merged_data.drop(['dwpt', 'rhum', 'prcp', 'snow', 'wdir', 'wpgt', 'tsun', 'coco', 'weather_condition', 'date'], axis=1, inplace=True)"
   ]
  },
  {
   "cell_type": "code",
   "execution_count": 84,
   "metadata": {},
   "outputs": [
    {
     "data": {
      "text/plain": [
       "Trip ID                         0.0\n",
       "Trip Origin                     0.0\n",
       "Trip Destination                0.0\n",
       "Trip Start Time                 0.0\n",
       "Trip End Time                   0.0\n",
       "Trip Duration(minutes)          0.0\n",
       "Day of Week                     0.0\n",
       "Hour of Day                     0.0\n",
       "Origin Lat                      0.0\n",
       "Origin Lon                      0.0\n",
       "Destination Lat                 0.0\n",
       "Destination Lon                 0.0\n",
       "Trip Distance (km)              0.0\n",
       "Trip Date                       0.0\n",
       "Average Temperature(Celcius)    0.0\n",
       "Wind Speed(km/h)                0.0\n",
       "Air Pressure(hPa)               0.0\n",
       "Is Cloudy                       0.0\n",
       "Is Fair                         0.0\n",
       "Is Fog                          0.0\n",
       "Is Thunderstorm                 0.0\n",
       "Is Heavy Rain Shower            0.0\n",
       "Is Light Rain                   0.0\n",
       "Is Rain                         0.0\n",
       "Is Overcast                     0.0\n",
       "Is Heavy Rain                   0.0\n",
       "Is Clear                        0.0\n",
       "dtype: float64"
      ]
     },
     "execution_count": 84,
     "metadata": {},
     "output_type": "execute_result"
    }
   ],
   "source": [
    "merged_data.isna().sum()/len(merged_data) * 100"
   ]
  },
  {
   "cell_type": "code",
   "execution_count": null,
   "metadata": {},
   "outputs": [],
   "source": [
    "merged_data.isnull().sum()/len(merged_data) * 100"
   ]
  },
  {
   "cell_type": "code",
   "execution_count": 83,
   "metadata": {},
   "outputs": [],
   "source": [
    "# rename columns tmin\ttmax\tprcp\tsnow\twdir\twspd\twpgt\tpres\ttsun\n",
    "\n",
    "merged_data.rename(columns={'wspd': 'Wind Speed(km/h)', \n",
    "                            'temp': 'Average Temperature(Celcius)',\n",
    "                            'pres': 'Air Pressure(hPa)',}, inplace=True)"
   ]
  },
  {
   "cell_type": "code",
   "execution_count": 156,
   "metadata": {},
   "outputs": [
    {
     "data": {
      "text/plain": [
       "Trip ID                                  int64\n",
       "Trip Origin                             object\n",
       "Trip Destination                        object\n",
       "Trip Start Time                 datetime64[ns]\n",
       "Trip End Time                   datetime64[ns]\n",
       "Trip Duration(minutes)                 float64\n",
       "Day of Week                              int64\n",
       "Hour of Day                              int64\n",
       "Origin Lat                             float64\n",
       "Origin Lon                             float64\n",
       "Destination Lat                        float64\n",
       "Destination Lon                        float64\n",
       "Trip Distance (km)                     float64\n",
       "Trip Date                               object\n",
       "Average Temperature(Celcius)           float64\n",
       "Wind Speed(km/h)                       float64\n",
       "Air Pressure(hPa)                      float64\n",
       "Is Cloudy                                int64\n",
       "Is Fair                                  int64\n",
       "Is Fog                                   int64\n",
       "Is Thunderstorm                          int64\n",
       "Is Heavy Rain Shower                     int64\n",
       "Is Light Rain                            int64\n",
       "Is Rain                                  int64\n",
       "Is Overcast                              int64\n",
       "Is Heavy Rain                            int64\n",
       "Is Clear                                 int64\n",
       "dtype: object"
      ]
     },
     "execution_count": 156,
     "metadata": {},
     "output_type": "execute_result"
    }
   ],
   "source": [
    "merged_data.dtypes"
   ]
  },
  {
   "cell_type": "code",
   "execution_count": 169,
   "metadata": {},
   "outputs": [],
   "source": [
    "import holidays\n",
    "nigerian_holidays = holidays.country_holidays(country='NG', years=[2021, 2022])"
   ]
  },
  {
   "cell_type": "code",
   "execution_count": 150,
   "metadata": {},
   "outputs": [],
   "source": [
    "date_to_check = str(merged_data['Trip Date'][1000])"
   ]
  },
  {
   "cell_type": "code",
   "execution_count": 160,
   "metadata": {},
   "outputs": [],
   "source": [
    "date_to_check = '2021-01-01'"
   ]
  },
  {
   "cell_type": "code",
   "execution_count": 126,
   "metadata": {},
   "outputs": [
    {
     "data": {
      "text/plain": [
       "dict_items([(datetime.date(2021, 1, 1), \"New Year's Day\"), (datetime.date(2021, 4, 2), 'Good Friday'), (datetime.date(2021, 4, 5), 'Easter Monday'), (datetime.date(2021, 5, 1), \"Workers' Day\"), (datetime.date(2021, 6, 12), 'Democracy Day'), (datetime.date(2021, 10, 1), 'Independence Day'), (datetime.date(2021, 12, 25), 'Christmas Day'), (datetime.date(2021, 12, 26), 'Boxing Day'), (datetime.date(2021, 5, 13), 'Eid-el-Fitr (estimated)'), (datetime.date(2021, 5, 14), 'Eid-el-Fitr Holiday (estimated)'), (datetime.date(2021, 7, 20), 'Eid-el-Kabir (estimated)'), (datetime.date(2021, 7, 21), 'Eid-el-Kabir Holiday (estimated)'), (datetime.date(2021, 10, 18), 'Eid-el-Mawlid (estimated)'), (datetime.date(2021, 5, 3), \"Workers' Day (observed)\"), (datetime.date(2021, 6, 14), 'Democracy Day (observed)'), (datetime.date(2021, 12, 27), 'Christmas Day (observed)'), (datetime.date(2021, 12, 28), 'Boxing Day (observed)'), (datetime.date(2022, 1, 1), \"New Year's Day\"), (datetime.date(2022, 4, 15), 'Good Friday'), (datetime.date(2022, 4, 18), 'Easter Monday'), (datetime.date(2022, 5, 1), \"Workers' Day\"), (datetime.date(2022, 6, 12), 'Democracy Day'), (datetime.date(2022, 10, 1), 'Independence Day'), (datetime.date(2022, 12, 25), 'Christmas Day'), (datetime.date(2022, 12, 26), 'Boxing Day'), (datetime.date(2022, 5, 2), 'Eid-el-Fitr (estimated)'), (datetime.date(2022, 5, 3), 'Eid-el-Fitr Holiday (estimated)'), (datetime.date(2022, 7, 9), 'Eid-el-Kabir (estimated)'), (datetime.date(2022, 7, 10), 'Eid-el-Kabir Holiday (estimated)'), (datetime.date(2022, 10, 8), 'Eid-el-Mawlid (estimated)'), (datetime.date(2022, 1, 3), \"New Year's Day (observed)\"), (datetime.date(2022, 5, 4), \"Workers' Day (observed)\"), (datetime.date(2022, 6, 13), 'Democracy Day (observed)'), (datetime.date(2022, 7, 11), 'Eid-el-Kabir (estimated) (observed)'), (datetime.date(2022, 7, 12), 'Eid-el-Kabir Holiday (estimated) (observed)'), (datetime.date(2022, 10, 3), 'Independence Day (observed)'), (datetime.date(2022, 10, 10), 'Eid-el-Mawlid (estimated) (observed)'), (datetime.date(2022, 12, 27), 'Christmas Day (observed)')])"
      ]
     },
     "execution_count": 126,
     "metadata": {},
     "output_type": "execute_result"
    }
   ],
   "source": [
    "nigerian_holidays.items()"
   ]
  },
  {
   "cell_type": "code",
   "execution_count": 132,
   "metadata": {},
   "outputs": [],
   "source": []
  },
  {
   "cell_type": "code",
   "execution_count": 177,
   "metadata": {},
   "outputs": [
    {
     "data": {
      "text/plain": [
       "Trip ID                                  int64\n",
       "Trip Origin                             object\n",
       "Trip Destination                        object\n",
       "Trip Start Time                 datetime64[ns]\n",
       "Trip End Time                   datetime64[ns]\n",
       "Trip Duration(minutes)                 float64\n",
       "Day of Week                              int64\n",
       "Hour of Day                              int64\n",
       "Origin Lat                             float64\n",
       "Origin Lon                             float64\n",
       "Destination Lat                        float64\n",
       "Destination Lon                        float64\n",
       "Trip Distance (km)                     float64\n",
       "Trip Date                               object\n",
       "Average Temperature(Celcius)           float64\n",
       "Wind Speed(km/h)                       float64\n",
       "Air Pressure(hPa)                      float64\n",
       "Is Cloudy                                int64\n",
       "Is Fair                                  int64\n",
       "Is Fog                                   int64\n",
       "Is Thunderstorm                          int64\n",
       "Is Heavy Rain Shower                     int64\n",
       "Is Light Rain                            int64\n",
       "Is Rain                                  int64\n",
       "Is Overcast                              int64\n",
       "Is Heavy Rain                            int64\n",
       "Is Clear                                 int64\n",
       "dtype: object"
      ]
     },
     "execution_count": 177,
     "metadata": {},
     "output_type": "execute_result"
    }
   ],
   "source": [
    "merged_data.dtypes"
   ]
  },
  {
   "cell_type": "code",
   "execution_count": 162,
   "metadata": {},
   "outputs": [
    {
     "name": "stdout",
     "output_type": "stream",
     "text": [
      "<class 'datetime.date'> 2021-01-01 New Year's Day\n",
      "<class 'datetime.date'> 2021-04-02 Good Friday\n",
      "<class 'datetime.date'> 2021-04-05 Easter Monday\n",
      "<class 'datetime.date'> 2021-05-01 Workers' Day\n",
      "<class 'datetime.date'> 2021-06-12 Democracy Day\n",
      "<class 'datetime.date'> 2021-10-01 Independence Day\n",
      "<class 'datetime.date'> 2021-12-25 Christmas Day\n",
      "<class 'datetime.date'> 2021-12-26 Boxing Day\n",
      "<class 'datetime.date'> 2021-05-13 Eid-el-Fitr (estimated)\n",
      "<class 'datetime.date'> 2021-05-14 Eid-el-Fitr Holiday (estimated)\n",
      "<class 'datetime.date'> 2021-07-20 Eid-el-Kabir (estimated)\n",
      "<class 'datetime.date'> 2021-07-21 Eid-el-Kabir Holiday (estimated)\n",
      "<class 'datetime.date'> 2021-10-18 Eid-el-Mawlid (estimated)\n",
      "<class 'datetime.date'> 2021-05-03 Workers' Day (observed)\n",
      "<class 'datetime.date'> 2021-06-14 Democracy Day (observed)\n",
      "<class 'datetime.date'> 2021-12-27 Christmas Day (observed)\n",
      "<class 'datetime.date'> 2021-12-28 Boxing Day (observed)\n",
      "<class 'datetime.date'> 2022-01-01 New Year's Day\n",
      "<class 'datetime.date'> 2022-04-15 Good Friday\n",
      "<class 'datetime.date'> 2022-04-18 Easter Monday\n",
      "<class 'datetime.date'> 2022-05-01 Workers' Day\n",
      "<class 'datetime.date'> 2022-06-12 Democracy Day\n",
      "<class 'datetime.date'> 2022-10-01 Independence Day\n",
      "<class 'datetime.date'> 2022-12-25 Christmas Day\n",
      "<class 'datetime.date'> 2022-12-26 Boxing Day\n",
      "<class 'datetime.date'> 2022-05-02 Eid-el-Fitr (estimated)\n",
      "<class 'datetime.date'> 2022-05-03 Eid-el-Fitr Holiday (estimated)\n",
      "<class 'datetime.date'> 2022-07-09 Eid-el-Kabir (estimated)\n",
      "<class 'datetime.date'> 2022-07-10 Eid-el-Kabir Holiday (estimated)\n",
      "<class 'datetime.date'> 2022-10-08 Eid-el-Mawlid (estimated)\n",
      "<class 'datetime.date'> 2022-01-03 New Year's Day (observed)\n",
      "<class 'datetime.date'> 2022-05-04 Workers' Day (observed)\n",
      "<class 'datetime.date'> 2022-06-13 Democracy Day (observed)\n",
      "<class 'datetime.date'> 2022-07-11 Eid-el-Kabir (estimated) (observed)\n",
      "<class 'datetime.date'> 2022-07-12 Eid-el-Kabir Holiday (estimated) (observed)\n",
      "<class 'datetime.date'> 2022-10-03 Independence Day (observed)\n",
      "<class 'datetime.date'> 2022-10-10 Eid-el-Mawlid (estimated) (observed)\n",
      "<class 'datetime.date'> 2022-12-27 Christmas Day (observed)\n"
     ]
    }
   ],
   "source": [
    "for date, holidays in nigerian_holidays.items():\n",
    "    print(type(date), date, holidays)"
   ]
  },
  {
   "cell_type": "code",
   "execution_count": 173,
   "metadata": {},
   "outputs": [
    {
     "data": {
      "text/plain": [
       "38"
      ]
     },
     "execution_count": 173,
     "metadata": {},
     "output_type": "execute_result"
    }
   ],
   "source": [
    "len(nigerian_holidays.items())"
   ]
  },
  {
   "cell_type": "code",
   "execution_count": 187,
   "metadata": {},
   "outputs": [
    {
     "data": {
      "text/plain": [
       "datetime.date(2021, 7, 1)"
      ]
     },
     "execution_count": 187,
     "metadata": {},
     "output_type": "execute_result"
    }
   ],
   "source": [
    "merged_data['Trip Date'][0]"
   ]
  },
  {
   "cell_type": "code",
   "execution_count": 186,
   "metadata": {},
   "outputs": [
    {
     "data": {
      "text/plain": [
       "True"
      ]
     },
     "execution_count": 186,
     "metadata": {},
     "output_type": "execute_result"
    }
   ],
   "source": [
    "# nigerian_holidays.get('2021-4-2')\n",
    "\"2022, 10, 01\" in nigerian_holidays"
   ]
  },
  {
   "cell_type": "code",
   "execution_count": 193,
   "metadata": {},
   "outputs": [],
   "source": [
    "merged_data['Is Holiday'] = merged_data['Trip Date'].apply(lambda x: int(x in nigerian_holidays))"
   ]
  },
  {
   "cell_type": "code",
   "execution_count": 195,
   "metadata": {},
   "outputs": [
    {
     "data": {
      "text/plain": [
       "Trip ID                                  int64\n",
       "Trip Origin                             object\n",
       "Trip Destination                        object\n",
       "Trip Start Time                 datetime64[ns]\n",
       "Trip End Time                   datetime64[ns]\n",
       "Trip Duration(minutes)                 float64\n",
       "Day of Week                              int64\n",
       "Hour of Day                              int64\n",
       "Origin Lat                             float64\n",
       "Origin Lon                             float64\n",
       "Destination Lat                        float64\n",
       "Destination Lon                        float64\n",
       "Trip Distance (km)                     float64\n",
       "Trip Date                               object\n",
       "Average Temperature(Celcius)           float64\n",
       "Wind Speed(km/h)                       float64\n",
       "Air Pressure(hPa)                      float64\n",
       "Is Cloudy                                int64\n",
       "Is Fair                                  int64\n",
       "Is Fog                                   int64\n",
       "Is Thunderstorm                          int64\n",
       "Is Heavy Rain Shower                     int64\n",
       "Is Light Rain                            int64\n",
       "Is Rain                                  int64\n",
       "Is Overcast                              int64\n",
       "Is Heavy Rain                            int64\n",
       "Is Clear                                 int64\n",
       "Is Holiday                               int64\n",
       "dtype: object"
      ]
     },
     "execution_count": 195,
     "metadata": {},
     "output_type": "execute_result"
    }
   ],
   "source": [
    "merged_data.dtypes"
   ]
  },
  {
   "cell_type": "code",
   "execution_count": 196,
   "metadata": {},
   "outputs": [],
   "source": [
    "\n",
    "merged_data.drop(['Trip Origin','Trip Destination', 'Trip Date'], axis=1, inplace=True)"
   ]
  },
  {
   "cell_type": "code",
   "execution_count": 199,
   "metadata": {},
   "outputs": [
    {
     "data": {
      "text/plain": [
       "Trip ID                         0.0\n",
       "Trip Start Time                 0.0\n",
       "Trip End Time                   0.0\n",
       "Trip Duration(minutes)          0.0\n",
       "Day of Week                     0.0\n",
       "Hour of Day                     0.0\n",
       "Origin Lat                      0.0\n",
       "Origin Lon                      0.0\n",
       "Destination Lat                 0.0\n",
       "Destination Lon                 0.0\n",
       "Trip Distance (km)              0.0\n",
       "Average Temperature(Celcius)    0.0\n",
       "Wind Speed(km/h)                0.0\n",
       "Air Pressure(hPa)               0.0\n",
       "Is Cloudy                       0.0\n",
       "Is Fair                         0.0\n",
       "Is Fog                          0.0\n",
       "Is Thunderstorm                 0.0\n",
       "Is Heavy Rain Shower            0.0\n",
       "Is Light Rain                   0.0\n",
       "Is Rain                         0.0\n",
       "Is Overcast                     0.0\n",
       "Is Heavy Rain                   0.0\n",
       "Is Clear                        0.0\n",
       "Is Holiday                      0.0\n",
       "dtype: float64"
      ]
     },
     "execution_count": 199,
     "metadata": {},
     "output_type": "execute_result"
    }
   ],
   "source": [
    "merged_data.isna().sum()/len(merged_data) * 100"
   ]
  },
  {
   "cell_type": "code",
   "execution_count": 198,
   "metadata": {},
   "outputs": [
    {
     "name": "stdout",
     "output_type": "stream",
     "text": [
      "<class 'pandas.core.frame.DataFrame'>\n",
      "RangeIndex: 505323 entries, 0 to 505322\n",
      "Data columns (total 25 columns):\n",
      " #   Column                        Non-Null Count   Dtype         \n",
      "---  ------                        --------------   -----         \n",
      " 0   Trip ID                       505323 non-null  int64         \n",
      " 1   Trip Start Time               505323 non-null  datetime64[ns]\n",
      " 2   Trip End Time                 505323 non-null  datetime64[ns]\n",
      " 3   Trip Duration(minutes)        505323 non-null  float64       \n",
      " 4   Day of Week                   505323 non-null  int64         \n",
      " 5   Hour of Day                   505323 non-null  int64         \n",
      " 6   Origin Lat                    505323 non-null  float64       \n",
      " 7   Origin Lon                    505323 non-null  float64       \n",
      " 8   Destination Lat               505323 non-null  float64       \n",
      " 9   Destination Lon               505323 non-null  float64       \n",
      " 10  Trip Distance (km)            505323 non-null  float64       \n",
      " 11  Average Temperature(Celcius)  505323 non-null  float64       \n",
      " 12  Wind Speed(km/h)              505323 non-null  float64       \n",
      " 13  Air Pressure(hPa)             505323 non-null  float64       \n",
      " 14  Is Cloudy                     505323 non-null  int64         \n",
      " 15  Is Fair                       505323 non-null  int64         \n",
      " 16  Is Fog                        505323 non-null  int64         \n",
      " 17  Is Thunderstorm               505323 non-null  int64         \n",
      " 18  Is Heavy Rain Shower          505323 non-null  int64         \n",
      " 19  Is Light Rain                 505323 non-null  int64         \n",
      " 20  Is Rain                       505323 non-null  int64         \n",
      " 21  Is Overcast                   505323 non-null  int64         \n",
      " 22  Is Heavy Rain                 505323 non-null  int64         \n",
      " 23  Is Clear                      505323 non-null  int64         \n",
      " 24  Is Holiday                    505323 non-null  int64         \n",
      "dtypes: datetime64[ns](2), float64(9), int64(14)\n",
      "memory usage: 96.4 MB\n"
     ]
    }
   ],
   "source": [
    "merged_data.info()"
   ]
  },
  {
   "cell_type": "code",
   "execution_count": 197,
   "metadata": {},
   "outputs": [
    {
     "data": {
      "text/html": [
       "<div>\n",
       "<style scoped>\n",
       "    .dataframe tbody tr th:only-of-type {\n",
       "        vertical-align: middle;\n",
       "    }\n",
       "\n",
       "    .dataframe tbody tr th {\n",
       "        vertical-align: top;\n",
       "    }\n",
       "\n",
       "    .dataframe thead th {\n",
       "        text-align: right;\n",
       "    }\n",
       "</style>\n",
       "<table border=\"1\" class=\"dataframe\">\n",
       "  <thead>\n",
       "    <tr style=\"text-align: right;\">\n",
       "      <th></th>\n",
       "      <th>Trip ID</th>\n",
       "      <th>Trip Start Time</th>\n",
       "      <th>Trip End Time</th>\n",
       "      <th>Trip Duration(minutes)</th>\n",
       "      <th>Day of Week</th>\n",
       "      <th>Hour of Day</th>\n",
       "      <th>Origin Lat</th>\n",
       "      <th>Origin Lon</th>\n",
       "      <th>Destination Lat</th>\n",
       "      <th>Destination Lon</th>\n",
       "      <th>...</th>\n",
       "      <th>Is Fair</th>\n",
       "      <th>Is Fog</th>\n",
       "      <th>Is Thunderstorm</th>\n",
       "      <th>Is Heavy Rain Shower</th>\n",
       "      <th>Is Light Rain</th>\n",
       "      <th>Is Rain</th>\n",
       "      <th>Is Overcast</th>\n",
       "      <th>Is Heavy Rain</th>\n",
       "      <th>Is Clear</th>\n",
       "      <th>Is Holiday</th>\n",
       "    </tr>\n",
       "  </thead>\n",
       "  <tbody>\n",
       "    <tr>\n",
       "      <th>505322</th>\n",
       "      <td>1637709</td>\n",
       "      <td>2021-12-30 20:55:38</td>\n",
       "      <td>2021-12-30 22:25:00</td>\n",
       "      <td>89.366667</td>\n",
       "      <td>3</td>\n",
       "      <td>20</td>\n",
       "      <td>6.64721</td>\n",
       "      <td>3.485149</td>\n",
       "      <td>6.454915</td>\n",
       "      <td>3.55584</td>\n",
       "      <td>...</td>\n",
       "      <td>1</td>\n",
       "      <td>0</td>\n",
       "      <td>0</td>\n",
       "      <td>0</td>\n",
       "      <td>0</td>\n",
       "      <td>0</td>\n",
       "      <td>0</td>\n",
       "      <td>0</td>\n",
       "      <td>0</td>\n",
       "      <td>0</td>\n",
       "    </tr>\n",
       "  </tbody>\n",
       "</table>\n",
       "<p>1 rows × 25 columns</p>\n",
       "</div>"
      ],
      "text/plain": [
       "        Trip ID     Trip Start Time       Trip End Time  \\\n",
       "505322  1637709 2021-12-30 20:55:38 2021-12-30 22:25:00   \n",
       "\n",
       "        Trip Duration(minutes)  Day of Week  Hour of Day  Origin Lat  \\\n",
       "505322               89.366667            3           20     6.64721   \n",
       "\n",
       "        Origin Lon  Destination Lat  Destination Lon  ...  Is Fair  Is Fog  \\\n",
       "505322    3.485149         6.454915          3.55584  ...        1       0   \n",
       "\n",
       "        Is Thunderstorm  Is Heavy Rain Shower  Is Light Rain  Is Rain  \\\n",
       "505322                0                     0              0        0   \n",
       "\n",
       "        Is Overcast  Is Heavy Rain  Is Clear  Is Holiday  \n",
       "505322            0              0         0           0  \n",
       "\n",
       "[1 rows x 25 columns]"
      ]
     },
     "execution_count": 197,
     "metadata": {},
     "output_type": "execute_result"
    }
   ],
   "source": [
    "merged_data.tail(1)"
   ]
  },
  {
   "cell_type": "code",
   "execution_count": 203,
   "metadata": {},
   "outputs": [],
   "source": [
    "merged_data['Is Weekend'] = merged_data['Day of Week'].apply(lambda x: 1 if x in [5, 6] else 0)"
   ]
  },
  {
   "cell_type": "code",
   "execution_count": 205,
   "metadata": {},
   "outputs": [
    {
     "name": "stdout",
     "output_type": "stream",
     "text": [
      "<class 'pandas.core.frame.DataFrame'>\n",
      "RangeIndex: 505323 entries, 0 to 505322\n",
      "Data columns (total 26 columns):\n",
      " #   Column                        Non-Null Count   Dtype         \n",
      "---  ------                        --------------   -----         \n",
      " 0   Trip ID                       505323 non-null  int64         \n",
      " 1   Trip Start Time               505323 non-null  datetime64[ns]\n",
      " 2   Trip End Time                 505323 non-null  datetime64[ns]\n",
      " 3   Trip Duration(minutes)        505323 non-null  float64       \n",
      " 4   Day of Week                   505323 non-null  int64         \n",
      " 5   Hour of Day                   505323 non-null  int64         \n",
      " 6   Origin Lat                    505323 non-null  float64       \n",
      " 7   Origin Lon                    505323 non-null  float64       \n",
      " 8   Destination Lat               505323 non-null  float64       \n",
      " 9   Destination Lon               505323 non-null  float64       \n",
      " 10  Trip Distance (km)            505323 non-null  float64       \n",
      " 11  Average Temperature(Celcius)  505323 non-null  float64       \n",
      " 12  Wind Speed(km/h)              505323 non-null  float64       \n",
      " 13  Air Pressure(hPa)             505323 non-null  float64       \n",
      " 14  Is Cloudy                     505323 non-null  int64         \n",
      " 15  Is Fair                       505323 non-null  int64         \n",
      " 16  Is Fog                        505323 non-null  int64         \n",
      " 17  Is Thunderstorm               505323 non-null  int64         \n",
      " 18  Is Heavy Rain Shower          505323 non-null  int64         \n",
      " 19  Is Light Rain                 505323 non-null  int64         \n",
      " 20  Is Rain                       505323 non-null  int64         \n",
      " 21  Is Overcast                   505323 non-null  int64         \n",
      " 22  Is Heavy Rain                 505323 non-null  int64         \n",
      " 23  Is Clear                      505323 non-null  int64         \n",
      " 24  Is Holiday                    505323 non-null  int64         \n",
      " 25  Is Weekend                    505323 non-null  int64         \n",
      "dtypes: datetime64[ns](2), float64(9), int64(15)\n",
      "memory usage: 100.2 MB\n"
     ]
    }
   ],
   "source": [
    "merged_data.info()"
   ]
  },
  {
   "cell_type": "code",
   "execution_count": 207,
   "metadata": {},
   "outputs": [],
   "source": [
    "merged_data.to_csv('data/complete_orders_features_engineered.csv', index=False)"
   ]
  }
 ],
 "metadata": {
  "kernelspec": {
   "display_name": "causal",
   "language": "python",
   "name": "python3"
  },
  "language_info": {
   "codemirror_mode": {
    "name": "ipython",
    "version": 3
   },
   "file_extension": ".py",
   "mimetype": "text/x-python",
   "name": "python",
   "nbconvert_exporter": "python",
   "pygments_lexer": "ipython3",
   "version": "3.10.0"
  }
 },
 "nbformat": 4,
 "nbformat_minor": 2
}
