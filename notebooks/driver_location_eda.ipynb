{
 "cells": [
  {
   "cell_type": "code",
   "execution_count": 2,
   "metadata": {},
   "outputs": [],
   "source": [
    "%reload_ext autoreload"
   ]
  },
  {
   "cell_type": "code",
   "execution_count": 3,
   "metadata": {},
   "outputs": [],
   "source": [
    "import pandas as pd\n",
    "import os"
   ]
  },
  {
   "cell_type": "code",
   "execution_count": 4,
   "metadata": {},
   "outputs": [],
   "source": [
    "os.chdir(\"..\")"
   ]
  },
  {
   "cell_type": "code",
   "execution_count": 5,
   "metadata": {},
   "outputs": [
    {
     "data": {
      "text/plain": [
       "'c:\\\\Users\\\\user\\\\Downloads\\\\ten_academy\\\\week8\\\\Causal_Inference'"
      ]
     },
     "execution_count": 5,
     "metadata": {},
     "output_type": "execute_result"
    }
   ],
   "source": [
    "os.getcwd()"
   ]
  },
  {
   "cell_type": "code",
   "execution_count": 6,
   "metadata": {},
   "outputs": [],
   "source": [
    "# Load the driver locations during request dataset\n",
    "driver_locations = pd.read_csv('data/driver_locations_during_request.csv')\n",
    "completed_features = pd.read_csv('data/complete_orders_features_engineered.csv')"
   ]
  },
  {
   "cell_type": "code",
   "execution_count": 8,
   "metadata": {},
   "outputs": [
    {
     "data": {
      "text/plain": [
       "1557740"
      ]
     },
     "execution_count": 8,
     "metadata": {},
     "output_type": "execute_result"
    }
   ],
   "source": [
    "len(driver_locations)"
   ]
  },
  {
   "cell_type": "code",
   "execution_count": 9,
   "metadata": {},
   "outputs": [
    {
     "data": {
      "text/plain": [
       "505323"
      ]
     },
     "execution_count": 9,
     "metadata": {},
     "output_type": "execute_result"
    }
   ],
   "source": [
    "len(completed_features)"
   ]
  },
  {
   "cell_type": "code",
   "execution_count": 10,
   "metadata": {},
   "outputs": [
    {
     "name": "stdout",
     "output_type": "stream",
     "text": [
      "<class 'pandas.core.frame.DataFrame'>\n",
      "RangeIndex: 505323 entries, 0 to 505322\n",
      "Data columns (total 26 columns):\n",
      " #   Column                        Non-Null Count   Dtype  \n",
      "---  ------                        --------------   -----  \n",
      " 0   Trip ID                       505323 non-null  int64  \n",
      " 1   Trip Start Time               505323 non-null  object \n",
      " 2   Trip End Time                 505323 non-null  object \n",
      " 3   Trip Duration(minutes)        505323 non-null  float64\n",
      " 4   Day of Week                   505323 non-null  int64  \n",
      " 5   Hour of Day                   505323 non-null  int64  \n",
      " 6   Origin Lat                    505323 non-null  float64\n",
      " 7   Origin Lon                    505323 non-null  float64\n",
      " 8   Destination Lat               505323 non-null  float64\n",
      " 9   Destination Lon               505323 non-null  float64\n",
      " 10  Trip Distance (km)            505323 non-null  float64\n",
      " 11  Average Temperature(Celcius)  505323 non-null  float64\n",
      " 12  Wind Speed(km/h)              505323 non-null  float64\n",
      " 13  Air Pressure(hPa)             505323 non-null  float64\n",
      " 14  Is Cloudy                     505323 non-null  int64  \n",
      " 15  Is Fair                       505323 non-null  int64  \n",
      " 16  Is Fog                        505323 non-null  int64  \n",
      " 17  Is Thunderstorm               505323 non-null  int64  \n",
      " 18  Is Heavy Rain Shower          505323 non-null  int64  \n",
      " 19  Is Light Rain                 505323 non-null  int64  \n",
      " 20  Is Rain                       505323 non-null  int64  \n",
      " 21  Is Overcast                   505323 non-null  int64  \n",
      " 22  Is Heavy Rain                 505323 non-null  int64  \n",
      " 23  Is Clear                      505323 non-null  int64  \n",
      " 24  Is Holiday                    505323 non-null  int64  \n",
      " 25  Is Weekend                    505323 non-null  int64  \n",
      "dtypes: float64(9), int64(15), object(2)\n",
      "memory usage: 100.2+ MB\n"
     ]
    }
   ],
   "source": [
    "completed_features.info()"
   ]
  },
  {
   "cell_type": "code",
   "execution_count": 11,
   "metadata": {},
   "outputs": [
    {
     "data": {
      "text/plain": [
       "id               1557740\n",
       "order_id           26492\n",
       "driver_id           1213\n",
       "driver_action          2\n",
       "lat               194406\n",
       "lng               170385\n",
       "created_at             0\n",
       "updated_at             0\n",
       "dtype: int64"
      ]
     },
     "execution_count": 11,
     "metadata": {},
     "output_type": "execute_result"
    }
   ],
   "source": [
    "driver_locations.nunique()"
   ]
  },
  {
   "cell_type": "code",
   "execution_count": 12,
   "metadata": {},
   "outputs": [],
   "source": [
    "driver_locations.rename(columns={'lat': 'Driver Lat', 'lng': 'Driver Lon', 'driver_action': 'Driver Action', 'driver_id': 'Driver ID'}, inplace=True)"
   ]
  },
  {
   "cell_type": "code",
   "execution_count": 13,
   "metadata": {},
   "outputs": [
    {
     "name": "stdout",
     "output_type": "stream",
     "text": [
      "<class 'pandas.core.frame.DataFrame'>\n",
      "RangeIndex: 1557740 entries, 0 to 1557739\n",
      "Data columns (total 8 columns):\n",
      " #   Column         Non-Null Count    Dtype  \n",
      "---  ------         --------------    -----  \n",
      " 0   id             1557740 non-null  int64  \n",
      " 1   order_id       1557740 non-null  int64  \n",
      " 2   Driver ID      1557740 non-null  int64  \n",
      " 3   Driver Action  1557740 non-null  object \n",
      " 4   Driver Lat     1557740 non-null  float64\n",
      " 5   Driver Lon     1557740 non-null  float64\n",
      " 6   created_at     0 non-null        float64\n",
      " 7   updated_at     0 non-null        float64\n",
      "dtypes: float64(4), int64(3), object(1)\n",
      "memory usage: 95.1+ MB\n"
     ]
    }
   ],
   "source": [
    "driver_locations.info()"
   ]
  },
  {
   "cell_type": "code",
   "execution_count": 14,
   "metadata": {},
   "outputs": [
    {
     "data": {
      "text/plain": [
       "id                     0\n",
       "order_id               0\n",
       "Driver ID              0\n",
       "Driver Action          0\n",
       "Driver Lat             0\n",
       "Driver Lon             0\n",
       "created_at       1557740\n",
       "updated_at       1557740\n",
       "dtype: int64"
      ]
     },
     "execution_count": 14,
     "metadata": {},
     "output_type": "execute_result"
    }
   ],
   "source": [
    "driver_locations.isna().sum()"
   ]
  },
  {
   "cell_type": "code",
   "execution_count": 15,
   "metadata": {},
   "outputs": [],
   "source": [
    "# Drop columns with all missing values\n",
    "driver_locations_cleaned = driver_locations.drop(columns=['created_at', 'updated_at'])"
   ]
  },
  {
   "cell_type": "code",
   "execution_count": 16,
   "metadata": {},
   "outputs": [
    {
     "data": {
      "text/plain": [
       "id               0\n",
       "order_id         0\n",
       "Driver ID        0\n",
       "Driver Action    0\n",
       "Driver Lat       0\n",
       "Driver Lon       0\n",
       "dtype: int64"
      ]
     },
     "execution_count": 16,
     "metadata": {},
     "output_type": "execute_result"
    }
   ],
   "source": [
    "driver_locations_cleaned.isna().sum()"
   ]
  },
  {
   "cell_type": "code",
   "execution_count": 17,
   "metadata": {},
   "outputs": [
    {
     "data": {
      "text/plain": [
       "((1557740, 8), (505323, 26))"
      ]
     },
     "execution_count": 17,
     "metadata": {},
     "output_type": "execute_result"
    }
   ],
   "source": [
    "driver_locations.shape, completed_features.shape"
   ]
  },
  {
   "cell_type": "code",
   "execution_count": 18,
   "metadata": {},
   "outputs": [
    {
     "name": "stdout",
     "output_type": "stream",
     "text": [
      "<class 'pandas.core.frame.DataFrame'>\n",
      "RangeIndex: 1557740 entries, 0 to 1557739\n",
      "Data columns (total 6 columns):\n",
      " #   Column         Non-Null Count    Dtype  \n",
      "---  ------         --------------    -----  \n",
      " 0   id             1557740 non-null  int64  \n",
      " 1   order_id       1557740 non-null  int64  \n",
      " 2   Driver ID      1557740 non-null  int64  \n",
      " 3   Driver Action  1557740 non-null  object \n",
      " 4   Driver Lat     1557740 non-null  float64\n",
      " 5   Driver Lon     1557740 non-null  float64\n",
      "dtypes: float64(2), int64(3), object(1)\n",
      "memory usage: 71.3+ MB\n"
     ]
    },
    {
     "data": {
      "text/plain": [
       "(None,\n",
       "    id  order_id  Driver ID Driver Action  Driver Lat  Driver Lon\n",
       " 0   1    392001     243828      accepted    6.602207    3.270465\n",
       " 1   2    392001     243588      rejected    6.592097    3.287445\n",
       " 2   3    392001     243830      rejected    6.596133    3.281784\n",
       " 3   4    392001     243539      rejected    6.596142    3.280526\n",
       " 4   5    392001     171653      rejected    6.609232    3.288800)"
      ]
     },
     "execution_count": 18,
     "metadata": {},
     "output_type": "execute_result"
    }
   ],
   "source": [
    "# Display basic information and first few rows of the cleaned dataset\n",
    "driver_locations_cleaned_info = driver_locations_cleaned.info()\n",
    "driver_locations_cleaned_head = driver_locations_cleaned.head()\n",
    "\n",
    "driver_locations_cleaned_info, driver_locations_cleaned_head"
   ]
  },
  {
   "cell_type": "code",
   "execution_count": 8,
   "metadata": {},
   "outputs": [],
   "source": [
    "from utils.prepare_data import DataPreparation\n",
    "\n",
    "prepares = DataPreparation()"
   ]
  },
  {
   "cell_type": "code",
   "execution_count": 20,
   "metadata": {},
   "outputs": [
    {
     "data": {
      "text/html": [
       "<div>\n",
       "<style scoped>\n",
       "    .dataframe tbody tr th:only-of-type {\n",
       "        vertical-align: middle;\n",
       "    }\n",
       "\n",
       "    .dataframe tbody tr th {\n",
       "        vertical-align: top;\n",
       "    }\n",
       "\n",
       "    .dataframe thead th {\n",
       "        text-align: right;\n",
       "    }\n",
       "</style>\n",
       "<table border=\"1\" class=\"dataframe\">\n",
       "  <thead>\n",
       "    <tr style=\"text-align: right;\">\n",
       "      <th></th>\n",
       "      <th>id</th>\n",
       "      <th>order_id</th>\n",
       "      <th>Driver ID</th>\n",
       "      <th>Driver Action</th>\n",
       "      <th>Driver Lat</th>\n",
       "      <th>Driver Lon</th>\n",
       "    </tr>\n",
       "  </thead>\n",
       "  <tbody>\n",
       "    <tr>\n",
       "      <th>0</th>\n",
       "      <td>1</td>\n",
       "      <td>392001</td>\n",
       "      <td>243828</td>\n",
       "      <td>accepted</td>\n",
       "      <td>6.602207</td>\n",
       "      <td>3.270465</td>\n",
       "    </tr>\n",
       "    <tr>\n",
       "      <th>1</th>\n",
       "      <td>2</td>\n",
       "      <td>392001</td>\n",
       "      <td>243588</td>\n",
       "      <td>rejected</td>\n",
       "      <td>6.592097</td>\n",
       "      <td>3.287445</td>\n",
       "    </tr>\n",
       "    <tr>\n",
       "      <th>2</th>\n",
       "      <td>3</td>\n",
       "      <td>392001</td>\n",
       "      <td>243830</td>\n",
       "      <td>rejected</td>\n",
       "      <td>6.596133</td>\n",
       "      <td>3.281784</td>\n",
       "    </tr>\n",
       "  </tbody>\n",
       "</table>\n",
       "</div>"
      ],
      "text/plain": [
       "   id  order_id  Driver ID Driver Action  Driver Lat  Driver Lon\n",
       "0   1    392001     243828      accepted    6.602207    3.270465\n",
       "1   2    392001     243588      rejected    6.592097    3.287445\n",
       "2   3    392001     243830      rejected    6.596133    3.281784"
      ]
     },
     "execution_count": 20,
     "metadata": {},
     "output_type": "execute_result"
    }
   ],
   "source": [
    "driver_locations_cleaned.head(\n",
    "    3\n",
    ")"
   ]
  },
  {
   "cell_type": "code",
   "execution_count": 21,
   "metadata": {},
   "outputs": [
    {
     "data": {
      "text/plain": [
       "1557740"
      ]
     },
     "execution_count": 21,
     "metadata": {},
     "output_type": "execute_result"
    }
   ],
   "source": [
    "len(driver_locations_cleaned)"
   ]
  },
  {
   "cell_type": "code",
   "execution_count": 22,
   "metadata": {},
   "outputs": [
    {
     "data": {
      "image/png": "[encoded data removed]",
      "text/plain": [
       "<Figure size 600x400 with 1 Axes>"
      ]
     },
     "metadata": {},
     "output_type": "display_data"
    }
   ],
   "source": [
    "import matplotlib.pyplot as plt\n",
    "\n",
    "# Plot the distribution of driver actions\n",
    "plt.figure(figsize=(6, 4))\n",
    "driver_locations_cleaned['Driver Action'].value_counts().plot(kind='bar')\n",
    "plt.xlabel('Driver Action')\n",
    "plt.ylabel('Count')\n",
    "plt.title('Distribution of Driver Actions')\n",
    "plt.show()\n"
   ]
  },
  {
   "cell_type": "code",
   "execution_count": 23,
   "metadata": {},
   "outputs": [
    {
     "data": {
      "image/png": "[encoded data removed]",
      "text/plain": [
       "<Figure size 1600x400 with 1 Axes>"
      ]
     },
     "metadata": {},
     "output_type": "display_data"
    }
   ],
   "source": [
    "# plot unique driver ids\n",
    "plt.figure(figsize=(16, 4))\n",
    "driver_locations_cleaned['Driver ID'].value_counts().head(100).plot(kind='bar')\n",
    "plt.xlabel('Driver ID')\n",
    "plt.ylabel('Count')\n",
    "plt.title('Distribution of Unique Driver IDs')\n",
    "plt.show()"
   ]
  },
  {
   "cell_type": "code",
   "execution_count": 24,
   "metadata": {},
   "outputs": [
    {
     "data": {
      "text/plain": [
       "Driver ID  Driver Action\n",
       "121981     rejected         2133\n",
       "           accepted           16\n",
       "171091     rejected         2696\n",
       "           accepted           19\n",
       "171092     rejected         3619\n",
       "                            ... \n",
       "247709     rejected            2\n",
       "247794     rejected            1\n",
       "247831     rejected           21\n",
       "247877     accepted            1\n",
       "           rejected            1\n",
       "Name: count, Length: 2365, dtype: int64"
      ]
     },
     "execution_count": 24,
     "metadata": {},
     "output_type": "execute_result"
    }
   ],
   "source": [
    "#get the number of times a driver has been accepted or rejected by unique drivers id\n",
    "\n",
    "driver_locations_cleaned.groupby('Driver ID')[['Driver Action',]].value_counts()"
   ]
  },
  {
   "cell_type": "code",
   "execution_count": null,
   "metadata": {},
   "outputs": [],
   "source": [
    "import geopandas as gpd\n",
    "from shapely.geometry import Point\n",
    "\n",
    "# Create a GeoDataFrame for driver locations\n",
    "geometry = [Point(xy) for xy in zip(driver_locations_cleaned['lng'], driver_locations_cleaned['lat'])]\n",
    "gdf = gpd.GeoDataFrame(driver_locations_cleaned, geometry=geometry)\n",
    "\n",
    "# Plot the driver locations on a map\n",
    "world = gpd.read_file(gpd.datasets.get_path('naturalearth_lowres'))\n",
    "ax = world[world.name == 'Nigeria'].plot(figsize=(10, 6), color='white', edgecolor='black')\n",
    "\n",
    "# Plot driver locations\n",
    "gdf.plot(ax=ax, marker='o', color='red', markersize=5)\n",
    "plt.title('Driver Locations in Lagos, Nigeria')\n",
    "plt.show()\n"
   ]
  },
  {
   "cell_type": "code",
   "execution_count": null,
   "metadata": {},
   "outputs": [],
   "source": [
    "import folium\n",
    "\n",
    "# Create a map centered around Lagos\n",
    "m = folium.Map(location=[6.5244, 3.3792], zoom_start=12)\n",
    "\n",
    "# Add points to the map\n",
    "for idx, row in driver_locations_cleaned.iterrows():\n",
    "    folium.CircleMarker(location=[row['lat'], row['lng']], radius=1, color='blue').add_to(m)\n",
    "\n",
    "# Display the map\n",
    "m\n"
   ]
  },
  {
   "cell_type": "code",
   "execution_count": null,
   "metadata": {},
   "outputs": [],
   "source": [
    "# Load the completed orders dataset\n",
    "completed_orders = pd.read_csv('data/nb.csv')\n",
    "\n",
    "# Clean and preprocess completed orders data\n",
    "completed_orders_cleaned = completed_orders.dropna(subset=['Trip Start Time', 'Trip End Time'])\n",
    "completed_orders_cleaned['Trip Start Time'] = pd.to_datetime(completed_orders_cleaned['Trip Start Time'])\n",
    "completed_orders_cleaned['Trip End Time'] = pd.to_datetime(completed_orders_cleaned['Trip End Time'])\n",
    "completed_orders_cleaned[['Origin Lat', 'Origin Lon']] = completed_orders_cleaned['Trip Origin'].str.split(',', expand=True).astype(float)\n",
    "completed_orders_cleaned[['Destination Lat', 'Destination Lon']] = completed_orders_cleaned['Trip Destination'].str.split(',', expand=True).astype(float)\n",
    "\n",
    "# Merge driver locations with completed orders on 'order_id'\n",
    "merged_data = pd.merge(driver_locations_cleaned, completed_orders_cleaned, left_on='order_id', right_on='Trip ID', how='inner')\n",
    "\n",
    "# Calculate distance between driver location and order origin\n",
    "merged_data['Driver to Origin Distance (km)'] = prepares.haversine_distance(\n",
    "    merged_data['lat'], merged_data['lng'],\n",
    "    merged_data['Origin Lat'], merged_data['Origin Lon']\n",
    ")\n",
    "\n",
    "# Display the first few rows of the merged data\n",
    "merged_data_head = merged_data[['order_id', 'driver_id', 'Driver to Origin Distance (km)', 'Origin Lat', 'Origin Lon', 'lat', 'lng']].head()\n",
    "merged_data_head\n"
   ]
  },
  {
   "cell_type": "code",
   "execution_count": null,
   "metadata": {},
   "outputs": [],
   "source": [
    "driver_locations_cleaned, completed_features"
   ]
  },
  {
   "cell_type": "code",
   "execution_count": 25,
   "metadata": {},
   "outputs": [],
   "source": [
    "# Merge driver locations with completed orders on 'order_id'\n",
    "merged_data = pd.merge(driver_locations_cleaned, completed_features, left_on='order_id', right_on='Trip ID', )"
   ]
  },
  {
   "cell_type": "code",
   "execution_count": 26,
   "metadata": {},
   "outputs": [
    {
     "data": {
      "text/plain": [
       "id                              0.0\n",
       "order_id                        0.0\n",
       "Driver ID                       0.0\n",
       "Driver Action                   0.0\n",
       "Driver Lat                      0.0\n",
       "Driver Lon                      0.0\n",
       "Trip ID                         0.0\n",
       "Trip Start Time                 0.0\n",
       "Trip End Time                   0.0\n",
       "Trip Duration(minutes)          0.0\n",
       "Day of Week                     0.0\n",
       "Hour of Day                     0.0\n",
       "Origin Lat                      0.0\n",
       "Origin Lon                      0.0\n",
       "Destination Lat                 0.0\n",
       "Destination Lon                 0.0\n",
       "Trip Distance (km)              0.0\n",
       "Average Temperature(Celcius)    0.0\n",
       "Wind Speed(km/h)                0.0\n",
       "Air Pressure(hPa)               0.0\n",
       "Is Cloudy                       0.0\n",
       "Is Fair                         0.0\n",
       "Is Fog                          0.0\n",
       "Is Thunderstorm                 0.0\n",
       "Is Heavy Rain Shower            0.0\n",
       "Is Light Rain                   0.0\n",
       "Is Rain                         0.0\n",
       "Is Overcast                     0.0\n",
       "Is Heavy Rain                   0.0\n",
       "Is Clear                        0.0\n",
       "Is Holiday                      0.0\n",
       "Is Weekend                      0.0\n",
       "dtype: float64"
      ]
     },
     "execution_count": 26,
     "metadata": {},
     "output_type": "execute_result"
    }
   ],
   "source": [
    "merged_data.isna().sum()/len(merged_data) * 100"
   ]
  },
  {
   "cell_type": "code",
   "execution_count": 27,
   "metadata": {},
   "outputs": [
    {
     "name": "stdout",
     "output_type": "stream",
     "text": [
      "<class 'pandas.core.frame.DataFrame'>\n",
      "RangeIndex: 1504394 entries, 0 to 1504393\n",
      "Data columns (total 32 columns):\n",
      " #   Column                        Non-Null Count    Dtype  \n",
      "---  ------                        --------------    -----  \n",
      " 0   id                            1504394 non-null  int64  \n",
      " 1   order_id                      1504394 non-null  int64  \n",
      " 2   Driver ID                     1504394 non-null  int64  \n",
      " 3   Driver Action                 1504394 non-null  object \n",
      " 4   Driver Lat                    1504394 non-null  float64\n",
      " 5   Driver Lon                    1504394 non-null  float64\n",
      " 6   Trip ID                       1504394 non-null  int64  \n",
      " 7   Trip Start Time               1504394 non-null  object \n",
      " 8   Trip End Time                 1504394 non-null  object \n",
      " 9   Trip Duration(minutes)        1504394 non-null  float64\n",
      " 10  Day of Week                   1504394 non-null  int64  \n",
      " 11  Hour of Day                   1504394 non-null  int64  \n",
      " 12  Origin Lat                    1504394 non-null  float64\n",
      " 13  Origin Lon                    1504394 non-null  float64\n",
      " 14  Destination Lat               1504394 non-null  float64\n",
      " 15  Destination Lon               1504394 non-null  float64\n",
      " 16  Trip Distance (km)            1504394 non-null  float64\n",
      " 17  Average Temperature(Celcius)  1504394 non-null  float64\n",
      " 18  Wind Speed(km/h)              1504394 non-null  float64\n",
      " 19  Air Pressure(hPa)             1504394 non-null  float64\n",
      " 20  Is Cloudy                     1504394 non-null  int64  \n",
      " 21  Is Fair                       1504394 non-null  int64  \n",
      " 22  Is Fog                        1504394 non-null  int64  \n",
      " 23  Is Thunderstorm               1504394 non-null  int64  \n",
      " 24  Is Heavy Rain Shower          1504394 non-null  int64  \n",
      " 25  Is Light Rain                 1504394 non-null  int64  \n",
      " 26  Is Rain                       1504394 non-null  int64  \n",
      " 27  Is Overcast                   1504394 non-null  int64  \n",
      " 28  Is Heavy Rain                 1504394 non-null  int64  \n",
      " 29  Is Clear                      1504394 non-null  int64  \n",
      " 30  Is Holiday                    1504394 non-null  int64  \n",
      " 31  Is Weekend                    1504394 non-null  int64  \n",
      "dtypes: float64(11), int64(18), object(3)\n",
      "memory usage: 367.3+ MB\n"
     ]
    }
   ],
   "source": [
    "merged_data.info()"
   ]
  },
  {
   "cell_type": "code",
   "execution_count": 9,
   "metadata": {},
   "outputs": [],
   "source": [
    "# calculate the distance between driver location and order origin\n",
    "merged_data['Distance From Driver to Origin(km)'] = prepares.haversine_distance(\n",
    "    merged_data['Driver Lat'], merged_data['Driver Lon'],\n",
    "    merged_data['Origin Lat'], merged_data['Origin Lon']\n",
    ")"
   ]
  },
  {
   "cell_type": "code",
   "execution_count": null,
   "metadata": {},
   "outputs": [],
   "source": [
    "# drop columns\n",
    "merged_data = merged_data.drop(['order_id', ], axis=1)"
   ]
  },
  {
   "cell_type": "code",
   "execution_count": 10,
   "metadata": {},
   "outputs": [
    {
     "name": "stdout",
     "output_type": "stream",
     "text": [
      "<class 'pandas.core.frame.DataFrame'>\n",
      "RangeIndex: 1504394 entries, 0 to 1504393\n",
      "Data columns (total 32 columns):\n",
      " #   Column                              Non-Null Count    Dtype  \n",
      "---  ------                              --------------    -----  \n",
      " 0   id                                  1504394 non-null  int64  \n",
      " 1   Driver ID                           1504394 non-null  int64  \n",
      " 2   Driver Action                       1504394 non-null  object \n",
      " 3   Driver Lat                          1504394 non-null  float64\n",
      " 4   Driver Lon                          1504394 non-null  float64\n",
      " 5   Trip ID                             1504394 non-null  int64  \n",
      " 6   Trip Start Time                     1504394 non-null  object \n",
      " 7   Trip End Time                       1504394 non-null  object \n",
      " 8   Trip Duration(minutes)              1504394 non-null  float64\n",
      " 9   Day of Week                         1504394 non-null  int64  \n",
      " 10  Hour of Day                         1504394 non-null  int64  \n",
      " 11  Origin Lat                          1504394 non-null  float64\n",
      " 12  Origin Lon                          1504394 non-null  float64\n",
      " 13  Destination Lat                     1504394 non-null  float64\n",
      " 14  Destination Lon                     1504394 non-null  float64\n",
      " 15  Trip Distance (km)                  1504394 non-null  float64\n",
      " 16  Average Temperature(Celcius)        1504394 non-null  float64\n",
      " 17  Wind Speed(km/h)                    1504394 non-null  float64\n",
      " 18  Air Pressure(hPa)                   1504394 non-null  float64\n",
      " 19  Is Cloudy                           1504394 non-null  int64  \n",
      " 20  Is Fair                             1504394 non-null  int64  \n",
      " 21  Is Fog                              1504394 non-null  int64  \n",
      " 22  Is Thunderstorm                     1504394 non-null  int64  \n",
      " 23  Is Heavy Rain Shower                1504394 non-null  int64  \n",
      " 24  Is Light Rain                       1504394 non-null  int64  \n",
      " 25  Is Rain                             1504394 non-null  int64  \n",
      " 26  Is Overcast                         1504394 non-null  int64  \n",
      " 27  Is Heavy Rain                       1504394 non-null  int64  \n",
      " 28  Is Clear                            1504394 non-null  int64  \n",
      " 29  Is Holiday                          1504394 non-null  int64  \n",
      " 30  Is Weekend                          1504394 non-null  int64  \n",
      " 31  Distance From Driver to Origin(km)  1504394 non-null  float64\n",
      "dtypes: float64(12), int64(17), object(3)\n",
      "memory usage: 367.3+ MB\n"
     ]
    }
   ],
   "source": [
    "merged_data.info()"
   ]
  },
  {
   "cell_type": "code",
   "execution_count": 40,
   "metadata": {},
   "outputs": [
    {
     "data": {
      "text/html": [
       "<div>\n",
       "<style scoped>\n",
       "    .dataframe tbody tr th:only-of-type {\n",
       "        vertical-align: middle;\n",
       "    }\n",
       "\n",
       "    .dataframe tbody tr th {\n",
       "        vertical-align: top;\n",
       "    }\n",
       "\n",
       "    .dataframe thead th {\n",
       "        text-align: right;\n",
       "    }\n",
       "</style>\n",
       "<table border=\"1\" class=\"dataframe\">\n",
       "  <thead>\n",
       "    <tr style=\"text-align: right;\">\n",
       "      <th></th>\n",
       "      <th>id</th>\n",
       "      <th>Driver ID</th>\n",
       "      <th>Driver Action</th>\n",
       "      <th>Driver Lat</th>\n",
       "      <th>Driver Lon</th>\n",
       "      <th>Trip ID</th>\n",
       "      <th>Trip Start Time</th>\n",
       "      <th>Trip End Time</th>\n",
       "      <th>Trip Duration(minutes)</th>\n",
       "      <th>Day of Week</th>\n",
       "      <th>...</th>\n",
       "      <th>Is Thunderstorm</th>\n",
       "      <th>Is Heavy Rain Shower</th>\n",
       "      <th>Is Light Rain</th>\n",
       "      <th>Is Rain</th>\n",
       "      <th>Is Overcast</th>\n",
       "      <th>Is Heavy Rain</th>\n",
       "      <th>Is Clear</th>\n",
       "      <th>Is Holiday</th>\n",
       "      <th>Is Weekend</th>\n",
       "      <th>Distance From Driver to Origin(km)</th>\n",
       "    </tr>\n",
       "  </thead>\n",
       "  <tbody>\n",
       "    <tr>\n",
       "      <th>0</th>\n",
       "      <td>1</td>\n",
       "      <td>243828</td>\n",
       "      <td>accepted</td>\n",
       "      <td>6.602207</td>\n",
       "      <td>3.270465</td>\n",
       "      <td>392001</td>\n",
       "      <td>2021-07-01 09:30:59</td>\n",
       "      <td>2021-07-01 09:34:36</td>\n",
       "      <td>3.616667</td>\n",
       "      <td>3</td>\n",
       "      <td>...</td>\n",
       "      <td>1</td>\n",
       "      <td>0</td>\n",
       "      <td>0</td>\n",
       "      <td>0</td>\n",
       "      <td>0</td>\n",
       "      <td>0</td>\n",
       "      <td>0</td>\n",
       "      <td>0</td>\n",
       "      <td>0</td>\n",
       "      <td>0.693615</td>\n",
       "    </tr>\n",
       "    <tr>\n",
       "      <th>1</th>\n",
       "      <td>2</td>\n",
       "      <td>243588</td>\n",
       "      <td>rejected</td>\n",
       "      <td>6.592097</td>\n",
       "      <td>3.287445</td>\n",
       "      <td>392001</td>\n",
       "      <td>2021-07-01 09:30:59</td>\n",
       "      <td>2021-07-01 09:34:36</td>\n",
       "      <td>3.616667</td>\n",
       "      <td>3</td>\n",
       "      <td>...</td>\n",
       "      <td>1</td>\n",
       "      <td>0</td>\n",
       "      <td>0</td>\n",
       "      <td>0</td>\n",
       "      <td>0</td>\n",
       "      <td>0</td>\n",
       "      <td>0</td>\n",
       "      <td>0</td>\n",
       "      <td>0</td>\n",
       "      <td>1.554086</td>\n",
       "    </tr>\n",
       "    <tr>\n",
       "      <th>2</th>\n",
       "      <td>3</td>\n",
       "      <td>243830</td>\n",
       "      <td>rejected</td>\n",
       "      <td>6.596133</td>\n",
       "      <td>3.281784</td>\n",
       "      <td>392001</td>\n",
       "      <td>2021-07-01 09:30:59</td>\n",
       "      <td>2021-07-01 09:34:36</td>\n",
       "      <td>3.616667</td>\n",
       "      <td>3</td>\n",
       "      <td>...</td>\n",
       "      <td>1</td>\n",
       "      <td>0</td>\n",
       "      <td>0</td>\n",
       "      <td>0</td>\n",
       "      <td>0</td>\n",
       "      <td>0</td>\n",
       "      <td>0</td>\n",
       "      <td>0</td>\n",
       "      <td>0</td>\n",
       "      <td>0.788353</td>\n",
       "    </tr>\n",
       "    <tr>\n",
       "      <th>3</th>\n",
       "      <td>4</td>\n",
       "      <td>243539</td>\n",
       "      <td>rejected</td>\n",
       "      <td>6.596142</td>\n",
       "      <td>3.280526</td>\n",
       "      <td>392001</td>\n",
       "      <td>2021-07-01 09:30:59</td>\n",
       "      <td>2021-07-01 09:34:36</td>\n",
       "      <td>3.616667</td>\n",
       "      <td>3</td>\n",
       "      <td>...</td>\n",
       "      <td>1</td>\n",
       "      <td>0</td>\n",
       "      <td>0</td>\n",
       "      <td>0</td>\n",
       "      <td>0</td>\n",
       "      <td>0</td>\n",
       "      <td>0</td>\n",
       "      <td>0</td>\n",
       "      <td>0</td>\n",
       "      <td>0.694071</td>\n",
       "    </tr>\n",
       "    <tr>\n",
       "      <th>4</th>\n",
       "      <td>5</td>\n",
       "      <td>171653</td>\n",
       "      <td>rejected</td>\n",
       "      <td>6.609232</td>\n",
       "      <td>3.288800</td>\n",
       "      <td>392001</td>\n",
       "      <td>2021-07-01 09:30:59</td>\n",
       "      <td>2021-07-01 09:34:36</td>\n",
       "      <td>3.616667</td>\n",
       "      <td>3</td>\n",
       "      <td>...</td>\n",
       "      <td>1</td>\n",
       "      <td>0</td>\n",
       "      <td>0</td>\n",
       "      <td>0</td>\n",
       "      <td>0</td>\n",
       "      <td>0</td>\n",
       "      <td>0</td>\n",
       "      <td>0</td>\n",
       "      <td>0</td>\n",
       "      <td>1.623329</td>\n",
       "    </tr>\n",
       "  </tbody>\n",
       "</table>\n",
       "<p>5 rows × 32 columns</p>\n",
       "</div>"
      ],
      "text/plain": [
       "   id  Driver ID Driver Action  Driver Lat  Driver Lon  Trip ID  \\\n",
       "0   1     243828      accepted    6.602207    3.270465   392001   \n",
       "1   2     243588      rejected    6.592097    3.287445   392001   \n",
       "2   3     243830      rejected    6.596133    3.281784   392001   \n",
       "3   4     243539      rejected    6.596142    3.280526   392001   \n",
       "4   5     171653      rejected    6.609232    3.288800   392001   \n",
       "\n",
       "       Trip Start Time        Trip End Time  Trip Duration(minutes)  \\\n",
       "0  2021-07-01 09:30:59  2021-07-01 09:34:36                3.616667   \n",
       "1  2021-07-01 09:30:59  2021-07-01 09:34:36                3.616667   \n",
       "2  2021-07-01 09:30:59  2021-07-01 09:34:36                3.616667   \n",
       "3  2021-07-01 09:30:59  2021-07-01 09:34:36                3.616667   \n",
       "4  2021-07-01 09:30:59  2021-07-01 09:34:36                3.616667   \n",
       "\n",
       "   Day of Week  ...  Is Thunderstorm  Is Heavy Rain Shower  Is Light Rain  \\\n",
       "0            3  ...                1                     0              0   \n",
       "1            3  ...                1                     0              0   \n",
       "2            3  ...                1                     0              0   \n",
       "3            3  ...                1                     0              0   \n",
       "4            3  ...                1                     0              0   \n",
       "\n",
       "   Is Rain  Is Overcast  Is Heavy Rain  Is Clear  Is Holiday  Is Weekend  \\\n",
       "0        0            0              0         0           0           0   \n",
       "1        0            0              0         0           0           0   \n",
       "2        0            0              0         0           0           0   \n",
       "3        0            0              0         0           0           0   \n",
       "4        0            0              0         0           0           0   \n",
       "\n",
       "   Distance From Driver to Origin(km)  \n",
       "0                            0.693615  \n",
       "1                            1.554086  \n",
       "2                            0.788353  \n",
       "3                            0.694071  \n",
       "4                            1.623329  \n",
       "\n",
       "[5 rows x 32 columns]"
      ]
     },
     "execution_count": 40,
     "metadata": {},
     "output_type": "execute_result"
    }
   ],
   "source": [
    "merged_data.head()"
   ]
  },
  {
   "cell_type": "code",
   "execution_count": 34,
   "metadata": {},
   "outputs": [
    {
     "data": {
      "text/plain": [
       "(1504394, 32)"
      ]
     },
     "execution_count": 34,
     "metadata": {},
     "output_type": "execute_result"
    }
   ],
   "source": [
    "merged_data.shape"
   ]
  },
  {
   "cell_type": "code",
   "execution_count": 11,
   "metadata": {},
   "outputs": [],
   "source": [
    "merged_data['Driver Action'] = merged_data['Driver Action'].apply(lambda x: 1 if x == 'accepted' else 0)"
   ]
  },
  {
   "cell_type": "code",
   "execution_count": 12,
   "metadata": {},
   "outputs": [
    {
     "data": {
      "text/html": [
       "<div>\n",
       "<style scoped>\n",
       "    .dataframe tbody tr th:only-of-type {\n",
       "        vertical-align: middle;\n",
       "    }\n",
       "\n",
       "    .dataframe tbody tr th {\n",
       "        vertical-align: top;\n",
       "    }\n",
       "\n",
       "    .dataframe thead th {\n",
       "        text-align: right;\n",
       "    }\n",
       "</style>\n",
       "<table border=\"1\" class=\"dataframe\">\n",
       "  <thead>\n",
       "    <tr style=\"text-align: right;\">\n",
       "      <th></th>\n",
       "      <th>id</th>\n",
       "      <th>Driver ID</th>\n",
       "      <th>Driver Action</th>\n",
       "      <th>Driver Lat</th>\n",
       "      <th>Driver Lon</th>\n",
       "      <th>Trip ID</th>\n",
       "      <th>Trip Start Time</th>\n",
       "      <th>Trip End Time</th>\n",
       "      <th>Trip Duration(minutes)</th>\n",
       "      <th>Day of Week</th>\n",
       "      <th>...</th>\n",
       "      <th>Is Thunderstorm</th>\n",
       "      <th>Is Heavy Rain Shower</th>\n",
       "      <th>Is Light Rain</th>\n",
       "      <th>Is Rain</th>\n",
       "      <th>Is Overcast</th>\n",
       "      <th>Is Heavy Rain</th>\n",
       "      <th>Is Clear</th>\n",
       "      <th>Is Holiday</th>\n",
       "      <th>Is Weekend</th>\n",
       "      <th>Distance From Driver to Origin(km)</th>\n",
       "    </tr>\n",
       "  </thead>\n",
       "  <tbody>\n",
       "    <tr>\n",
       "      <th>0</th>\n",
       "      <td>1</td>\n",
       "      <td>243828</td>\n",
       "      <td>1</td>\n",
       "      <td>6.602207</td>\n",
       "      <td>3.270465</td>\n",
       "      <td>392001</td>\n",
       "      <td>2021-07-01 09:30:59</td>\n",
       "      <td>2021-07-01 09:34:36</td>\n",
       "      <td>3.616667</td>\n",
       "      <td>3</td>\n",
       "      <td>...</td>\n",
       "      <td>1</td>\n",
       "      <td>0</td>\n",
       "      <td>0</td>\n",
       "      <td>0</td>\n",
       "      <td>0</td>\n",
       "      <td>0</td>\n",
       "      <td>0</td>\n",
       "      <td>0</td>\n",
       "      <td>0</td>\n",
       "      <td>0.693615</td>\n",
       "    </tr>\n",
       "    <tr>\n",
       "      <th>1</th>\n",
       "      <td>2</td>\n",
       "      <td>243588</td>\n",
       "      <td>0</td>\n",
       "      <td>6.592097</td>\n",
       "      <td>3.287445</td>\n",
       "      <td>392001</td>\n",
       "      <td>2021-07-01 09:30:59</td>\n",
       "      <td>2021-07-01 09:34:36</td>\n",
       "      <td>3.616667</td>\n",
       "      <td>3</td>\n",
       "      <td>...</td>\n",
       "      <td>1</td>\n",
       "      <td>0</td>\n",
       "      <td>0</td>\n",
       "      <td>0</td>\n",
       "      <td>0</td>\n",
       "      <td>0</td>\n",
       "      <td>0</td>\n",
       "      <td>0</td>\n",
       "      <td>0</td>\n",
       "      <td>1.554086</td>\n",
       "    </tr>\n",
       "    <tr>\n",
       "      <th>2</th>\n",
       "      <td>3</td>\n",
       "      <td>243830</td>\n",
       "      <td>0</td>\n",
       "      <td>6.596133</td>\n",
       "      <td>3.281784</td>\n",
       "      <td>392001</td>\n",
       "      <td>2021-07-01 09:30:59</td>\n",
       "      <td>2021-07-01 09:34:36</td>\n",
       "      <td>3.616667</td>\n",
       "      <td>3</td>\n",
       "      <td>...</td>\n",
       "      <td>1</td>\n",
       "      <td>0</td>\n",
       "      <td>0</td>\n",
       "      <td>0</td>\n",
       "      <td>0</td>\n",
       "      <td>0</td>\n",
       "      <td>0</td>\n",
       "      <td>0</td>\n",
       "      <td>0</td>\n",
       "      <td>0.788353</td>\n",
       "    </tr>\n",
       "    <tr>\n",
       "      <th>3</th>\n",
       "      <td>4</td>\n",
       "      <td>243539</td>\n",
       "      <td>0</td>\n",
       "      <td>6.596142</td>\n",
       "      <td>3.280526</td>\n",
       "      <td>392001</td>\n",
       "      <td>2021-07-01 09:30:59</td>\n",
       "      <td>2021-07-01 09:34:36</td>\n",
       "      <td>3.616667</td>\n",
       "      <td>3</td>\n",
       "      <td>...</td>\n",
       "      <td>1</td>\n",
       "      <td>0</td>\n",
       "      <td>0</td>\n",
       "      <td>0</td>\n",
       "      <td>0</td>\n",
       "      <td>0</td>\n",
       "      <td>0</td>\n",
       "      <td>0</td>\n",
       "      <td>0</td>\n",
       "      <td>0.694071</td>\n",
       "    </tr>\n",
       "    <tr>\n",
       "      <th>4</th>\n",
       "      <td>5</td>\n",
       "      <td>171653</td>\n",
       "      <td>0</td>\n",
       "      <td>6.609232</td>\n",
       "      <td>3.288800</td>\n",
       "      <td>392001</td>\n",
       "      <td>2021-07-01 09:30:59</td>\n",
       "      <td>2021-07-01 09:34:36</td>\n",
       "      <td>3.616667</td>\n",
       "      <td>3</td>\n",
       "      <td>...</td>\n",
       "      <td>1</td>\n",
       "      <td>0</td>\n",
       "      <td>0</td>\n",
       "      <td>0</td>\n",
       "      <td>0</td>\n",
       "      <td>0</td>\n",
       "      <td>0</td>\n",
       "      <td>0</td>\n",
       "      <td>0</td>\n",
       "      <td>1.623329</td>\n",
       "    </tr>\n",
       "  </tbody>\n",
       "</table>\n",
       "<p>5 rows × 32 columns</p>\n",
       "</div>"
      ],
      "text/plain": [
       "   id  Driver ID  Driver Action  Driver Lat  Driver Lon  Trip ID  \\\n",
       "0   1     243828              1    6.602207    3.270465   392001   \n",
       "1   2     243588              0    6.592097    3.287445   392001   \n",
       "2   3     243830              0    6.596133    3.281784   392001   \n",
       "3   4     243539              0    6.596142    3.280526   392001   \n",
       "4   5     171653              0    6.609232    3.288800   392001   \n",
       "\n",
       "       Trip Start Time        Trip End Time  Trip Duration(minutes)  \\\n",
       "0  2021-07-01 09:30:59  2021-07-01 09:34:36                3.616667   \n",
       "1  2021-07-01 09:30:59  2021-07-01 09:34:36                3.616667   \n",
       "2  2021-07-01 09:30:59  2021-07-01 09:34:36                3.616667   \n",
       "3  2021-07-01 09:30:59  2021-07-01 09:34:36                3.616667   \n",
       "4  2021-07-01 09:30:59  2021-07-01 09:34:36                3.616667   \n",
       "\n",
       "   Day of Week  ...  Is Thunderstorm  Is Heavy Rain Shower  Is Light Rain  \\\n",
       "0            3  ...                1                     0              0   \n",
       "1            3  ...                1                     0              0   \n",
       "2            3  ...                1                     0              0   \n",
       "3            3  ...                1                     0              0   \n",
       "4            3  ...                1                     0              0   \n",
       "\n",
       "   Is Rain  Is Overcast  Is Heavy Rain  Is Clear  Is Holiday  Is Weekend  \\\n",
       "0        0            0              0         0           0           0   \n",
       "1        0            0              0         0           0           0   \n",
       "2        0            0              0         0           0           0   \n",
       "3        0            0              0         0           0           0   \n",
       "4        0            0              0         0           0           0   \n",
       "\n",
       "   Distance From Driver to Origin(km)  \n",
       "0                            0.693615  \n",
       "1                            1.554086  \n",
       "2                            0.788353  \n",
       "3                            0.694071  \n",
       "4                            1.623329  \n",
       "\n",
       "[5 rows x 32 columns]"
      ]
     },
     "execution_count": 12,
     "metadata": {},
     "output_type": "execute_result"
    }
   ],
   "source": [
    "merged_data.head()"
   ]
  },
  {
   "cell_type": "code",
   "execution_count": 44,
   "metadata": {},
   "outputs": [
    {
     "data": {
      "text/plain": [
       "Index(['id', 'Driver ID', 'Driver Action', 'Driver Lat', 'Driver Lon',\n",
       "       'Trip ID', 'Trip Start Time', 'Trip End Time', 'Trip Duration(minutes)',\n",
       "       'Day of Week', 'Hour of Day', 'Origin Lat', 'Origin Lon',\n",
       "       'Destination Lat', 'Destination Lon', 'Trip Distance (km)',\n",
       "       'Average Temperature(Celcius)', 'Wind Speed(km/h)', 'Air Pressure(hPa)',\n",
       "       'Is Cloudy', 'Is Fair', 'Is Fog', 'Is Thunderstorm',\n",
       "       'Is Heavy Rain Shower', 'Is Light Rain', 'Is Rain', 'Is Overcast',\n",
       "       'Is Heavy Rain', 'Is Clear', 'Is Holiday', 'Is Weekend',\n",
       "       'Distance From Driver to Origin(km)'],\n",
       "      dtype='object')"
      ]
     },
     "execution_count": 44,
     "metadata": {},
     "output_type": "execute_result"
    }
   ],
   "source": [
    "merged_data.columns"
   ]
  },
  {
   "cell_type": "code",
   "execution_count": 7,
   "metadata": {},
   "outputs": [],
   "source": [
    "# merged_data.to_csv('data/ready_for_causal_inference.csv', index=False)\n",
    "merged_data = pd.read_csv('data/ready_for_causal_inference.csv')"
   ]
  },
  {
   "cell_type": "code",
   "execution_count": null,
   "metadata": {},
   "outputs": [],
   "source": [
    "import pandas as pd\n",
    "from shapely.geometry import Point\n",
    "import geopandas as gpd\n",
    "from geopandas import GeoDataFrame\n",
    "\n",
    "\n",
    "geometry = [Point(xy) for xy in zip(merged_data['Driver Lon'], merged_data['Driver Lat'])]\n",
    "gdf = GeoDataFrame(merged_data, geometry=geometry)   \n",
    "\n",
    "#this is a simple map that goes with geopandas\n",
    "world = gpd.read_file(gpd.datasets.get_path('naturalearth_lowres'))\n",
    "world[world[\"name\"] == \"Nigeria\"]\n",
    "gdf.plot(ax=world.plot(figsize=(10, 6), ), marker='o', color='red', markersize=15)\n",
    "# gdf.plot(ax=world.plot(figsize=(10, 6)), marker='o', color='red', markersize=15)"
   ]
  },
  {
   "cell_type": "code",
   "execution_count": null,
   "metadata": {},
   "outputs": [],
   "source": [
    "import plotly.express as px\n",
    "import pandas as pd\n",
    "\n",
    "color_scale = [(0, 'orange'), (1,'red')]\n",
    "\n",
    "fig = px.scatter_mapbox(merged_data, \n",
    "                        lat=\"Driver Lat\", \n",
    "                        lon=\"Driver Lon\", \n",
    "                        hover_name=\"Driver ID\", \n",
    "                        hover_data=[\"Driver ID\", \"Driver Action\"],\n",
    "                        # color=\"Listed\",\n",
    "                        color_continuous_scale=color_scale,\n",
    "                        # size=\"Listed\",\n",
    "                        zoom=8, \n",
    "                        height=800,\n",
    "                        width=800)\n",
    "\n",
    "fig.update_layout(mapbox_style=\"open-street-map\")\n",
    "fig.update_layout(margin={\"r\":0,\"t\":0,\"l\":0,\"b\":0})\n",
    "fig.show()"
   ]
  },
  {
   "cell_type": "code",
   "execution_count": 7,
   "metadata": {},
   "outputs": [
    {
     "name": "stdout",
     "output_type": "stream",
     "text": [
      "<class 'pandas.core.frame.DataFrame'>\n",
      "RangeIndex: 1504394 entries, 0 to 1504393\n",
      "Data columns (total 32 columns):\n",
      " #   Column                              Non-Null Count    Dtype  \n",
      "---  ------                              --------------    -----  \n",
      " 0   id                                  1504394 non-null  int64  \n",
      " 1   Driver ID                           1504394 non-null  int64  \n",
      " 2   Driver Action                       1504394 non-null  object \n",
      " 3   Driver Lat                          1504394 non-null  float64\n",
      " 4   Driver Lon                          1504394 non-null  float64\n",
      " 5   Trip ID                             1504394 non-null  int64  \n",
      " 6   Trip Start Time                     1504394 non-null  object \n",
      " 7   Trip End Time                       1504394 non-null  object \n",
      " 8   Trip Duration(minutes)              1504394 non-null  float64\n",
      " 9   Day of Week                         1504394 non-null  int64  \n",
      " 10  Hour of Day                         1504394 non-null  int64  \n",
      " 11  Origin Lat                          1504394 non-null  float64\n",
      " 12  Origin Lon                          1504394 non-null  float64\n",
      " 13  Destination Lat                     1504394 non-null  float64\n",
      " 14  Destination Lon                     1504394 non-null  float64\n",
      " 15  Trip Distance (km)                  1504394 non-null  float64\n",
      " 16  Average Temperature(Celcius)        1504394 non-null  float64\n",
      " 17  Wind Speed(km/h)                    1504394 non-null  float64\n",
      " 18  Air Pressure(hPa)                   1504394 non-null  float64\n",
      " 19  Is Cloudy                           1504394 non-null  int64  \n",
      " 20  Is Fair                             1504394 non-null  int64  \n",
      " 21  Is Fog                              1504394 non-null  int64  \n",
      " 22  Is Thunderstorm                     1504394 non-null  int64  \n",
      " 23  Is Heavy Rain Shower                1504394 non-null  int64  \n",
      " 24  Is Light Rain                       1504394 non-null  int64  \n",
      " 25  Is Rain                             1504394 non-null  int64  \n",
      " 26  Is Overcast                         1504394 non-null  int64  \n",
      " 27  Is Heavy Rain                       1504394 non-null  int64  \n",
      " 28  Is Clear                            1504394 non-null  int64  \n",
      " 29  Is Holiday                          1504394 non-null  int64  \n",
      " 30  Is Weekend                          1504394 non-null  int64  \n",
      " 31  Distance From Driver to Origin(km)  1504394 non-null  float64\n",
      "dtypes: float64(12), int64(17), object(3)\n",
      "memory usage: 367.3+ MB\n"
     ]
    }
   ],
   "source": [
    "merged_data.info(1)"
   ]
  },
  {
   "cell_type": "code",
   "execution_count": null,
   "metadata": {},
   "outputs": [],
   "source": [
    "import folium\n",
    "\n",
    "m = folium.Map(location=(6.5244, 3.3792))"
   ]
  },
  {
   "cell_type": "code",
   "execution_count": null,
   "metadata": {},
   "outputs": [],
   "source": [
    "m = folium.Map([6.5244, 3.3792], zoom_start=12, width='50%', height='50%')\n",
    "lat = merged_data['Driver Lat'][0]\n",
    "lon = merged_data['Driver Lon'][0]\n",
    "lat1 = merged_data['Origin Lat'][1]\n",
    "lon1 = merged_data['Origin Lon'][1]\n",
    "# Origin Lat                          1504394 non-null  float64\n",
    "#  12  Origin Lon                          1504394 non-null  float64\n",
    "#  13  Destination Lat                     1504394 non-null  float64\n",
    "#  14  Destination Lon  \n",
    "trail_coordinates = [\n",
    "    (merged_data['Origin Lat'][0], merged_data['Origin Lon'][0]),\n",
    "    (merged_data['Destination Lat'][0], merged_data['Destination Lon'][0]),\n",
    "]\n",
    "\n",
    "folium.PolyLine(trail_coordinates, tooltip=\"Coast\").add_to(m)\n",
    "\n",
    "m"
   ]
  },
  {
   "cell_type": "code",
   "execution_count": 46,
   "metadata": {},
   "outputs": [
    {
     "name": "stderr",
     "output_type": "stream",
     "text": [
      "C:\\Users\\user\\AppData\\Local\\Temp\\ipykernel_11536\\1806683110.py:3: FutureWarning: The `utils.config` function is deprecated and will be removed in the v2.0.0 release. Instead, use the `settings` module directly to configure a global setting's value. For example, `ox.settings.log_console=True`. See the OSMnx v2 migration guide: https://github.com/gboeing/osmnx/issues/1123\n",
      "  ox.config(log_console=True, use_cache=True)\n"
     ]
    }
   ],
   "source": [
    "import osmnx as ox\n",
    "import networkx as nx\n",
    "ox.config(log_console=True, use_cache=True)"
   ]
  },
  {
   "cell_type": "code",
   "execution_count": 47,
   "metadata": {},
   "outputs": [],
   "source": [
    "\n",
    "def plot_graph_route(origin=(6.508813001668548,3.37740316890347),destination=(6.650969799999999,3.3450307),place = 'Lagos, Nigeria'):\n",
    "  mode      = 'drive'       \n",
    "  optimizer = 'length'        \n",
    "\n",
    "\n",
    "  graph = ox.graph_from_place(place, network_type = mode)\n",
    "\n",
    "  orig_node = ox.nearest_nodes(graph, origin[0], origin[1])\n",
    "  dest_node = ox.nearest_nodes(graph, destination[0], destination[1])\n",
    "  shortest_route = nx.shortest_path(graph, orig_node, dest_node, weight=optimizer)\n",
    "\n",
    "  return shortest_route , graph"
   ]
  },
  {
   "cell_type": "code",
   "execution_count": null,
   "metadata": {},
   "outputs": [],
   "source": [
    "destination=(6.650969799999999,3.3450307)\n",
    "destination[0]"
   ]
  },
  {
   "cell_type": "code",
   "execution_count": null,
   "metadata": {},
   "outputs": [],
   "source": [
    "\n",
    "merged_data['Trip Duration(minutes)'].nlargest(5)"
   ]
  },
  {
   "cell_type": "code",
   "execution_count": 48,
   "metadata": {},
   "outputs": [],
   "source": [
    "shortest_route, graph = plot_graph_route()"
   ]
  },
  {
   "cell_type": "code",
   "execution_count": 49,
   "metadata": {},
   "outputs": [
    {
     "name": "stderr",
     "output_type": "stream",
     "text": [
      "C:\\Users\\user\\AppData\\Local\\Temp\\ipykernel_11536\\1316014204.py:1: FutureWarning: The `folium` module has been deprecated and will be removed in the v2.0.0 release. You can generate and explore interactive web maps of graph nodes, edges, and/or routes automatically using GeoPandas.GeoDataFrame.explore instead, for example like: `ox.graph_to_gdfs(G, nodes=False).explore()`. See the OSMnx examples gallery for complete details and demonstrations.\n",
      "  shortest_route_map = ox.plot_route_folium(graph, shortest_route)\n"
     ]
    },
    {
     "data": {
      "text/html": [
       "<div style=\"width:100%;\"><div style=\"position:relative;width:100%;height:0;padding-bottom:60%;\"><span style=\"color:#565656\">Make this Notebook Trusted to load map: File -> Trust Notebook</span><iframe srcdoc=\"&lt;!DOCTYPE html&gt;\n",
       "&lt;html&gt;\n",
       "&lt;head&gt;\n",
       "    \n",
       "    &lt;meta http-equiv=&quot;content-type&quot; content=&quot;text/html; charset=UTF-8&quot; /&gt;\n",
       "    \n",
       "        &lt;script&gt;\n",
       "            L_NO_TOUCH = false;\n",
       "            L_DISABLE_3D = false;\n",
       "        &lt;/script&gt;\n",
       "    \n",
       "    &lt;style&gt;html, body {width: 100%;height: 100%;margin: 0;padding: 0;}&lt;/style&gt;\n",
       "    &lt;style&gt;#map {position:absolute;top:0;bottom:0;right:0;left:0;}&lt;/style&gt;\n",
       "    &lt;script src=&quot;https://cdn.jsdelivr.net/npm/leaflet@1.9.3/dist/leaflet.js&quot;&gt;&lt;/script&gt;\n",
       "    &lt;script src=&quot;https://code.jquery.com/jquery-3.7.1.min.js&quot;&gt;&lt;/script&gt;\n",
       "    &lt;script src=&quot;https://cdn.jsdelivr.net/npm/bootstrap@5.2.2/dist/js/bootstrap.bundle.min.js&quot;&gt;&lt;/script&gt;\n",
       "    &lt;script src=&quot;https://cdnjs.cloudflare.com/ajax/libs/Leaflet.awesome-markers/2.0.2/leaflet.awesome-markers.js&quot;&gt;&lt;/script&gt;\n",
       "    &lt;link rel=&quot;stylesheet&quot; href=&quot;https://cdn.jsdelivr.net/npm/leaflet@1.9.3/dist/leaflet.css&quot;/&gt;\n",
       "    &lt;link rel=&quot;stylesheet&quot; href=&quot;https://cdn.jsdelivr.net/npm/bootstrap@5.2.2/dist/css/bootstrap.min.css&quot;/&gt;\n",
       "    &lt;link rel=&quot;stylesheet&quot; href=&quot;https://netdna.bootstrapcdn.com/bootstrap/3.0.0/css/bootstrap.min.css&quot;/&gt;\n",
       "    &lt;link rel=&quot;stylesheet&quot; href=&quot;https://cdn.jsdelivr.net/npm/@fortawesome/fontawesome-free@6.2.0/css/all.min.css&quot;/&gt;\n",
       "    &lt;link rel=&quot;stylesheet&quot; href=&quot;https://cdnjs.cloudflare.com/ajax/libs/Leaflet.awesome-markers/2.0.2/leaflet.awesome-markers.css&quot;/&gt;\n",
       "    &lt;link rel=&quot;stylesheet&quot; href=&quot;https://cdn.jsdelivr.net/gh/python-visualization/folium/folium/templates/leaflet.awesome.rotate.min.css&quot;/&gt;\n",
       "    \n",
       "            &lt;meta name=&quot;viewport&quot; content=&quot;width=device-width,\n",
       "                initial-scale=1.0, maximum-scale=1.0, user-scalable=no&quot; /&gt;\n",
       "            &lt;style&gt;\n",
       "                #map_3c0b1bd533ed94aecbad169a9ae47f11 {\n",
       "                    position: relative;\n",
       "                    width: 100.0%;\n",
       "                    height: 100.0%;\n",
       "                    left: 0.0%;\n",
       "                    top: 0.0%;\n",
       "                }\n",
       "                .leaflet-container { font-size: 1rem; }\n",
       "            &lt;/style&gt;\n",
       "        \n",
       "&lt;/head&gt;\n",
       "&lt;body&gt;\n",
       "    \n",
       "    \n",
       "            &lt;div class=&quot;folium-map&quot; id=&quot;map_3c0b1bd533ed94aecbad169a9ae47f11&quot; &gt;&lt;/div&gt;\n",
       "        \n",
       "&lt;/body&gt;\n",
       "&lt;script&gt;\n",
       "    \n",
       "    \n",
       "            var map_3c0b1bd533ed94aecbad169a9ae47f11 = L.map(\n",
       "                &quot;map_3c0b1bd533ed94aecbad169a9ae47f11&quot;,\n",
       "                {\n",
       "                    center: [6.3954067711610065, 4.317432240225036],\n",
       "                    crs: L.CRS.EPSG3857,\n",
       "                    zoom: 1,\n",
       "                    zoomControl: true,\n",
       "                    preferCanvas: false,\n",
       "                }\n",
       "            );\n",
       "\n",
       "            \n",
       "\n",
       "        \n",
       "    \n",
       "            var tile_layer_361094a583d698baf079627bd40d81e4 = L.tileLayer(\n",
       "                &quot;https://{s}.basemaps.cartocdn.com/light_all/{z}/{x}/{y}{r}.png&quot;,\n",
       "                {&quot;attribution&quot;: &quot;\\u0026copy; \\u003ca href=\\&quot;https://www.openstreetmap.org/copyright\\&quot;\\u003eOpenStreetMap\\u003c/a\\u003e contributors \\u0026copy; \\u003ca href=\\&quot;https://carto.com/attributions\\&quot;\\u003eCARTO\\u003c/a\\u003e&quot;, &quot;detectRetina&quot;: false, &quot;maxNativeZoom&quot;: 20, &quot;maxZoom&quot;: 20, &quot;minZoom&quot;: 0, &quot;noWrap&quot;: false, &quot;opacity&quot;: 1, &quot;subdomains&quot;: &quot;abcd&quot;, &quot;tms&quot;: false}\n",
       "            );\n",
       "        \n",
       "    \n",
       "            tile_layer_361094a583d698baf079627bd40d81e4.addTo(map_3c0b1bd533ed94aecbad169a9ae47f11);\n",
       "        \n",
       "    \n",
       "            var poly_line_ec3dd8d758b11d17eb40ac13eeefdbb0 = L.polyline(\n",
       "                [[6.3783553, 4.3081879], [6.3790381, 4.3083026], [6.3797529, 4.308379], [6.3798971, 4.3083754], [6.3800378, 4.3083259], [6.3802594, 4.3082339], [6.3805162, 4.3080109], [6.3806779, 4.3079401], [6.3809734, 4.3078304], [6.3811317, 4.3077172], [6.3813955, 4.3074836], [6.3815854, 4.3073597], [6.3821728, 4.3071049], [6.3827672, 4.3069138], [6.3830029, 4.3068854], [6.3832631, 4.3069031], [6.3834742, 4.3069527], [6.3840018, 4.3071757], [6.3847791, 4.3076322], [6.3853594, 4.30811], [6.3855653, 4.308351], [6.3856779, 4.3084217], [6.3860823, 4.3085739], [6.3864165, 4.3087084], [6.3867154, 4.3088818], [6.3869511, 4.3090517], [6.3870531, 4.3091225], [6.3872149, 4.3091862], [6.3881223, 4.3093596], [6.3885374, 4.3093738], [6.3888328, 4.3093525], [6.38929, 4.309257], [6.3894272, 4.3091897], [6.3896031, 4.3090977], [6.389698, 4.3090588], [6.3898141, 4.3090376], [6.3903593, 4.3090305], [6.3904437, 4.3090446], [6.3905422, 4.3091083], [6.3906582, 4.3091791], [6.3908517, 4.3092322], [6.3920879, 4.3094795], [6.3923254, 4.3095153], [6.3924977, 4.3095507], [6.3926279, 4.3095578], [6.393071, 4.3094729], [6.39337, 4.3094481], [6.3936725, 4.3094729], [6.3939468, 4.3095366], [6.3942845, 4.3096463], [6.3944076, 4.3096923], [6.3945096, 4.309756], [6.3946608, 4.3098622], [6.3947839, 4.3099011], [6.3949844, 4.309933], [6.3952728, 4.3099401], [6.3955401, 4.3098763], [6.3957898, 4.3098339], [6.3959622, 4.3098374], [6.3960712, 4.3098799], [6.3965601, 4.3102692], [6.3967605, 4.3103789], [6.3969997, 4.3104532], [6.397668, 4.310524], [6.3981709, 4.3105099], [6.3985719, 4.3105028], [6.3989728, 4.3104037], [6.3991979, 4.3103683], [6.3994125, 4.3103471], [6.3999627, 4.3103224]],\n",
       "                {&quot;bubblingMouseEvents&quot;: true, &quot;color&quot;: &quot;#3388ff&quot;, &quot;dashArray&quot;: null, &quot;dashOffset&quot;: null, &quot;fill&quot;: false, &quot;fillColor&quot;: &quot;#3388ff&quot;, &quot;fillOpacity&quot;: 0.2, &quot;fillRule&quot;: &quot;evenodd&quot;, &quot;lineCap&quot;: &quot;round&quot;, &quot;lineJoin&quot;: &quot;round&quot;, &quot;noClip&quot;: false, &quot;opacity&quot;: 1.0, &quot;smoothFactor&quot;: 1.0, &quot;stroke&quot;: true, &quot;weight&quot;: 3}\n",
       "            ).addTo(map_3c0b1bd533ed94aecbad169a9ae47f11);\n",
       "        \n",
       "    \n",
       "            var poly_line_86ae92b7a65eb2898e053f1763e6b308 = L.polyline(\n",
       "                [[6.3999627, 4.3103224], [6.3999701, 4.3104135], [6.3999791, 4.3113095], [6.4000038, 4.3119376], [6.4002324, 4.3152779], [6.4002459, 4.3155117], [6.4002391, 4.3156717], [6.4002423, 4.3157757], [6.4002685, 4.3158684], [6.400365, 4.3160422], [6.4003986, 4.3161523], [6.4003928, 4.3162931], [6.4003364, 4.3166007], [6.4003256, 4.3167184], [6.4003459, 4.3168623], [6.4004474, 4.3173494], [6.4005168, 4.3177126], [6.4006973, 4.3196472], [6.4007321, 4.3203256], [6.4007228, 4.3207481], [6.400671, 4.3214131], [6.4005377, 4.3225991], [6.4005191, 4.3230655], [6.4005442, 4.3239783], [6.4005704, 4.3243537], [6.4006243, 4.3247346], [6.4006286, 4.324944], [6.4006129, 4.3257066], [6.4006679, 4.326521], [6.4007194, 4.3271361], [6.4007338, 4.3275728], [6.4007036, 4.3281049], [6.4007055, 4.3284439]],\n",
       "                {&quot;bubblingMouseEvents&quot;: true, &quot;color&quot;: &quot;#3388ff&quot;, &quot;dashArray&quot;: null, &quot;dashOffset&quot;: null, &quot;fill&quot;: false, &quot;fillColor&quot;: &quot;#3388ff&quot;, &quot;fillOpacity&quot;: 0.2, &quot;fillRule&quot;: &quot;evenodd&quot;, &quot;lineCap&quot;: &quot;round&quot;, &quot;lineJoin&quot;: &quot;round&quot;, &quot;noClip&quot;: false, &quot;opacity&quot;: 1.0, &quot;smoothFactor&quot;: 1.0, &quot;stroke&quot;: true, &quot;weight&quot;: 3}\n",
       "            ).addTo(map_3c0b1bd533ed94aecbad169a9ae47f11);\n",
       "        \n",
       "    \n",
       "            var poly_line_d1fcf9c67c6ea44db589edd4d12ab46f = L.polyline(\n",
       "                [[6.4007055, 4.3284439], [6.4007958, 4.3299101], [6.400853, 4.3317727], [6.4008691, 4.3326102], [6.4010225, 4.3337556]],\n",
       "                {&quot;bubblingMouseEvents&quot;: true, &quot;color&quot;: &quot;#3388ff&quot;, &quot;dashArray&quot;: null, &quot;dashOffset&quot;: null, &quot;fill&quot;: false, &quot;fillColor&quot;: &quot;#3388ff&quot;, &quot;fillOpacity&quot;: 0.2, &quot;fillRule&quot;: &quot;evenodd&quot;, &quot;lineCap&quot;: &quot;round&quot;, &quot;lineJoin&quot;: &quot;round&quot;, &quot;noClip&quot;: false, &quot;opacity&quot;: 1.0, &quot;smoothFactor&quot;: 1.0, &quot;stroke&quot;: true, &quot;weight&quot;: 3}\n",
       "            ).addTo(map_3c0b1bd533ed94aecbad169a9ae47f11);\n",
       "        \n",
       "    \n",
       "            var poly_line_9edcbd98fb9fd23067523990feab3478 = L.polyline(\n",
       "                [[6.4010225, 4.3337556], [6.4012537, 4.3363569], [6.4013685, 4.3384842]],\n",
       "                {&quot;bubblingMouseEvents&quot;: true, &quot;color&quot;: &quot;#3388ff&quot;, &quot;dashArray&quot;: null, &quot;dashOffset&quot;: null, &quot;fill&quot;: false, &quot;fillColor&quot;: &quot;#3388ff&quot;, &quot;fillOpacity&quot;: 0.2, &quot;fillRule&quot;: &quot;evenodd&quot;, &quot;lineCap&quot;: &quot;round&quot;, &quot;lineJoin&quot;: &quot;round&quot;, &quot;noClip&quot;: false, &quot;opacity&quot;: 1.0, &quot;smoothFactor&quot;: 1.0, &quot;stroke&quot;: true, &quot;weight&quot;: 3}\n",
       "            ).addTo(map_3c0b1bd533ed94aecbad169a9ae47f11);\n",
       "        \n",
       "    \n",
       "            map_3c0b1bd533ed94aecbad169a9ae47f11.fitBounds(\n",
       "                [[6.3783553, 4.3068854], [6.4013685, 4.3384842]],\n",
       "                {}\n",
       "            );\n",
       "        \n",
       "&lt;/script&gt;\n",
       "&lt;/html&gt;\" style=\"position:absolute;width:100%;height:100%;left:0;top:0;border:none !important;\" allowfullscreen webkitallowfullscreen mozallowfullscreen></iframe></div></div>"
      ],
      "text/plain": [
       "<folium.folium.Map at 0x1f0fba217f0>"
      ]
     },
     "execution_count": 49,
     "metadata": {},
     "output_type": "execute_result"
    }
   ],
   "source": [
    "shortest_route_map = ox.plot_route_folium(graph, shortest_route)\n",
    "shortest_route_map"
   ]
  },
  {
   "cell_type": "code",
   "execution_count": 13,
   "metadata": {},
   "outputs": [],
   "source": [
    "merged_data.to_csv('data/ready_for_causal_inference.csv', index=False)"
   ]
  }
 ],
 "metadata": {
  "kernelspec": {
   "display_name": "causal",
   "language": "python",
   "name": "python3"
  },
  "language_info": {
   "codemirror_mode": {
    "name": "ipython",
    "version": 3
   },
   "file_extension": ".py",
   "mimetype": "text/x-python",
   "name": "python",
   "nbconvert_exporter": "python",
   "pygments_lexer": "ipython3",
   "version": "3.12.0"
  }
 },
 "nbformat": 4,
 "nbformat_minor": 2
}
