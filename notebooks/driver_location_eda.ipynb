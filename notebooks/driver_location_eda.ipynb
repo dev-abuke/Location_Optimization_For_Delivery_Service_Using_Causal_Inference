{
 "cells": [
  {
   "cell_type": "code",
   "execution_count": 1,
   "metadata": {},
   "outputs": [],
   "source": [
    "%reload_ext autoreload"
   ]
  },
  {
   "cell_type": "code",
   "execution_count": 2,
   "metadata": {},
   "outputs": [],
   "source": [
    "import pandas as pd\n",
    "import os"
   ]
  },
  {
   "cell_type": "code",
   "execution_count": 3,
   "metadata": {},
   "outputs": [],
   "source": [
    "os.chdir(\"..\")"
   ]
  },
  {
   "cell_type": "code",
   "execution_count": 4,
   "metadata": {},
   "outputs": [
    {
     "data": {
      "text/plain": [
       "'c:\\\\Users\\\\user\\\\Downloads\\\\ten_academy\\\\week8\\\\Causal_Inference'"
      ]
     },
     "execution_count": 4,
     "metadata": {},
     "output_type": "execute_result"
    }
   ],
   "source": [
    "os.getcwd()"
   ]
  },
  {
   "cell_type": "code",
   "execution_count": 5,
   "metadata": {},
   "outputs": [],
   "source": [
    "# Load the driver locations during request dataset\n",
    "driver_locations = pd.read_csv('data/driver_locations_during_request.csv')\n",
    "completed_features = pd.read_csv('data/complete_orders_features_engineered.csv')"
   ]
  },
  {
   "cell_type": "code",
   "execution_count": 6,
   "metadata": {},
   "outputs": [
    {
     "data": {
      "text/plain": [
       "1557740"
      ]
     },
     "execution_count": 6,
     "metadata": {},
     "output_type": "execute_result"
    }
   ],
   "source": [
    "len(driver_locations)"
   ]
  },
  {
   "cell_type": "code",
   "execution_count": 7,
   "metadata": {},
   "outputs": [
    {
     "data": {
      "text/plain": [
       "505323"
      ]
     },
     "execution_count": 7,
     "metadata": {},
     "output_type": "execute_result"
    }
   ],
   "source": [
    "len(completed_features)"
   ]
  },
  {
   "cell_type": "code",
   "execution_count": 30,
   "metadata": {},
   "outputs": [
    {
     "name": "stdout",
     "output_type": "stream",
     "text": [
      "<class 'pandas.core.frame.DataFrame'>\n",
      "RangeIndex: 505323 entries, 0 to 505322\n",
      "Data columns (total 26 columns):\n",
      " #   Column                        Non-Null Count   Dtype  \n",
      "---  ------                        --------------   -----  \n",
      " 0   Trip ID                       505323 non-null  int64  \n",
      " 1   Trip Start Time               505323 non-null  object \n",
      " 2   Trip End Time                 505323 non-null  object \n",
      " 3   Trip Duration(minutes)        505323 non-null  float64\n",
      " 4   Day of Week                   505323 non-null  int64  \n",
      " 5   Hour of Day                   505323 non-null  int64  \n",
      " 6   Origin Lat                    505323 non-null  float64\n",
      " 7   Origin Lon                    505323 non-null  float64\n",
      " 8   Destination Lat               505323 non-null  float64\n",
      " 9   Destination Lon               505323 non-null  float64\n",
      " 10  Trip Distance (km)            505323 non-null  float64\n",
      " 11  Average Temperature(Celcius)  505323 non-null  float64\n",
      " 12  Wind Speed(km/h)              505323 non-null  float64\n",
      " 13  Air Pressure(hPa)             505323 non-null  float64\n",
      " 14  Is Cloudy                     505323 non-null  int64  \n",
      " 15  Is Fair                       505323 non-null  int64  \n",
      " 16  Is Fog                        505323 non-null  int64  \n",
      " 17  Is Thunderstorm               505323 non-null  int64  \n",
      " 18  Is Heavy Rain Shower          505323 non-null  int64  \n",
      " 19  Is Light Rain                 505323 non-null  int64  \n",
      " 20  Is Rain                       505323 non-null  int64  \n",
      " 21  Is Overcast                   505323 non-null  int64  \n",
      " 22  Is Heavy Rain                 505323 non-null  int64  \n",
      " 23  Is Clear                      505323 non-null  int64  \n",
      " 24  Is Holiday                    505323 non-null  int64  \n",
      " 25  Is Weekend                    505323 non-null  int64  \n",
      "dtypes: float64(9), int64(15), object(2)\n",
      "memory usage: 100.2+ MB\n"
     ]
    }
   ],
   "source": [
    "completed_features.info()"
   ]
  },
  {
   "cell_type": "code",
   "execution_count": 8,
   "metadata": {},
   "outputs": [
    {
     "data": {
      "text/plain": [
       "id               1557740\n",
       "order_id           26492\n",
       "driver_id           1213\n",
       "driver_action          2\n",
       "lat               194406\n",
       "lng               170385\n",
       "created_at             0\n",
       "updated_at             0\n",
       "dtype: int64"
      ]
     },
     "execution_count": 8,
     "metadata": {},
     "output_type": "execute_result"
    }
   ],
   "source": [
    "driver_locations.nunique()"
   ]
  },
  {
   "cell_type": "code",
   "execution_count": 9,
   "metadata": {},
   "outputs": [],
   "source": [
    "driver_locations.rename(columns={'lat': 'Driver Lat', 'lng': 'Driver Lon', 'driver_action': 'Driver Action', 'driver_id': 'Driver ID'}, inplace=True)"
   ]
  },
  {
   "cell_type": "code",
   "execution_count": 10,
   "metadata": {},
   "outputs": [
    {
     "name": "stdout",
     "output_type": "stream",
     "text": [
      "<class 'pandas.core.frame.DataFrame'>\n",
      "RangeIndex: 1557740 entries, 0 to 1557739\n",
      "Data columns (total 8 columns):\n",
      " #   Column         Non-Null Count    Dtype  \n",
      "---  ------         --------------    -----  \n",
      " 0   id             1557740 non-null  int64  \n",
      " 1   order_id       1557740 non-null  int64  \n",
      " 2   Driver ID      1557740 non-null  int64  \n",
      " 3   Driver Action  1557740 non-null  object \n",
      " 4   Driver Lat     1557740 non-null  float64\n",
      " 5   Driver Lon     1557740 non-null  float64\n",
      " 6   created_at     0 non-null        float64\n",
      " 7   updated_at     0 non-null        float64\n",
      "dtypes: float64(4), int64(3), object(1)\n",
      "memory usage: 95.1+ MB\n"
     ]
    }
   ],
   "source": [
    "driver_locations.info()"
   ]
  },
  {
   "cell_type": "code",
   "execution_count": 11,
   "metadata": {},
   "outputs": [
    {
     "data": {
      "text/plain": [
       "id                     0\n",
       "order_id               0\n",
       "Driver ID              0\n",
       "Driver Action          0\n",
       "Driver Lat             0\n",
       "Driver Lon             0\n",
       "created_at       1557740\n",
       "updated_at       1557740\n",
       "dtype: int64"
      ]
     },
     "execution_count": 11,
     "metadata": {},
     "output_type": "execute_result"
    }
   ],
   "source": [
    "driver_locations.isna().sum()"
   ]
  },
  {
   "cell_type": "code",
   "execution_count": 12,
   "metadata": {},
   "outputs": [],
   "source": [
    "# Drop columns with all missing values\n",
    "driver_locations_cleaned = driver_locations.drop(columns=['created_at', 'updated_at'])"
   ]
  },
  {
   "cell_type": "code",
   "execution_count": 14,
   "metadata": {},
   "outputs": [
    {
     "data": {
      "text/plain": [
       "id               0\n",
       "order_id         0\n",
       "Driver ID        0\n",
       "Driver Action    0\n",
       "Driver Lat       0\n",
       "Driver Lon       0\n",
       "dtype: int64"
      ]
     },
     "execution_count": 14,
     "metadata": {},
     "output_type": "execute_result"
    }
   ],
   "source": [
    "driver_locations_cleaned.isna().sum()"
   ]
  },
  {
   "cell_type": "code",
   "execution_count": 16,
   "metadata": {},
   "outputs": [
    {
     "data": {
      "text/plain": [
       "((1557740, 8), (505323, 26))"
      ]
     },
     "execution_count": 16,
     "metadata": {},
     "output_type": "execute_result"
    }
   ],
   "source": [
    "driver_locations.shape, completed_features.shape"
   ]
  },
  {
   "cell_type": "code",
   "execution_count": 17,
   "metadata": {},
   "outputs": [
    {
     "name": "stdout",
     "output_type": "stream",
     "text": [
      "<class 'pandas.core.frame.DataFrame'>\n",
      "RangeIndex: 1557740 entries, 0 to 1557739\n",
      "Data columns (total 6 columns):\n",
      " #   Column         Non-Null Count    Dtype  \n",
      "---  ------         --------------    -----  \n",
      " 0   id             1557740 non-null  int64  \n",
      " 1   order_id       1557740 non-null  int64  \n",
      " 2   Driver ID      1557740 non-null  int64  \n",
      " 3   Driver Action  1557740 non-null  object \n",
      " 4   Driver Lat     1557740 non-null  float64\n",
      " 5   Driver Lon     1557740 non-null  float64\n",
      "dtypes: float64(2), int64(3), object(1)\n",
      "memory usage: 71.3+ MB\n"
     ]
    },
    {
     "data": {
      "text/plain": [
       "(None,\n",
       "    id  order_id  Driver ID Driver Action  Driver Lat  Driver Lon\n",
       " 0   1    392001     243828      accepted    6.602207    3.270465\n",
       " 1   2    392001     243588      rejected    6.592097    3.287445\n",
       " 2   3    392001     243830      rejected    6.596133    3.281784\n",
       " 3   4    392001     243539      rejected    6.596142    3.280526\n",
       " 4   5    392001     171653      rejected    6.609232    3.288800)"
      ]
     },
     "execution_count": 17,
     "metadata": {},
     "output_type": "execute_result"
    }
   ],
   "source": [
    "# Display basic information and first few rows of the cleaned dataset\n",
    "driver_locations_cleaned_info = driver_locations_cleaned.info()\n",
    "driver_locations_cleaned_head = driver_locations_cleaned.head()\n",
    "\n",
    "driver_locations_cleaned_info, driver_locations_cleaned_head"
   ]
  },
  {
   "cell_type": "code",
   "execution_count": 18,
   "metadata": {},
   "outputs": [],
   "source": [
    "from utils.prepare_data import DataPreparation\n",
    "\n",
    "prepares = DataPreparation()"
   ]
  },
  {
   "cell_type": "code",
   "execution_count": 19,
   "metadata": {},
   "outputs": [
    {
     "data": {
      "text/html": [
       "<div>\n",
       "<style scoped>\n",
       "    .dataframe tbody tr th:only-of-type {\n",
       "        vertical-align: middle;\n",
       "    }\n",
       "\n",
       "    .dataframe tbody tr th {\n",
       "        vertical-align: top;\n",
       "    }\n",
       "\n",
       "    .dataframe thead th {\n",
       "        text-align: right;\n",
       "    }\n",
       "</style>\n",
       "<table border=\"1\" class=\"dataframe\">\n",
       "  <thead>\n",
       "    <tr style=\"text-align: right;\">\n",
       "      <th></th>\n",
       "      <th>id</th>\n",
       "      <th>order_id</th>\n",
       "      <th>Driver ID</th>\n",
       "      <th>Driver Action</th>\n",
       "      <th>Driver Lat</th>\n",
       "      <th>Driver Lon</th>\n",
       "    </tr>\n",
       "  </thead>\n",
       "  <tbody>\n",
       "    <tr>\n",
       "      <th>0</th>\n",
       "      <td>1</td>\n",
       "      <td>392001</td>\n",
       "      <td>243828</td>\n",
       "      <td>accepted</td>\n",
       "      <td>6.602207</td>\n",
       "      <td>3.270465</td>\n",
       "    </tr>\n",
       "    <tr>\n",
       "      <th>1</th>\n",
       "      <td>2</td>\n",
       "      <td>392001</td>\n",
       "      <td>243588</td>\n",
       "      <td>rejected</td>\n",
       "      <td>6.592097</td>\n",
       "      <td>3.287445</td>\n",
       "    </tr>\n",
       "    <tr>\n",
       "      <th>2</th>\n",
       "      <td>3</td>\n",
       "      <td>392001</td>\n",
       "      <td>243830</td>\n",
       "      <td>rejected</td>\n",
       "      <td>6.596133</td>\n",
       "      <td>3.281784</td>\n",
       "    </tr>\n",
       "  </tbody>\n",
       "</table>\n",
       "</div>"
      ],
      "text/plain": [
       "   id  order_id  Driver ID Driver Action  Driver Lat  Driver Lon\n",
       "0   1    392001     243828      accepted    6.602207    3.270465\n",
       "1   2    392001     243588      rejected    6.592097    3.287445\n",
       "2   3    392001     243830      rejected    6.596133    3.281784"
      ]
     },
     "execution_count": 19,
     "metadata": {},
     "output_type": "execute_result"
    }
   ],
   "source": [
    "driver_locations_cleaned.head(\n",
    "    3\n",
    ")"
   ]
  },
  {
   "cell_type": "code",
   "execution_count": 20,
   "metadata": {},
   "outputs": [
    {
     "data": {
      "text/plain": [
       "1557740"
      ]
     },
     "execution_count": 20,
     "metadata": {},
     "output_type": "execute_result"
    }
   ],
   "source": [
    "len(driver_locations_cleaned)"
   ]
  },
  {
   "cell_type": "code",
   "execution_count": 22,
   "metadata": {},
   "outputs": [
    {
     "data": {
      "image/png": "[encoded data removed]",
      "text/plain": [
       "<Figure size 600x400 with 1 Axes>"
      ]
     },
     "metadata": {},
     "output_type": "display_data"
    }
   ],
   "source": [
    "import matplotlib.pyplot as plt\n",
    "\n",
    "# Plot the distribution of driver actions\n",
    "plt.figure(figsize=(6, 4))\n",
    "driver_locations_cleaned['Driver Action'].value_counts().plot(kind='bar')\n",
    "plt.xlabel('Driver Action')\n",
    "plt.ylabel('Count')\n",
    "plt.title('Distribution of Driver Actions')\n",
    "plt.show()\n"
   ]
  },
  {
   "cell_type": "code",
   "execution_count": 23,
   "metadata": {},
   "outputs": [
    {
     "data": {
      "image/png": "[encoded data removed]",
      "text/plain": [
       "<Figure size 1600x400 with 1 Axes>"
      ]
     },
     "metadata": {},
     "output_type": "display_data"
    }
   ],
   "source": [
    "# plot unique driver ids\n",
    "plt.figure(figsize=(16, 4))\n",
    "driver_locations_cleaned['Driver ID'].value_counts().head(100).plot(kind='bar')\n",
    "plt.xlabel('Driver ID')\n",
    "plt.ylabel('Count')\n",
    "plt.title('Distribution of Unique Driver IDs')\n",
    "plt.show()"
   ]
  },
  {
   "cell_type": "code",
   "execution_count": 29,
   "metadata": {},
   "outputs": [
    {
     "data": {
      "text/plain": [
       "Driver ID  Driver Action\n",
       "121981     rejected         2133\n",
       "           accepted           16\n",
       "171091     rejected         2696\n",
       "           accepted           19\n",
       "171092     rejected         3619\n",
       "                            ... \n",
       "247709     rejected            2\n",
       "247794     rejected            1\n",
       "247831     rejected           21\n",
       "247877     accepted            1\n",
       "           rejected            1\n",
       "Name: count, Length: 2365, dtype: int64"
      ]
     },
     "execution_count": 29,
     "metadata": {},
     "output_type": "execute_result"
    }
   ],
   "source": [
    "#get the number of times a driver has been accepted or rejected by unique drivers id\n",
    "\n",
    "driver_locations_cleaned.groupby('Driver ID')[['Driver Action',]].value_counts()"
   ]
  },
  {
   "cell_type": "code",
   "execution_count": 27,
   "metadata": {},
   "outputs": [
    {
     "name": "stderr",
     "output_type": "stream",
     "text": [
      "C:\\Users\\user\\AppData\\Local\\Temp\\ipykernel_16964\\939167249.py:9: FutureWarning: The geopandas.dataset module is deprecated and will be removed in GeoPandas 1.0. You can get the original 'naturalearth_lowres' data from https://www.naturalearthdata.com/downloads/110m-cultural-vectors/.\n",
      "  world = gpd.read_file(gpd.datasets.get_path('naturalearth_lowres'))\n"
     ]
    },
    {
     "data": {
      "image/png": "[encoded data removed]",
      "text/plain": [
       "<Figure size 1000x600 with 1 Axes>"
      ]
     },
     "metadata": {},
     "output_type": "display_data"
    }
   ],
   "source": [
    "import geopandas as gpd\n",
    "from shapely.geometry import Point\n",
    "\n",
    "# Create a GeoDataFrame for driver locations\n",
    "geometry = [Point(xy) for xy in zip(driver_locations_cleaned['lng'], driver_locations_cleaned['lat'])]\n",
    "gdf = gpd.GeoDataFrame(driver_locations_cleaned, geometry=geometry)\n",
    "\n",
    "# Plot the driver locations on a map\n",
    "world = gpd.read_file(gpd.datasets.get_path('naturalearth_lowres'))\n",
    "ax = world[world.name == 'Nigeria'].plot(figsize=(10, 6), color='white', edgecolor='black')\n",
    "\n",
    "# Plot driver locations\n",
    "gdf.plot(ax=ax, marker='o', color='red', markersize=5)\n",
    "plt.title('Driver Locations in Lagos, Nigeria')\n",
    "plt.show()\n"
   ]
  },
  {
   "cell_type": "code",
   "execution_count": null,
   "metadata": {},
   "outputs": [],
   "source": [
    "import folium\n",
    "\n",
    "# Create a map centered around Lagos\n",
    "m = folium.Map(location=[6.5244, 3.3792], zoom_start=12)\n",
    "\n",
    "# Add points to the map\n",
    "for idx, row in driver_locations_cleaned.iterrows():\n",
    "    folium.CircleMarker(location=[row['lat'], row['lng']], radius=1, color='blue').add_to(m)\n",
    "\n",
    "# Display the map\n",
    "m\n"
   ]
  },
  {
   "cell_type": "code",
   "execution_count": null,
   "metadata": {},
   "outputs": [],
   "source": [
    "# Load the completed orders dataset\n",
    "completed_orders = pd.read_csv('data/nb.csv')\n",
    "\n",
    "# Clean and preprocess completed orders data\n",
    "completed_orders_cleaned = completed_orders.dropna(subset=['Trip Start Time', 'Trip End Time'])\n",
    "completed_orders_cleaned['Trip Start Time'] = pd.to_datetime(completed_orders_cleaned['Trip Start Time'])\n",
    "completed_orders_cleaned['Trip End Time'] = pd.to_datetime(completed_orders_cleaned['Trip End Time'])\n",
    "completed_orders_cleaned[['Origin Lat', 'Origin Lon']] = completed_orders_cleaned['Trip Origin'].str.split(',', expand=True).astype(float)\n",
    "completed_orders_cleaned[['Destination Lat', 'Destination Lon']] = completed_orders_cleaned['Trip Destination'].str.split(',', expand=True).astype(float)\n",
    "\n",
    "# Merge driver locations with completed orders on 'order_id'\n",
    "merged_data = pd.merge(driver_locations_cleaned, completed_orders_cleaned, left_on='order_id', right_on='Trip ID', how='inner')\n",
    "\n",
    "# Calculate distance between driver location and order origin\n",
    "merged_data['Driver to Origin Distance (km)'] = prepares.haversine_distance(\n",
    "    merged_data['lat'], merged_data['lng'],\n",
    "    merged_data['Origin Lat'], merged_data['Origin Lon']\n",
    ")\n",
    "\n",
    "# Display the first few rows of the merged data\n",
    "merged_data_head = merged_data[['order_id', 'driver_id', 'Driver to Origin Distance (km)', 'Origin Lat', 'Origin Lon', 'lat', 'lng']].head()\n",
    "merged_data_head\n"
   ]
  },
  {
   "cell_type": "code",
   "execution_count": 34,
   "metadata": {},
   "outputs": [
    {
     "data": {
      "text/plain": [
       "(              id  order_id  Driver ID Driver Action  Driver Lat  Driver Lon\n",
       " 0              1    392001     243828      accepted    6.602207    3.270465\n",
       " 1              2    392001     243588      rejected    6.592097    3.287445\n",
       " 2              3    392001     243830      rejected    6.596133    3.281784\n",
       " 3              4    392001     243539      rejected    6.596142    3.280526\n",
       " 4              5    392001     171653      rejected    6.609232    3.288800\n",
       " ...          ...       ...        ...           ...         ...         ...\n",
       " 1557735  1557736    517948     243774      rejected    6.469036    3.566877\n",
       " 1557736  1557737    517948     245447      rejected    6.425431    3.527358\n",
       " 1557737  1557738    517948     239866      rejected    6.440013    3.525378\n",
       " 1557738  1557739    517948     243774      rejected    6.469036    3.566877\n",
       " 1557739  1557740    517948     244170      rejected    6.469390    3.572079\n",
       " \n",
       " [1557740 rows x 6 columns],\n",
       "         Trip ID      Trip Start Time        Trip End Time  \\\n",
       " 0        391996  2021-07-01 07:28:04  2021-07-01 07:29:37   \n",
       " 1        391997  2021-07-01 06:38:04  2021-07-01 07:07:28   \n",
       " 2        391998  2021-07-01 06:21:02  2021-07-01 07:02:23   \n",
       " 3        391999  2021-07-01 07:16:07  2021-07-01 07:29:42   \n",
       " 4        392001  2021-07-01 09:30:59  2021-07-01 09:34:36   \n",
       " ...         ...                  ...                  ...   \n",
       " 505318  1637696  2021-12-30 20:35:06  2021-12-30 21:02:59   \n",
       " 505319  1637702  2021-12-30 20:48:13  2021-12-30 21:43:49   \n",
       " 505320  1637704  2021-12-30 20:51:45  2021-12-30 21:41:32   \n",
       " 505321  1637705  2021-12-30 20:48:50  2021-12-30 21:08:28   \n",
       " 505322  1637709  2021-12-30 20:55:38  2021-12-30 22:25:00   \n",
       " \n",
       "         Trip Duration(minutes)  Day of Week  Hour of Day  Origin Lat  \\\n",
       " 0                     1.550000            3            7    6.508813   \n",
       " 1                    29.400000            3            6    6.431671   \n",
       " 2                    41.350000            3            6    6.631679   \n",
       " 3                    13.583333            3            7    6.572757   \n",
       " 4                     3.616667            3            9    6.601042   \n",
       " ...                        ...          ...          ...         ...   \n",
       " 505318               27.883333            3           20    6.448218   \n",
       " 505319               55.600000            3           20    6.442321   \n",
       " 505320               49.783333            3           20    6.428198   \n",
       " 505321               19.633333            3           20    6.586930   \n",
       " 505322               89.366667            3           20    6.647210   \n",
       " \n",
       "         Origin Lon  Destination Lat  Destination Lon  ...  Is Fog  \\\n",
       " 0         3.377403         6.650970         3.345031  ...       0   \n",
       " 1         3.455538         6.428081         3.472189  ...       0   \n",
       " 2         3.338898         6.508324         3.359040  ...       0   \n",
       " 3         3.367708         6.584881         3.361407  ...       0   \n",
       " 4         3.276634         6.450107         3.391615  ...       0   \n",
       " ...            ...              ...              ...  ...     ...   \n",
       " 505318    3.477208         6.437787         3.481670  ...       0   \n",
       " 505319    3.473687         6.436589         3.555974  ...       0   \n",
       " 505320    3.492248         6.448089         3.477575  ...       0   \n",
       " 505321    3.363297         6.637907         3.333951  ...       0   \n",
       " 505322    3.485149         6.454915         3.555840  ...       0   \n",
       " \n",
       "         Is Thunderstorm  Is Heavy Rain Shower  Is Light Rain  Is Rain  \\\n",
       " 0                     0                     0              0        0   \n",
       " 1                     0                     0              0        0   \n",
       " 2                     0                     0              0        0   \n",
       " 3                     0                     0              0        0   \n",
       " 4                     1                     0              0        0   \n",
       " ...                 ...                   ...            ...      ...   \n",
       " 505318                0                     0              0        0   \n",
       " 505319                0                     0              0        0   \n",
       " 505320                0                     0              0        0   \n",
       " 505321                0                     0              0        0   \n",
       " 505322                0                     0              0        0   \n",
       " \n",
       "         Is Overcast  Is Heavy Rain  Is Clear  Is Holiday  Is Weekend  \n",
       " 0                 0              0         0           0           0  \n",
       " 1                 0              0         0           0           0  \n",
       " 2                 0              0         0           0           0  \n",
       " 3                 0              0         0           0           0  \n",
       " 4                 0              0         0           0           0  \n",
       " ...             ...            ...       ...         ...         ...  \n",
       " 505318            0              0         0           0           0  \n",
       " 505319            0              0         0           0           0  \n",
       " 505320            0              0         0           0           0  \n",
       " 505321            0              0         0           0           0  \n",
       " 505322            0              0         0           0           0  \n",
       " \n",
       " [505323 rows x 26 columns])"
      ]
     },
     "execution_count": 34,
     "metadata": {},
     "output_type": "execute_result"
    }
   ],
   "source": [
    "driver_locations_cleaned, completed_features"
   ]
  },
  {
   "cell_type": "code",
   "execution_count": 35,
   "metadata": {},
   "outputs": [],
   "source": [
    "# Merge driver locations with completed orders on 'order_id'\n",
    "merged_data = pd.merge(driver_locations_cleaned, completed_features, left_on='order_id', right_on='Trip ID', )"
   ]
  },
  {
   "cell_type": "code",
   "execution_count": 37,
   "metadata": {},
   "outputs": [
    {
     "data": {
      "text/plain": [
       "id                              0.0\n",
       "order_id                        0.0\n",
       "Driver ID                       0.0\n",
       "Driver Action                   0.0\n",
       "Driver Lat                      0.0\n",
       "Driver Lon                      0.0\n",
       "Trip ID                         0.0\n",
       "Trip Start Time                 0.0\n",
       "Trip End Time                   0.0\n",
       "Trip Duration(minutes)          0.0\n",
       "Day of Week                     0.0\n",
       "Hour of Day                     0.0\n",
       "Origin Lat                      0.0\n",
       "Origin Lon                      0.0\n",
       "Destination Lat                 0.0\n",
       "Destination Lon                 0.0\n",
       "Trip Distance (km)              0.0\n",
       "Average Temperature(Celcius)    0.0\n",
       "Wind Speed(km/h)                0.0\n",
       "Air Pressure(hPa)               0.0\n",
       "Is Cloudy                       0.0\n",
       "Is Fair                         0.0\n",
       "Is Fog                          0.0\n",
       "Is Thunderstorm                 0.0\n",
       "Is Heavy Rain Shower            0.0\n",
       "Is Light Rain                   0.0\n",
       "Is Rain                         0.0\n",
       "Is Overcast                     0.0\n",
       "Is Heavy Rain                   0.0\n",
       "Is Clear                        0.0\n",
       "Is Holiday                      0.0\n",
       "Is Weekend                      0.0\n",
       "dtype: float64"
      ]
     },
     "execution_count": 37,
     "metadata": {},
     "output_type": "execute_result"
    }
   ],
   "source": [
    "merged_data.isna().sum()/len(merged_data) * 100"
   ]
  },
  {
   "cell_type": "code",
   "execution_count": 36,
   "metadata": {},
   "outputs": [
    {
     "name": "stdout",
     "output_type": "stream",
     "text": [
      "<class 'pandas.core.frame.DataFrame'>\n",
      "RangeIndex: 1504394 entries, 0 to 1504393\n",
      "Data columns (total 32 columns):\n",
      " #   Column                        Non-Null Count    Dtype  \n",
      "---  ------                        --------------    -----  \n",
      " 0   id                            1504394 non-null  int64  \n",
      " 1   order_id                      1504394 non-null  int64  \n",
      " 2   Driver ID                     1504394 non-null  int64  \n",
      " 3   Driver Action                 1504394 non-null  object \n",
      " 4   Driver Lat                    1504394 non-null  float64\n",
      " 5   Driver Lon                    1504394 non-null  float64\n",
      " 6   Trip ID                       1504394 non-null  int64  \n",
      " 7   Trip Start Time               1504394 non-null  object \n",
      " 8   Trip End Time                 1504394 non-null  object \n",
      " 9   Trip Duration(minutes)        1504394 non-null  float64\n",
      " 10  Day of Week                   1504394 non-null  int64  \n",
      " 11  Hour of Day                   1504394 non-null  int64  \n",
      " 12  Origin Lat                    1504394 non-null  float64\n",
      " 13  Origin Lon                    1504394 non-null  float64\n",
      " 14  Destination Lat               1504394 non-null  float64\n",
      " 15  Destination Lon               1504394 non-null  float64\n",
      " 16  Trip Distance (km)            1504394 non-null  float64\n",
      " 17  Average Temperature(Celcius)  1504394 non-null  float64\n",
      " 18  Wind Speed(km/h)              1504394 non-null  float64\n",
      " 19  Air Pressure(hPa)             1504394 non-null  float64\n",
      " 20  Is Cloudy                     1504394 non-null  int64  \n",
      " 21  Is Fair                       1504394 non-null  int64  \n",
      " 22  Is Fog                        1504394 non-null  int64  \n",
      " 23  Is Thunderstorm               1504394 non-null  int64  \n",
      " 24  Is Heavy Rain Shower          1504394 non-null  int64  \n",
      " 25  Is Light Rain                 1504394 non-null  int64  \n",
      " 26  Is Rain                       1504394 non-null  int64  \n",
      " 27  Is Overcast                   1504394 non-null  int64  \n",
      " 28  Is Heavy Rain                 1504394 non-null  int64  \n",
      " 29  Is Clear                      1504394 non-null  int64  \n",
      " 30  Is Holiday                    1504394 non-null  int64  \n",
      " 31  Is Weekend                    1504394 non-null  int64  \n",
      "dtypes: float64(11), int64(18), object(3)\n",
      "memory usage: 367.3+ MB\n"
     ]
    }
   ],
   "source": [
    "merged_data.info()"
   ]
  },
  {
   "cell_type": "code",
   "execution_count": null,
   "metadata": {},
   "outputs": [],
   "source": [
    "# drop columns\n",
    "merged_data = merged_data.drop(['Distance From Driver to Origin Distance (km)', 'order_id', ], axis=1)"
   ]
  },
  {
   "cell_type": "code",
   "execution_count": 46,
   "metadata": {},
   "outputs": [],
   "source": [
    "# calculate the distance between driver location and order origin\n",
    "merged_data['Distance From Driver to Origin(km)'] = prepares.haversine_distance(\n",
    "    merged_data['Driver Lat'], merged_data['Driver Lon'],\n",
    "    merged_data['Origin Lat'], merged_data['Origin Lon']\n",
    ")"
   ]
  },
  {
   "cell_type": "code",
   "execution_count": 47,
   "metadata": {},
   "outputs": [
    {
     "name": "stdout",
     "output_type": "stream",
     "text": [
      "<class 'pandas.core.frame.DataFrame'>\n",
      "RangeIndex: 1504394 entries, 0 to 1504393\n",
      "Data columns (total 34 columns):\n",
      " #   Column                                        Non-Null Count    Dtype  \n",
      "---  ------                                        --------------    -----  \n",
      " 0   id                                            1504394 non-null  int64  \n",
      " 1   order_id                                      1504394 non-null  int64  \n",
      " 2   Driver ID                                     1504394 non-null  int64  \n",
      " 3   Driver Action                                 1504394 non-null  object \n",
      " 4   Driver Lat                                    1504394 non-null  float64\n",
      " 5   Driver Lon                                    1504394 non-null  float64\n",
      " 6   Trip ID                                       1504394 non-null  int64  \n",
      " 7   Trip Start Time                               1504394 non-null  object \n",
      " 8   Trip End Time                                 1504394 non-null  object \n",
      " 9   Trip Duration(minutes)                        1504394 non-null  float64\n",
      " 10  Day of Week                                   1504394 non-null  int64  \n",
      " 11  Hour of Day                                   1504394 non-null  int64  \n",
      " 12  Origin Lat                                    1504394 non-null  float64\n",
      " 13  Origin Lon                                    1504394 non-null  float64\n",
      " 14  Destination Lat                               1504394 non-null  float64\n",
      " 15  Destination Lon                               1504394 non-null  float64\n",
      " 16  Trip Distance (km)                            1504394 non-null  float64\n",
      " 17  Average Temperature(Celcius)                  1504394 non-null  float64\n",
      " 18  Wind Speed(km/h)                              1504394 non-null  float64\n",
      " 19  Air Pressure(hPa)                             1504394 non-null  float64\n",
      " 20  Is Cloudy                                     1504394 non-null  int64  \n",
      " 21  Is Fair                                       1504394 non-null  int64  \n",
      " 22  Is Fog                                        1504394 non-null  int64  \n",
      " 23  Is Thunderstorm                               1504394 non-null  int64  \n",
      " 24  Is Heavy Rain Shower                          1504394 non-null  int64  \n",
      " 25  Is Light Rain                                 1504394 non-null  int64  \n",
      " 26  Is Rain                                       1504394 non-null  int64  \n",
      " 27  Is Overcast                                   1504394 non-null  int64  \n",
      " 28  Is Heavy Rain                                 1504394 non-null  int64  \n",
      " 29  Is Clear                                      1504394 non-null  int64  \n",
      " 30  Is Holiday                                    1504394 non-null  int64  \n",
      " 31  Is Weekend                                    1504394 non-null  int64  \n",
      " 32  Distance From Driver to Origin Distance (km)  1504394 non-null  float64\n",
      " 33  Distance From Driver to Origin(km)            1504394 non-null  float64\n",
      "dtypes: float64(13), int64(18), object(3)\n",
      "memory usage: 390.2+ MB\n"
     ]
    }
   ],
   "source": [
    "merged_data.info()"
   ]
  },
  {
   "cell_type": "code",
   "execution_count": 48,
   "metadata": {},
   "outputs": [
    {
     "data": {
      "text/html": [
       "<div>\n",
       "<style scoped>\n",
       "    .dataframe tbody tr th:only-of-type {\n",
       "        vertical-align: middle;\n",
       "    }\n",
       "\n",
       "    .dataframe tbody tr th {\n",
       "        vertical-align: top;\n",
       "    }\n",
       "\n",
       "    .dataframe thead th {\n",
       "        text-align: right;\n",
       "    }\n",
       "</style>\n",
       "<table border=\"1\" class=\"dataframe\">\n",
       "  <thead>\n",
       "    <tr style=\"text-align: right;\">\n",
       "      <th></th>\n",
       "      <th>id</th>\n",
       "      <th>order_id</th>\n",
       "      <th>Driver ID</th>\n",
       "      <th>Driver Action</th>\n",
       "      <th>Driver Lat</th>\n",
       "      <th>Driver Lon</th>\n",
       "      <th>Trip ID</th>\n",
       "      <th>Trip Start Time</th>\n",
       "      <th>Trip End Time</th>\n",
       "      <th>Trip Duration(minutes)</th>\n",
       "      <th>...</th>\n",
       "      <th>Is Heavy Rain Shower</th>\n",
       "      <th>Is Light Rain</th>\n",
       "      <th>Is Rain</th>\n",
       "      <th>Is Overcast</th>\n",
       "      <th>Is Heavy Rain</th>\n",
       "      <th>Is Clear</th>\n",
       "      <th>Is Holiday</th>\n",
       "      <th>Is Weekend</th>\n",
       "      <th>Distance From Driver to Origin Distance (km)</th>\n",
       "      <th>Distance From Driver to Origin(km)</th>\n",
       "    </tr>\n",
       "  </thead>\n",
       "  <tbody>\n",
       "    <tr>\n",
       "      <th>0</th>\n",
       "      <td>1</td>\n",
       "      <td>392001</td>\n",
       "      <td>243828</td>\n",
       "      <td>accepted</td>\n",
       "      <td>6.602207</td>\n",
       "      <td>3.270465</td>\n",
       "      <td>392001</td>\n",
       "      <td>2021-07-01 09:30:59</td>\n",
       "      <td>2021-07-01 09:34:36</td>\n",
       "      <td>3.616667</td>\n",
       "      <td>...</td>\n",
       "      <td>0</td>\n",
       "      <td>0</td>\n",
       "      <td>0</td>\n",
       "      <td>0</td>\n",
       "      <td>0</td>\n",
       "      <td>0</td>\n",
       "      <td>0</td>\n",
       "      <td>0</td>\n",
       "      <td>0.693615</td>\n",
       "      <td>0.693615</td>\n",
       "    </tr>\n",
       "    <tr>\n",
       "      <th>1</th>\n",
       "      <td>2</td>\n",
       "      <td>392001</td>\n",
       "      <td>243588</td>\n",
       "      <td>rejected</td>\n",
       "      <td>6.592097</td>\n",
       "      <td>3.287445</td>\n",
       "      <td>392001</td>\n",
       "      <td>2021-07-01 09:30:59</td>\n",
       "      <td>2021-07-01 09:34:36</td>\n",
       "      <td>3.616667</td>\n",
       "      <td>...</td>\n",
       "      <td>0</td>\n",
       "      <td>0</td>\n",
       "      <td>0</td>\n",
       "      <td>0</td>\n",
       "      <td>0</td>\n",
       "      <td>0</td>\n",
       "      <td>0</td>\n",
       "      <td>0</td>\n",
       "      <td>1.554086</td>\n",
       "      <td>1.554086</td>\n",
       "    </tr>\n",
       "    <tr>\n",
       "      <th>2</th>\n",
       "      <td>3</td>\n",
       "      <td>392001</td>\n",
       "      <td>243830</td>\n",
       "      <td>rejected</td>\n",
       "      <td>6.596133</td>\n",
       "      <td>3.281784</td>\n",
       "      <td>392001</td>\n",
       "      <td>2021-07-01 09:30:59</td>\n",
       "      <td>2021-07-01 09:34:36</td>\n",
       "      <td>3.616667</td>\n",
       "      <td>...</td>\n",
       "      <td>0</td>\n",
       "      <td>0</td>\n",
       "      <td>0</td>\n",
       "      <td>0</td>\n",
       "      <td>0</td>\n",
       "      <td>0</td>\n",
       "      <td>0</td>\n",
       "      <td>0</td>\n",
       "      <td>0.788353</td>\n",
       "      <td>0.788353</td>\n",
       "    </tr>\n",
       "    <tr>\n",
       "      <th>3</th>\n",
       "      <td>4</td>\n",
       "      <td>392001</td>\n",
       "      <td>243539</td>\n",
       "      <td>rejected</td>\n",
       "      <td>6.596142</td>\n",
       "      <td>3.280526</td>\n",
       "      <td>392001</td>\n",
       "      <td>2021-07-01 09:30:59</td>\n",
       "      <td>2021-07-01 09:34:36</td>\n",
       "      <td>3.616667</td>\n",
       "      <td>...</td>\n",
       "      <td>0</td>\n",
       "      <td>0</td>\n",
       "      <td>0</td>\n",
       "      <td>0</td>\n",
       "      <td>0</td>\n",
       "      <td>0</td>\n",
       "      <td>0</td>\n",
       "      <td>0</td>\n",
       "      <td>0.694071</td>\n",
       "      <td>0.694071</td>\n",
       "    </tr>\n",
       "    <tr>\n",
       "      <th>4</th>\n",
       "      <td>5</td>\n",
       "      <td>392001</td>\n",
       "      <td>171653</td>\n",
       "      <td>rejected</td>\n",
       "      <td>6.609232</td>\n",
       "      <td>3.288800</td>\n",
       "      <td>392001</td>\n",
       "      <td>2021-07-01 09:30:59</td>\n",
       "      <td>2021-07-01 09:34:36</td>\n",
       "      <td>3.616667</td>\n",
       "      <td>...</td>\n",
       "      <td>0</td>\n",
       "      <td>0</td>\n",
       "      <td>0</td>\n",
       "      <td>0</td>\n",
       "      <td>0</td>\n",
       "      <td>0</td>\n",
       "      <td>0</td>\n",
       "      <td>0</td>\n",
       "      <td>1.623329</td>\n",
       "      <td>1.623329</td>\n",
       "    </tr>\n",
       "  </tbody>\n",
       "</table>\n",
       "<p>5 rows × 34 columns</p>\n",
       "</div>"
      ],
      "text/plain": [
       "   id  order_id  Driver ID Driver Action  Driver Lat  Driver Lon  Trip ID  \\\n",
       "0   1    392001     243828      accepted    6.602207    3.270465   392001   \n",
       "1   2    392001     243588      rejected    6.592097    3.287445   392001   \n",
       "2   3    392001     243830      rejected    6.596133    3.281784   392001   \n",
       "3   4    392001     243539      rejected    6.596142    3.280526   392001   \n",
       "4   5    392001     171653      rejected    6.609232    3.288800   392001   \n",
       "\n",
       "       Trip Start Time        Trip End Time  Trip Duration(minutes)  ...  \\\n",
       "0  2021-07-01 09:30:59  2021-07-01 09:34:36                3.616667  ...   \n",
       "1  2021-07-01 09:30:59  2021-07-01 09:34:36                3.616667  ...   \n",
       "2  2021-07-01 09:30:59  2021-07-01 09:34:36                3.616667  ...   \n",
       "3  2021-07-01 09:30:59  2021-07-01 09:34:36                3.616667  ...   \n",
       "4  2021-07-01 09:30:59  2021-07-01 09:34:36                3.616667  ...   \n",
       "\n",
       "   Is Heavy Rain Shower  Is Light Rain  Is Rain  Is Overcast  Is Heavy Rain  \\\n",
       "0                     0              0        0            0              0   \n",
       "1                     0              0        0            0              0   \n",
       "2                     0              0        0            0              0   \n",
       "3                     0              0        0            0              0   \n",
       "4                     0              0        0            0              0   \n",
       "\n",
       "   Is Clear  Is Holiday  Is Weekend  \\\n",
       "0         0           0           0   \n",
       "1         0           0           0   \n",
       "2         0           0           0   \n",
       "3         0           0           0   \n",
       "4         0           0           0   \n",
       "\n",
       "   Distance From Driver to Origin Distance (km)  \\\n",
       "0                                      0.693615   \n",
       "1                                      1.554086   \n",
       "2                                      0.788353   \n",
       "3                                      0.694071   \n",
       "4                                      1.623329   \n",
       "\n",
       "   Distance From Driver to Origin(km)  \n",
       "0                            0.693615  \n",
       "1                            1.554086  \n",
       "2                            0.788353  \n",
       "3                            0.694071  \n",
       "4                            1.623329  \n",
       "\n",
       "[5 rows x 34 columns]"
      ]
     },
     "execution_count": 48,
     "metadata": {},
     "output_type": "execute_result"
    }
   ],
   "source": [
    "merged_data.head()"
   ]
  },
  {
   "cell_type": "code",
   "execution_count": 49,
   "metadata": {},
   "outputs": [
    {
     "data": {
      "text/plain": [
       "(1504394, 34)"
      ]
     },
     "execution_count": 49,
     "metadata": {},
     "output_type": "execute_result"
    }
   ],
   "source": [
    "merged_data.shape"
   ]
  },
  {
   "cell_type": "code",
   "execution_count": 50,
   "metadata": {},
   "outputs": [
    {
     "data": {
      "text/plain": [
       "Index(['id', 'order_id', 'Driver ID', 'Driver Action', 'Driver Lat',\n",
       "       'Driver Lon', 'Trip ID', 'Trip Start Time', 'Trip End Time',\n",
       "       'Trip Duration(minutes)', 'Day of Week', 'Hour of Day', 'Origin Lat',\n",
       "       'Origin Lon', 'Destination Lat', 'Destination Lon',\n",
       "       'Trip Distance (km)', 'Average Temperature(Celcius)',\n",
       "       'Wind Speed(km/h)', 'Air Pressure(hPa)', 'Is Cloudy', 'Is Fair',\n",
       "       'Is Fog', 'Is Thunderstorm', 'Is Heavy Rain Shower', 'Is Light Rain',\n",
       "       'Is Rain', 'Is Overcast', 'Is Heavy Rain', 'Is Clear', 'Is Holiday',\n",
       "       'Is Weekend', 'Distance From Driver to Origin Distance (km)',\n",
       "       'Distance From Driver to Origin(km)'],\n",
       "      dtype='object')"
      ]
     },
     "execution_count": 50,
     "metadata": {},
     "output_type": "execute_result"
    }
   ],
   "source": [
    "merged_data.columns"
   ]
  },
  {
   "cell_type": "code",
   "execution_count": null,
   "metadata": {},
   "outputs": [],
   "source": []
  }
 ],
 "metadata": {
  "kernelspec": {
   "display_name": "causal",
   "language": "python",
   "name": "python3"
  },
  "language_info": {
   "codemirror_mode": {
    "name": "ipython",
    "version": 3
   },
   "file_extension": ".py",
   "mimetype": "text/x-python",
   "name": "python",
   "nbconvert_exporter": "python",
   "pygments_lexer": "ipython3",
   "version": "3.12.0"
  }
 },
 "nbformat": 4,
 "nbformat_minor": 2
}
